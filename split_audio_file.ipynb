{
 "cells": [
  {
   "cell_type": "code",
   "execution_count": 3,
   "id": "b06f7171",
   "metadata": {},
   "outputs": [
    {
     "name": "stdout",
     "output_type": "stream",
     "text": [
      "Requirement already satisfied: pydub in c:\\users\\nagarwal\\anaconda3\\lib\\site-packages (0.25.1)\n"
     ]
    }
   ],
   "source": [
    "!pip install pydub"
   ]
  },
  {
   "cell_type": "code",
   "execution_count": 7,
   "id": "988a2677",
   "metadata": {},
   "outputs": [],
   "source": [
    "from pydub import AudioSegment\n",
    "  \n"
   ]
  },
  {
   "cell_type": "code",
   "execution_count": 12,
   "id": "271edd88",
   "metadata": {},
   "outputs": [
    {
     "data": {
      "text/plain": [
       "<_io.BufferedRandom name='FactsBeats90_0013-11.wav'>"
      ]
     },
     "execution_count": 12,
     "metadata": {},
     "output_type": "execute_result"
    }
   ],
   "source": [
    "song = AudioSegment.from_wav(\"FactsBeats90.wav\")\n",
    "\n",
    "# pydub does things in milliseconds\n",
    "#ten_seconds = 10 * 1000\n",
    "t2 = 10 * 300\n",
    "  \n",
    "file_1 = song[ : t2*1 ]\n",
    "file_2 = song[ t2*1 : t2*2 ]\n",
    "file_3 = song[ t2*2 : t2*3 ]\n",
    "file_4 = song[ t2*3 : t2*4 ]\n",
    "file_5 = song[ t2*4 : t2*5 ]\n",
    "file_6 = song[ t2*5 : t2*6 ]\n",
    "file_7 = song[ t2*6 : t2*7 ]\n",
    "file_8 = song[ t2*7 : t2*8 ]\n",
    "file_9 = song[ t2*8 : t2*9 ]\n",
    "file_10 = song[ t2*9 : t2*10 ]\n",
    "file_11 = song[ t2*10 : t2*12 ]\n",
    "  \n",
    "#last_5_seconds = song[-5000:]\n",
    "\n",
    "\n",
    "file_1.export(\"FactsBeats90_0013-1.wav\", format=\"wav\")\n",
    "file_2.export(\"FactsBeats90_0013-2.wav\", format=\"wav\")\n",
    "file_3.export(\"FactsBeats90_0013-3.wav\", format=\"wav\")\n",
    "file_4.export(\"FactsBeats90_0013-4.wav\", format=\"wav\")\n",
    "file_5.export(\"FactsBeats90_0013-5.wav\", format=\"wav\")\n",
    "file_6.export(\"FactsBeats90_0013-6.wav\", format=\"wav\")\n",
    "file_7.export(\"FactsBeats90_0013-7.wav\", format=\"wav\")\n",
    "file_8.export(\"FactsBeats90_0013-8.wav\", format=\"wav\")\n",
    "file_9.export(\"FactsBeats90_0013-9.wav\", format=\"wav\")\n",
    "file_10.export(\"FactsBeats90_0013-10.wav\", format=\"wav\")\n",
    "file_11.export(\"FactsBeats90_0013-11.wav\", format=\"wav\")\n"
   ]
  },
  {
   "cell_type": "code",
   "execution_count": 6,
   "id": "d3c5949a",
   "metadata": {},
   "outputs": [
    {
     "data": {
      "text/plain": [
       "<_io.BufferedRandom name='Neendapp_0008-11.wav'>"
      ]
     },
     "execution_count": 6,
     "metadata": {},
     "output_type": "execute_result"
    }
   ],
   "source": [
    "#file_11 = song[ t2*10 : t2*12 ]\n",
    "#file_11.export(\"Neendapp_0008-11.wav\", format=\"wav\")"
   ]
  },
  {
   "cell_type": "code",
   "execution_count": null,
   "id": "2b7f508a",
   "metadata": {},
   "outputs": [],
   "source": []
  }
 ],
 "metadata": {
  "kernelspec": {
   "display_name": "Python 3 (ipykernel)",
   "language": "python",
   "name": "python3"
  },
  "language_info": {
   "codemirror_mode": {
    "name": "ipython",
    "version": 3
   },
   "file_extension": ".py",
   "mimetype": "text/x-python",
   "name": "python",
   "nbconvert_exporter": "python",
   "pygments_lexer": "ipython3",
   "version": "3.9.7"
  }
 },
 "nbformat": 4,
 "nbformat_minor": 5
}
