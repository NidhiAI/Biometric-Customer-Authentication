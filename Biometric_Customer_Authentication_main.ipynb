{
  "nbformat": 4,
  "nbformat_minor": 0,
  "metadata": {
    "colab": {
      "provenance": []
    },
    "kernelspec": {
      "name": "python3",
      "display_name": "Python 3"
    },
    "language_info": {
      "name": "python"
    }
  },
  "cells": [
    {
      "cell_type": "code",
      "execution_count": null,
      "metadata": {
        "colab": {
          "base_uri": "https://localhost:8080/"
        },
        "id": "Ayc50X4WUssk",
        "outputId": "9ef720ac-bf16-4695-fa34-0d80462597cc"
      },
      "outputs": [
        {
          "output_type": "stream",
          "name": "stdout",
          "text": [
            "Cloning into 'Biometric-Customer-Authentication'...\n",
            "remote: Enumerating objects: 1232, done.\u001b[K\n",
            "remote: Counting objects: 100% (300/300), done.\u001b[K\n",
            "remote: Compressing objects: 100% (206/206), done.\u001b[K\n",
            "remote: Total 1232 (delta 101), reused 292 (delta 94), pack-reused 932\u001b[K\n",
            "Receiving objects: 100% (1232/1232), 94.13 MiB | 19.61 MiB/s, done.\n",
            "Resolving deltas: 100% (415/415), done.\n",
            "Updating files: 100% (554/554), done.\n"
          ]
        }
      ],
      "source": [
        "!git clone https://github.com/NidhiAI/Biometric-Customer-Authentication"
      ]
    },
    {
      "cell_type": "code",
      "source": [
        "!pip install python_speech_features"
      ],
      "metadata": {
        "colab": {
          "base_uri": "https://localhost:8080/"
        },
        "id": "MIcDA935UuFD",
        "outputId": "820f10f8-d386-467e-82a1-1332755f3aa8"
      },
      "execution_count": null,
      "outputs": [
        {
          "output_type": "stream",
          "name": "stdout",
          "text": [
            "Looking in indexes: https://pypi.org/simple, https://us-python.pkg.dev/colab-wheels/public/simple/\n",
            "Collecting python_speech_features\n",
            "  Downloading python_speech_features-0.6.tar.gz (5.6 kB)\n",
            "  Preparing metadata (setup.py) ... \u001b[?25l\u001b[?25hdone\n",
            "Building wheels for collected packages: python_speech_features\n",
            "  Building wheel for python_speech_features (setup.py) ... \u001b[?25l\u001b[?25hdone\n",
            "  Created wheel for python_speech_features: filename=python_speech_features-0.6-py3-none-any.whl size=5870 sha256=d20a2c9f7048a600d75f564e7766b073a0389c0f66ca9b07ba1cc07b9f0254f2\n",
            "  Stored in directory: /root/.cache/pip/wheels/5a/9e/68/30bad9462b3926c29e315df16b562216d12bdc215f4d240294\n",
            "Successfully built python_speech_features\n",
            "Installing collected packages: python_speech_features\n",
            "Successfully installed python_speech_features-0.6\n"
          ]
        }
      ]
    },
    {
      "cell_type": "code",
      "source": [
        "cd '/content/Biometric-Customer-Authentication'"
      ],
      "metadata": {
        "colab": {
          "base_uri": "https://localhost:8080/"
        },
        "id": "PStwI0sQU27d",
        "outputId": "4aba7c7d-11d6-4b4b-bfc1-b81e16ef3a23"
      },
      "execution_count": null,
      "outputs": [
        {
          "output_type": "stream",
          "name": "stdout",
          "text": [
            "/content/Biometric-Customer-Authentication\n"
          ]
        }
      ]
    },
    {
      "cell_type": "code",
      "source": [
        "!python FeatureExtraction.py"
      ],
      "metadata": {
        "id": "v-GYJZ4LU6jM"
      },
      "execution_count": null,
      "outputs": []
    },
    {
      "cell_type": "code",
      "source": [
        "!python TrainingModel.py"
      ],
      "metadata": {
        "colab": {
          "base_uri": "https://localhost:8080/"
        },
        "id": "qhgqDpSIU9FA",
        "outputId": "bbbf9d62-8364-4b0b-96d0-eb97ecec891e"
      },
      "execution_count": null,
      "outputs": [
        {
          "output_type": "stream",
          "name": "stdout",
          "text": [
            "Akshay_Kumar_0001/Akshay_Kumar_0001-1.wav\n",
            "Akshay_Kumar_0001/Akshay_Kumar_0001-2.wav\n",
            "Akshay_Kumar_0001/Akshay_Kumar_0001-3.wav\n",
            "Akshay_Kumar_0001/Akshay_Kumar_0001-4.wav\n",
            "Akshay_Kumar_0001/Akshay_Kumar_0001-5.wav\n",
            "Akshay_Kumar_0001/Akshay_Kumar_0001-6.wav\n",
            "Akshay_Kumar_0001/Akshay_Kumar_0001-7.wav\n",
            "Akshay_Kumar_0001/Akshay_Kumar_0001-8.wav\n",
            "Akshay_Kumar_0001/Akshay_Kumar_0001-9.wav\n",
            "Akshay_Kumar_0001/Akshay_Kumar_0001-10.wav\n",
            "Training / GMM modeling completed for speaker: Akshay_Kumar_0001.gmm \n",
            "\n",
            "Amir_Khan_0002/Amir_Khan_0002-1.wav\n",
            "Amir_Khan_0002/Amir_Khan_0002-2.wav\n",
            "Amir_Khan_0002/Amir_Khan_0002-3.wav\n",
            "Amir_Khan_0002/Amir_Khan_0002-4.wav\n",
            "Amir_Khan_0002/Amir_Khan_0002-5.wav\n",
            "Amir_Khan_0002/Amir_Khan_0002-6.wav\n",
            "Amir_Khan_0002/Amir_Khan_0002-7.wav\n",
            "Amir_Khan_0002/Amir_Khan_0002-8.wav\n",
            "Amir_Khan_0002/Amir_Khan_0002-9.wav\n",
            "Amir_Khan_0002/Amir_Khan_0002-10.wav\n",
            "Training / GMM modeling completed for speaker: Amir_Khan_0002.gmm \n",
            "\n",
            "Irfan_khan_0003/Irfan_khan_0003-1.wav\n",
            "Irfan_khan_0003/Irfan_khan_0003-2.wav\n",
            "Irfan_khan_0003/Irfan_khan_0003-3.wav\n",
            "Irfan_khan_0003/Irfan_khan_0003-4.wav\n",
            "Irfan_khan_0003/Irfan_khan_0003-5.wav\n",
            "Irfan_khan_0003/Irfan_khan_0003-6.wav\n",
            "Irfan_khan_0003/Irfan_khan_0003-7.wav\n",
            "Irfan_khan_0003/Irfan_khan_0003-8.wav\n",
            "Irfan_khan_0003/Irfan_khan_0003-9.wav\n",
            "Irfan_khan_0003/Irfan_khan_0003-10.wav\n",
            "Training / GMM modeling completed for speaker: Irfan_khan_0003.gmm \n",
            "\n",
            "John_Abraham_0004/John_Abraham_0004-1.wav\n",
            "John_Abraham_0004/John_Abraham_0004-2.wav\n",
            "John_Abraham_0004/John_Abraham_0004-3.wav\n",
            "John_Abraham_0004/John_Abraham_0004-4.wav\n",
            "John_Abraham_0004/John_Abraham_0004-5.wav\n",
            "John_Abraham_0004/John_Abraham_0004-6.wav\n",
            "John_Abraham_0004/John_Abraham_0004-7.wav\n",
            "John_Abraham_0004/John_Abraham_0004-8.wav\n",
            "John_Abraham_0004/John_Abraham_0004-9.wav\n",
            "John_Abraham_0004/John_Abraham_0004-10.wav\n",
            "Training / GMM modeling completed for speaker: John_Abraham_0004.gmm \n",
            "\n",
            "Kangana_Ranaut_0005/Kangana_Ranaut_0005-1.wav\n",
            "Kangana_Ranaut_0005/Kangana_Ranaut_0005-2.wav\n",
            "Kangana_Ranaut_0005/Kangana_Ranaut_0005-3.wav\n",
            "Kangana_Ranaut_0005/Kangana_Ranaut_0005-4.wav\n",
            "Kangana_Ranaut_0005/Kangana_Ranaut_0005-5.wav\n",
            "Kangana_Ranaut_0005/Kangana_Ranaut_0005-6.wav\n",
            "Kangana_Ranaut_0005/Kangana_Ranaut_0005-7.wav\n",
            "Kangana_Ranaut_0005/Kangana_Ranaut_0005-8.wav\n",
            "Kangana_Ranaut_0005/Kangana_Ranaut_0005-9.wav\n",
            "Kangana_Ranaut_0005/Kangana_Ranaut_0005-10.wav\n",
            "Training / GMM modeling completed for speaker: Kangana_Ranaut_0005.gmm \n",
            "\n",
            "Parineeti_Chopra_0006/Parineeti_Chopra_0006-1.wav\n",
            "Parineeti_Chopra_0006/Parineeti_Chopra_0006-2.wav\n",
            "Parineeti_Chopra_0006/Parineeti_Chopra_0006-3.wav\n",
            "Parineeti_Chopra_0006/Parineeti_Chopra_0006-4.wav\n",
            "Parineeti_Chopra_0006/Parineeti_Chopra_0006-5.wav\n",
            "Parineeti_Chopra_0006/Parineeti_Chopra_0006-6.wav\n",
            "Parineeti_Chopra_0006/Parineeti_Chopra_0006-7.wav\n",
            "Parineeti_Chopra_0006/Parineeti_Chopra_0006-8.wav\n",
            "Parineeti_Chopra_0006/Parineeti_Chopra_0006-9.wav\n",
            "Parineeti_Chopra_0006/Parineeti_Chopra_0006-10.wav\n",
            "Training / GMM modeling completed for speaker: Parineeti_Chopra_0006.gmm \n",
            "\n",
            "Vidya_Balan_0007/Vidya_Balan_0007-1.wav\n",
            "Vidya_Balan_0007/Vidya_Balan_0007-2.wav\n",
            "Vidya_Balan_0007/Vidya_Balan_0007-3.wav\n",
            "Vidya_Balan_0007/Vidya_Balan_0007-4.wav\n",
            "Vidya_Balan_0007/Vidya_Balan_0007-5.wav\n",
            "Vidya_Balan_0007/Vidya_Balan_0007-6.wav\n",
            "Vidya_Balan_0007/Vidya_Balan_0007-7.wav\n",
            "Vidya_Balan_0007/Vidya_Balan_0007-8.wav\n",
            "Vidya_Balan_0007/Vidya_Balan_0007-9.wav\n",
            "Vidya_Balan_0007/Vidya_Balan_0007-10.wav\n",
            "Training / GMM modeling completed for speaker: Vidya_Balan_0007.gmm \n",
            "\n",
            "Neendapp_0008/Neendapp_0008-1.wav\n",
            "Neendapp_0008/Neendapp_0008-2.wav\n",
            "Neendapp_0008/Neendapp_0008-3.wav\n",
            "Neendapp_0008/Neendapp_0008-4.wav\n",
            "Neendapp_0008/Neendapp_0008-5.wav\n",
            "Neendapp_0008/Neendapp_0008-6.wav\n",
            "Neendapp_0008/Neendapp_0008-7.wav\n",
            "Neendapp_0008/Neendapp_0008-8.wav\n",
            "Neendapp_0008/Neendapp_0008-9.wav\n",
            "Neendapp_0008/Neendapp_0008-10.wav\n",
            "Training / GMM modeling completed for speaker: Neendapp_0008.gmm \n",
            "\n",
            "Pooja_Stories_0009/Pooja_Stories_0009-1.wav\n",
            "Pooja_Stories_0009/Pooja_Stories_0009-2.wav\n",
            "Pooja_Stories_0009/Pooja_Stories_0009-3.wav\n",
            "Pooja_Stories_0009/Pooja_Stories_0009-4.wav\n",
            "Pooja_Stories_0009/Pooja_Stories_0009-5.wav\n",
            "Pooja_Stories_0009/Pooja_Stories_0009-6.wav\n",
            "Pooja_Stories_0009/Pooja_Stories_0009-7.wav\n",
            "Pooja_Stories_0009/Pooja_Stories_0009-8.wav\n",
            "Pooja_Stories_0009/Pooja_Stories_0009-9.wav\n",
            "Pooja_Stories_0009/Pooja_Stories_0009-10.wav\n",
            "Training / GMM modeling completed for speaker: Pooja_Stories_0009.gmm \n",
            "\n",
            "Prerana_0010/Prerana_0010-1.wav\n",
            "Prerana_0010/Prerana_0010-2.wav\n",
            "Prerana_0010/Prerana_0010-3.wav\n",
            "Prerana_0010/Prerana_0010-4.wav\n",
            "Prerana_0010/Prerana_0010-5.wav\n",
            "Prerana_0010/Prerana_0010-6.wav\n",
            "Prerana_0010/Prerana_0010-7.wav\n",
            "Prerana_0010/Prerana_0010-8.wav\n",
            "Prerana_0010/Prerana_0010-9.wav\n",
            "Prerana_0010/Prerana_0010-10.wav\n",
            "Training / GMM modeling completed for speaker: Prerana_0010.gmm \n",
            "\n",
            "BollywoodKaKeeda_0011/BollywoodKaKeeda_0011-1.wav\n",
            "BollywoodKaKeeda_0011/BollywoodKaKeeda_0011-2.wav\n",
            "BollywoodKaKeeda_0011/BollywoodKaKeeda_0011-3.wav\n",
            "BollywoodKaKeeda_0011/BollywoodKaKeeda_0011-4.wav\n",
            "BollywoodKaKeeda_0011/BollywoodKaKeeda_0011-5.wav\n",
            "BollywoodKaKeeda_0011/BollywoodKaKeeda_0011-6.wav\n",
            "BollywoodKaKeeda_0011/BollywoodKaKeeda_0011-7.wav\n",
            "BollywoodKaKeeda_0011/BollywoodKaKeeda_0011-8.wav\n",
            "BollywoodKaKeeda_0011/BollywoodKaKeeda_0011-9.wav\n",
            "BollywoodKaKeeda_0011/BollywoodKaKeeda_0011-10.wav\n",
            "Training / GMM modeling completed for speaker: BollywoodKaKeeda_0011.gmm \n",
            "\n",
            "HindiTVIndia_0012/HindiTVIndia_0012-1.wav\n",
            "HindiTVIndia_0012/HindiTVIndia_0012-2.wav\n",
            "HindiTVIndia_0012/HindiTVIndia_0012-3.wav\n",
            "HindiTVIndia_0012/HindiTVIndia_0012-4.wav\n",
            "HindiTVIndia_0012/HindiTVIndia_0012-5.wav\n",
            "HindiTVIndia_0012/HindiTVIndia_0012-6.wav\n",
            "HindiTVIndia_0012/HindiTVIndia_0012-7.wav\n",
            "HindiTVIndia_0012/HindiTVIndia_0012-8.wav\n",
            "HindiTVIndia_0012/HindiTVIndia_0012-9.wav\n",
            "HindiTVIndia_0012/HindiTVIndia_0012-10.wav\n",
            "Training / GMM modeling completed for speaker: HindiTVIndia_0012.gmm \n",
            "\n",
            "FactsBeats90_0013/FactsBeats90_0013-1.wav\n",
            "FactsBeats90_0013/FactsBeats90_0013-2.wav\n",
            "FactsBeats90_0013/FactsBeats90_0013-3.wav\n",
            "FactsBeats90_0013/FactsBeats90_0013-4.wav\n",
            "FactsBeats90_0013/FactsBeats90_0013-5.wav\n",
            "FactsBeats90_0013/FactsBeats90_0013-6.wav\n",
            "FactsBeats90_0013/FactsBeats90_0013-7.wav\n",
            "FactsBeats90_0013/FactsBeats90_0013-8.wav\n",
            "FactsBeats90_0013/FactsBeats90_0013-9.wav\n",
            "FactsBeats90_0013/FactsBeats90_0013-10.wav\n",
            "Training / GMM modeling completed for speaker: FactsBeats90_0013.gmm \n",
            "\n",
            "aew_0051/aew_0051-1.wav\n",
            "aew_0051/aew_0051-2.wav\n",
            "aew_0051/aew_0051-3.wav\n",
            "aew_0051/aew_0051-4.wav\n",
            "aew_0051/aew_0051-5.wav\n",
            "aew_0051/aew_0051-6.wav\n",
            "aew_0051/aew_0051-7.wav\n",
            "aew_0051/aew_0051-8.wav\n",
            "aew_0051/aew_0051-8.wav\n",
            "aew_0051/aew_0051-10.wav\n",
            "Training / GMM modeling completed for speaker: aew_0051.gmm \n",
            "\n",
            "ahw_0052/ahw_0052-1.wav\n",
            "ahw_0052/ahw_0052-2.wav\n",
            "ahw_0052/ahw_0052-3.wav\n",
            "ahw_0052/ahw_0052-4.wav\n",
            "ahw_0052/ahw_0052-5.wav\n",
            "ahw_0052/ahw_0052-6.wav\n",
            "ahw_0052/ahw_0052-7.wav\n",
            "ahw_0052/ahw_0052-8.wav\n",
            "ahw_0052/ahw_0052-9.wav\n",
            "ahw_0052/ahw_0052-10.wav\n",
            "Training / GMM modeling completed for speaker: ahw_0052.gmm \n",
            "\n",
            "aup_0053/aup_0053-1.wav\n",
            "aup_0053/aup_0053-2.wav\n",
            "aup_0053/aup_0053-3.wav\n",
            "aup_0053/aup_0053-4.wav\n",
            "aup_0053/aup_0053-5.wav\n",
            "aup_0053/aup_0053-6.wav\n",
            "aup_0053/aup_0053-7.wav\n",
            "aup_0053/aup_0053-7.wav\n",
            "aup_0053/aup_0053-9.wav\n",
            "aup_0053/aup_0053-10.wav\n",
            "Training / GMM modeling completed for speaker: aup_0053.gmm \n",
            "\n",
            "awb_0054/awb_0054-1.wav\n",
            "awb_0054/awb_0054-2.wav\n",
            "awb_0054/awb_0054-3.wav\n",
            "awb_0054/awb_0054-4.wav\n",
            "awb_0054/awb_0054-5.wav\n",
            "awb_0054/awb_0054-6.wav\n",
            "awb_0054/awb_0054-7.wav\n",
            "awb_0054/awb_0054-8.wav\n",
            "awb_0054/awb_0054-9.wav\n",
            "awb_0054/awb_0054-10.wav\n",
            "Training / GMM modeling completed for speaker: awb_0054.gmm \n",
            "\n",
            "axb_0055/axb_0055-1.wav\n",
            "axb_0055/axb_0055-2.wav\n",
            "axb_0055/axb_0055-3.wav\n",
            "axb_0055/axb_0055-4.wav\n",
            "axb_0055/axb_0055-5.wav\n",
            "axb_0055/axb_0055-6.wav\n",
            "axb_0055/axb_0055-7.wav\n",
            "axb_0055/axb_0055-8.wav\n",
            "axb_0055/axb_0055-9.wav\n",
            "axb_0055/axb_0055-10.wav\n",
            "Training / GMM modeling completed for speaker: axb_0055.gmm \n",
            "\n",
            "bdl_0056/bdl_0056-1.wav\n",
            "bdl_0056/bdl_0056-2.wav\n",
            "bdl_0056/bdl_0056-3.wav\n",
            "bdl_0056/bdl_0056-4.wav\n",
            "bdl_0056/bdl_0056-5.wav\n",
            "bdl_0056/bdl_0056-6.wav\n",
            "bdl_0056/bdl_0056-7.wav\n",
            "bdl_0056/bdl_0056-8.wav\n",
            "bdl_0056/bdl_0056-9.wav\n",
            "bdl_0056/bdl_0056-10.wav\n",
            "Training / GMM modeling completed for speaker: bdl_0056.gmm \n",
            "\n",
            "clb_0057/clb_0057-1.wav\n",
            "clb_0057/clb_0057-2.wav\n",
            "clb_0057/clb_0057-3.wav\n",
            "clb_0057/clb_0057-4.wav\n",
            "clb_0057/clb_0057-5.wav\n",
            "clb_0057/clb_0057-6.wav\n",
            "clb_0057/clb_0057-7.wav\n",
            "clb_0057/clb_0057-8.wav\n",
            "clb_0057/clb_0057-9.wav\n",
            "clb_0057/clb_0057-10.wav\n",
            "Training / GMM modeling completed for speaker: clb_0057.gmm \n",
            "\n",
            "eey_0058/eey_0058-1.wav\n",
            "eey_0058/eey_0058-2.wav\n",
            "eey_0058/eey_0058-3.wav\n",
            "eey_0058/eey_0058-4.wav\n",
            "eey_0058/eey_0058-5.wav\n",
            "eey_0058/eey_0058-6.wav\n",
            "eey_0058/eey_0058-7.wav\n",
            "eey_0058/eey_0058-8.wav\n",
            "eey_0058/eey_0058-9.wav\n",
            "eey_0058/eey_0058-10.wav\n",
            "Training / GMM modeling completed for speaker: eey_0058.gmm \n",
            "\n",
            "fem_0059/fem_0059-1.wav\n",
            "fem_0059/fem_0059-2.wav\n",
            "fem_0059/fem_0059-3.wav\n",
            "fem_0059/fem_0059-4.wav\n",
            "fem_0059/fem_0059-5.wav\n",
            "fem_0059/fem_0059-6.wav\n",
            "fem_0059/fem_0059-7.wav\n",
            "fem_0059/fem_0059-8.wav\n",
            "fem_0059/fem_0059-9.wav\n",
            "fem_0059/fem_0059-10.wav\n",
            "Training / GMM modeling completed for speaker: fem_0059.gmm \n",
            "\n",
            "gka_0060/gka_0060-1.wav\n",
            "gka_0060/gka_0060-2.wav\n",
            "gka_0060/gka_0060-3.wav\n",
            "gka_0060/gka_0060-4.wav\n",
            "gka_0060/gka_0060-5.wav\n",
            "gka_0060/gka_0060-6.wav\n",
            "gka_0060/gka_0060-7.wav\n",
            "gka_0060/gka_0060-8.wav\n",
            "gka_0060/gka_0060-9.wav\n",
            "gka_0060/gka_0060-10.wav\n",
            "Training / GMM modeling completed for speaker: gka_0060.gmm \n",
            "\n",
            "jmk_0061/jmk_0061-1.wav\n",
            "jmk_0061/jmk_0061-2.wav\n",
            "jmk_0061/jmk_0061-3.wav\n",
            "jmk_0061/jmk_0061-4.wav\n",
            "jmk_0061/jmk_0061-5.wav\n",
            "jmk_0061/jmk_0061-6.wav\n",
            "jmk_0061/jmk_0061-7.wav\n",
            "jmk_0061/jmk_0061-8.wav\n",
            "jmk_0061/jmk_0061-9.wav\n",
            "jmk_0061/jmk_0061-10.wav\n",
            "Training / GMM modeling completed for speaker: jmk_0061.gmm \n",
            "\n",
            "ksp_0062/ksp_0062-1.wav\n",
            "ksp_0062/ksp_0062-2.wav\n",
            "ksp_0062/ksp_0062-3.wav\n",
            "ksp_0062/ksp_0062-4.wav\n",
            "ksp_0062/ksp_0062-5.wav\n",
            "ksp_0062/ksp_0062-6.wav\n",
            "ksp_0062/ksp_0062-7.wav\n",
            "ksp_0062/ksp_0062-8.wav\n",
            "ksp_0062/ksp_0062-9.wav\n",
            "ksp_0062/ksp_0062-10.wav\n",
            "Training / GMM modeling completed for speaker: ksp_0062.gmm \n",
            "\n",
            "ljm_0063/ljm_0063-1.wav\n",
            "ljm_0063/ljm_0063-2.wav\n",
            "ljm_0063/ljm_0063-3.wav\n",
            "ljm_0063/ljm_0063-4.wav\n",
            "ljm_0063/ljm_0063-5.wav\n",
            "ljm_0063/ljm_0063-6.wav\n",
            "ljm_0063/ljm_0063-7.wav\n",
            "ljm_0063/ljm_0063-8.wav\n",
            "ljm_0063/ljm_0063-9.wav\n",
            "ljm_0063/ljm_0063-10.wav\n",
            "Training / GMM modeling completed for speaker: ljm_0063.gmm \n",
            "\n",
            "lnh_0064/lnh_0064-1.wav\n",
            "lnh_0064/lnh_0064-2.wav\n",
            "lnh_0064/lnh_0064-3.wav\n",
            "lnh_0064/lnh_0064-4.wav\n",
            "lnh_0064/lnh_0064-5.wav\n",
            "lnh_0064/lnh_0064-6.wav\n",
            "lnh_0064/lnh_0064-7.wav\n",
            "lnh_0064/lnh_0064-8.wav\n",
            "lnh_0064/lnh_0064-9.wav\n",
            "lnh_0064/lnh_0064-10.wav\n",
            "Training / GMM modeling completed for speaker: lnh_0064.gmm \n",
            "\n",
            "rms_0065/rms_0065-1.wav\n",
            "rms_0065/rms_0065-2.wav\n",
            "rms_0065/rms_0065-3.wav\n",
            "rms_0065/rms_0065-4.wav\n",
            "rms_0065/rms_0065-5.wav\n",
            "rms_0065/rms_0065-6.wav\n",
            "rms_0065/rms_0065-7.wav\n",
            "rms_0065/rms_0065-8.wav\n",
            "rms_0065/rms_0065-9.wav\n",
            "rms_0065/rms_0065-10.wav\n",
            "Training / GMM modeling completed for speaker: rms_0065.gmm \n",
            "\n",
            "rxr_0066/rxr_0066-1.wav\n",
            "rxr_0066/rxr_0066-2.wav\n",
            "rxr_0066/rxr_0066-3.wav\n",
            "rxr_0066/rxr_0066-4.wav\n",
            "rxr_0066/rxr_0066-5.wav\n",
            "rxr_0066/rxr_0066-6.wav\n",
            "rxr_0066/rxr_0066-7.wav\n",
            "rxr_0066/rxr_0066-8.wav\n",
            "rxr_0066/rxr_0066-9.wav\n",
            "rxr_0066/rxr_0066-10.wav\n",
            "Training / GMM modeling completed for speaker: rxr_0066.gmm \n",
            "\n",
            "slp_0067/slp_0067-1.wav\n",
            "slp_0067/slp_0067-2.wav\n",
            "slp_0067/slp_0067-3.wav\n",
            "slp_0067/slp_0067-4.wav\n",
            "slp_0067/slp_0067-5.wav\n",
            "slp_0067/slp_0067-6.wav\n",
            "slp_0067/slp_0067-7.wav\n",
            "slp_0067/slp_0067-8.wav\n",
            "slp_0067/slp_0067-8.wav\n",
            "slp_0067/slp_0067-10.wav\n",
            "Training / GMM modeling completed for speaker: slp_0067.gmm \n",
            "\n",
            "slt_0068/slt_0068-1.wav\n",
            "slt_0068/slt_0068-2.wav\n",
            "slt_0068/slt_0068-3.wav\n",
            "slt_0068/slt_0068-4.wav\n",
            "slt_0068/slt_0068-5.wav\n",
            "slt_0068/slt_0068-6.wav\n",
            "slt_0068/slt_0068-7.wav\n",
            "slt_0068/slt_0068-8.wav\n",
            "slt_0068/slt_0068-9.wav\n",
            "slt_0068/slt_0068-10.wav\n",
            "Training / GMM modeling completed for speaker: slt_0068.gmm \n",
            "\n",
            "ID_4002_0071/ID_4002_0071-1.wav\n",
            "ID_4002_0071/ID_4002_0071-2.wav\n",
            "ID_4002_0071/ID_4002_0071-3.wav\n",
            "ID_4002_0071/ID_4002_0071-4.wav\n",
            "ID_4002_0071/ID_4002_0071-5.wav\n",
            "ID_4002_0071/ID_4002_0071-6.wav\n",
            "ID_4002_0071/ID_4002_0071-7.wav\n",
            "ID_4002_0071/ID_4002_0071-8.wav\n",
            "ID_4002_0071/ID_4002_0071-9.wav\n",
            "ID_4002_0071/ID_4002_0071-10.wav\n",
            "Training / GMM modeling completed for speaker: ID_4002_0071.gmm \n",
            "\n",
            "ID_4005_0072/ID_4005_0072-1.wav\n",
            "ID_4005_0072/ID_4005_0072-2.wav\n",
            "ID_4005_0072/ID_4005_0072-3.wav\n",
            "ID_4005_0072/ID_4005_0072-4.wav\n",
            "ID_4005_0072/ID_4005_0072-5.wav\n",
            "ID_4005_0072/ID_4005_0072-6.wav\n",
            "ID_4005_0072/ID_4005_0072-7.wav\n",
            "ID_4005_0072/ID_4005_0072-8.wav\n",
            "ID_4005_0072/ID_4005_0072-9.wav\n",
            "ID_4005_0072/ID_4005_0072-10.wav\n",
            "Training / GMM modeling completed for speaker: ID_4005_0072.gmm \n",
            "\n",
            "ID_4011_0073/ID_4011_0073-1.wav\n",
            "ID_4011_0073/ID_4011_0073-2.wav\n",
            "ID_4011_0073/ID_4011_0073-3.wav\n",
            "ID_4011_0073/ID_4011_0073-4.wav\n",
            "ID_4011_0073/ID_4011_0073-5.wav\n",
            "ID_4011_0073/ID_4011_0073-6.wav\n",
            "ID_4011_0073/ID_4011_0073-7.wav\n",
            "ID_4011_0073/ID_4011_0073-8.wav\n",
            "ID_4011_0073/ID_4011_0073-9.wav\n",
            "ID_4011_0073/ID_4011_0073-10.wav\n",
            "Training / GMM modeling completed for speaker: ID_4011_0073.gmm \n",
            "\n",
            "ID_4021_0074/ID_4021_0074-1.wav\n",
            "ID_4021_0074/ID_4021_0074-2.wav\n",
            "ID_4021_0074/ID_4021_0074-3.wav\n",
            "ID_4021_0074/ID_4021_0074-4.wav\n",
            "ID_4021_0074/ID_4021_0074-5.wav\n",
            "ID_4021_0074/ID_4021_0074-6.wav\n",
            "ID_4021_0074/ID_4021_0074-7.wav\n",
            "ID_4021_0074/ID_4021_0074-8.wav\n",
            "ID_4021_0074/ID_4021_0074-9.wav\n",
            "ID_4021_0074/ID_4021_0074-10.wav\n",
            "Training / GMM modeling completed for speaker: ID_4021_0074.gmm \n",
            "\n",
            "ID_4029_0075/ID_4029_0075-1.wav\n",
            "ID_4029_0075/ID_4029_0075-2.wav\n",
            "ID_4029_0075/ID_4029_0075-3.wav\n",
            "ID_4029_0075/ID_4029_0075-4.wav\n",
            "ID_4029_0075/ID_4029_0075-5.wav\n",
            "ID_4029_0075/ID_4029_0075-6.wav\n",
            "ID_4029_0075/ID_4029_0075-7.wav\n",
            "ID_4029_0075/ID_4029_0075-8.wav\n",
            "ID_4029_0075/ID_4029_0075-9.wav\n",
            "ID_4029_0075/ID_4029_0075-10.wav\n",
            "Training / GMM modeling completed for speaker: ID_4029_0075.gmm \n",
            "\n",
            "ID_4033_0076/ID_4033_0076-1.wav\n",
            "ID_4033_0076/ID_4033_0076-2.wav\n",
            "ID_4033_0076/ID_4033_0076-3.wav\n",
            "ID_4033_0076/ID_4033_0076-4.wav\n",
            "ID_4033_0076/ID_4033_0076-5.wav\n",
            "ID_4033_0076/ID_4033_0076-6.wav\n",
            "ID_4033_0076/ID_4033_0076-7.wav\n",
            "ID_4033_0076/ID_4033_0076-8.wav\n",
            "ID_4033_0076/ID_4033_0076-9.wav\n",
            "ID_4033_0076/ID_4033_0076-10.wav\n",
            "Training / GMM modeling completed for speaker: ID_4033_0076.gmm \n",
            "\n",
            "ID_4038_0077/ID_4038_0077-1.wav\n",
            "ID_4038_0077/ID_4038_0077-2.wav\n",
            "ID_4038_0077/ID_4038_0077-3.wav\n",
            "ID_4038_0077/ID_4038_0077-4.wav\n",
            "ID_4038_0077/ID_4038_0077-5.wav\n",
            "ID_4038_0077/ID_4038_0077-6.wav\n",
            "ID_4038_0077/ID_4038_0077-7.wav\n",
            "ID_4038_0077/ID_4038_0077-8.wav\n",
            "ID_4038_0077/ID_4038_0077-9.wav\n",
            "ID_4038_0077/ID_4038_0077-10.wav\n",
            "Training / GMM modeling completed for speaker: ID_4038_0077.gmm \n",
            "\n",
            "ShivamMalik09_0014/ShivamMalik09_0014-1.wav\n",
            "ShivamMalik09_0014/ShivamMalik09_0014-2.wav\n",
            "ShivamMalik09_0014/ShivamMalik09_0014-3.wav\n",
            "ShivamMalik09_0014/ShivamMalik09_0014-4.wav\n",
            "ShivamMalik09_0014/ShivamMalik09_0014-5.wav\n",
            "ShivamMalik09_0014/ShivamMalik09_0014-6.wav\n",
            "ShivamMalik09_0014/ShivamMalik09_0014-7.wav\n",
            "ShivamMalik09_0014/ShivamMalik09_0014-8.wav\n",
            "ShivamMalik09_0014/ShivamMalik09_0014-9.wav\n",
            "ShivamMalik09_0014/ShivamMalik09_0014-10.wav\n",
            "Training / GMM modeling completed for speaker: ShivamMalik09_0014.gmm \n",
            "\n",
            "TrakinShorts_0015/TrakinShorts_0015-1.wav\n",
            "TrakinShorts_0015/TrakinShorts_0015-2.wav\n",
            "TrakinShorts_0015/TrakinShorts_0015-3.wav\n",
            "TrakinShorts_0015/TrakinShorts_0015-4.wav\n",
            "TrakinShorts_0015/TrakinShorts_0015-5.wav\n",
            "TrakinShorts_0015/TrakinShorts_0015-6.wav\n",
            "TrakinShorts_0015/TrakinShorts_0015-7.wav\n",
            "TrakinShorts_0015/TrakinShorts_0015-8.wav\n",
            "TrakinShorts_0015/TrakinShorts_0015-9.wav\n",
            "TrakinShorts_0015/TrakinShorts_0015-10.wav\n",
            "Training / GMM modeling completed for speaker: TrakinShorts_0015.gmm \n",
            "\n"
          ]
        }
      ]
    },
    {
      "cell_type": "code",
      "source": [
        "!python Test.py"
      ],
      "metadata": {
        "colab": {
          "base_uri": "https://localhost:8080/"
        },
        "id": "63gjHDpMU-uy",
        "outputId": "9bdcd176-5ae2-4378-f6a7-13592bd9c7cb"
      },
      "execution_count": null,
      "outputs": [
        {
          "output_type": "stream",
          "name": "stdout",
          "text": [
            " Start with Testing \n",
            "\n",
            "Press '1' for testing single Audio or Press '0' for testing full list of audios ?\n",
            "Choice 0 or 1: 0\n",
            "\n",
            "Testing Audio File :  Akshay_Kumar_0001-11.wav\n",
            "\tdetected as -  Akshay_Kumar_0001\n",
            "\n",
            "Testing Audio File :  Amir_Khan_0002-11.wav\n",
            "\tdetected as -  Amir_Khan_0002\n",
            "\n",
            "Testing Audio File :  Irfan_khan_0003-11.wav\n",
            "\tdetected as -  Irfan_khan_0003\n",
            "\n",
            "Testing Audio File :  John_Abraham_0004-11.wav\n",
            "\tdetected as -  Akshay_Kumar_0001\n",
            "\n",
            "Testing Audio File :  Kangana_Ranaut_0005-11.wav\n",
            "\tdetected as -  Kangana_Ranaut_0005\n",
            "\n",
            "Testing Audio File :  Parineeti_Chopra_0006-11.wav\n",
            "\tdetected as -  Parineeti_Chopra_0006\n",
            "\n",
            "Testing Audio File :  Vidya_Balan_0007-11.wav\n",
            "\tdetected as -  Vidya_Balan_0007\n",
            "\n",
            "Testing Audio File :  aew_0051-11.wav\n",
            "\tdetected as -  aew_0051\n",
            "\n",
            "Testing Audio File :  ahw_0052-11.wav\n",
            "\tdetected as -  ahw_0052\n",
            "\n",
            "Testing Audio File :  aup_0053-11.wav\n",
            "\tdetected as -  aup_0053\n",
            "\n",
            "Testing Audio File :  awb_0054-11.wav\n",
            "\tdetected as -  awb_0054\n",
            "\n",
            "Testing Audio File :  axb_0055-11.wav\n",
            "\tdetected as -  axb_0055\n",
            "\n",
            "Testing Audio File :  bdl_0056-11.wav\n",
            "\tdetected as -  bdl_0056\n",
            "\n",
            "Testing Audio File :  clb_0057-11.wav\n",
            "\tdetected as -  clb_0057\n",
            "\n",
            "Testing Audio File :  eey_0058-11.wav\n",
            "\tdetected as -  eey_0058\n",
            "\n",
            "Testing Audio File :  fem_0059-11.wav\n",
            "\tdetected as -  fem_0059\n",
            "\n",
            "Testing Audio File :  gka_0060-11.wav\n",
            "\tdetected as -  gka_0060\n",
            "\n",
            "Testing Audio File :  jmk_0061-11.wav\n",
            "\tdetected as -  jmk_0061\n",
            "\n",
            "Testing Audio File :  ksp_0062-11.wav\n",
            "\tdetected as -  ksp_0062\n",
            "\n",
            "Testing Audio File :  ljm_0063-11.wav\n",
            "\tdetected as -  ljm_0063\n",
            "\n",
            "Testing Audio File :  lnh_0064-11.wav\n",
            "\tdetected as -  lnh_0064\n",
            "\n",
            "Testing Audio File :  rms_0065-11.wav\n",
            "\tdetected as -  rms_0065\n",
            "\n",
            "Testing Audio File :  rxr_0066-11.wav\n",
            "\tdetected as -  rxr_0066\n",
            "\n",
            "Testing Audio File :  slp_0067-11.wav\n",
            "\tdetected as -  slp_0067\n",
            "\n",
            "Testing Audio File :  slt_0068-11.wav\n",
            "\tdetected as -  slt_0068\n",
            "\n",
            "Testing Audio File :  ID_4002_0071-11.wav\n",
            "\tdetected as -  ID_4002_0071\n",
            "\n",
            "Testing Audio File :  ID_4005_0072-11.wav\n",
            "\tdetected as -  ID_4005_0072\n",
            "\n",
            "Testing Audio File :  ID_4011_0073-11.wav\n",
            "\tdetected as -  ID_4011_0073\n",
            "\n",
            "Testing Audio File :  ID_4021_0074-11.wav\n",
            "\tdetected as -  ID_4021_0074\n",
            "\n",
            "Testing Audio File :  ID_4029_0075-11.wav\n",
            "\tdetected as -  ID_4029_0075\n",
            "\n",
            "Testing Audio File :  ID_4033_0076-11.wav\n",
            "\tdetected as -  ID_4033_0076\n",
            "\n",
            "Testing Audio File :  ID_4038_0077-11.wav\n",
            "\tdetected as -  ID_4038_0077\n",
            "\n",
            "Testing Audio File :  Neendapp_0008-11.wav\n",
            "\tdetected as -  Neendapp_0008\n",
            "\n",
            "Testing Audio File :  Pooja_Stories_0009-11.wav\n",
            "\tdetected as -  Pooja_Stories_0009\n",
            "\n",
            "Testing Audio File :  Prerana_0010-11.wav\n",
            "\tdetected as -  Prerana_0010\n",
            "\n",
            "Testing Audio File :  BollywoodKaKeeda_0011-11.wav\n",
            "\tdetected as -  BollywoodKaKeeda_0011\n",
            "\n",
            "Testing Audio File :  HindiTVIndia_0012-11.wav\n",
            "\tdetected as -  HindiTVIndia_0012\n",
            "\n",
            "Testing Audio File :  FactsBeats90_0013-11.wav\n",
            "\tdetected as -  FactsBeats90_0013\n",
            "\n",
            "Testing Audio File :  ShivamMalik09_0014-11.wav\n",
            "\tdetected as -  ShivamMalik09_0014\n",
            "\n",
            "Testing Audio File :  TrakinShorts_0015-11.wav\n",
            "\tdetected as -  TrakinShorts_0015\n",
            "\n",
            "\n",
            "Total number of audios tested:   40.0\n",
            "Total users not identified correctly:   1\n",
            "MFCC + GMM current testing Accuracy in Percentage :   97.5 %\n",
            "Speaker Identification process End\n"
          ]
        }
      ]
    },
    {
      "cell_type": "code",
      "source": [
        "!pip install ffmpeg-python"
      ],
      "metadata": {
        "colab": {
          "base_uri": "https://localhost:8080/"
        },
        "id": "5ymXpFOfVDIy",
        "outputId": "fce1e78f-c1ff-48b9-acac-ca97d46bc87c"
      },
      "execution_count": null,
      "outputs": [
        {
          "output_type": "stream",
          "name": "stdout",
          "text": [
            "Looking in indexes: https://pypi.org/simple, https://us-python.pkg.dev/colab-wheels/public/simple/\n",
            "Collecting ffmpeg-python\n",
            "  Downloading ffmpeg_python-0.2.0-py3-none-any.whl (25 kB)\n",
            "Requirement already satisfied: future in /usr/local/lib/python3.10/dist-packages (from ffmpeg-python) (0.18.3)\n",
            "Installing collected packages: ffmpeg-python\n",
            "Successfully installed ffmpeg-python-0.2.0\n"
          ]
        }
      ]
    },
    {
      "cell_type": "code",
      "source": [
        "# add new user\n",
        "file_name = input('Enter your name: ')\n",
        "print(f'You entered {file_name}')"
      ],
      "metadata": {
        "colab": {
          "base_uri": "https://localhost:8080/"
        },
        "id": "yEorgYcAVOvn",
        "outputId": "357e25f5-1683-4c93-8497-2f091e0114d7"
      },
      "execution_count": null,
      "outputs": [
        {
          "output_type": "stream",
          "name": "stdout",
          "text": [
            "Enter your name: Nidhi_Agarwal_0010\n",
            "You entered Nidhi_Agarwal_0010\n"
          ]
        }
      ]
    },
    {
      "cell_type": "code",
      "source": [
        "cd '/content/Biometric-Customer-Authentication/addNewCustomer'"
      ],
      "metadata": {
        "colab": {
          "base_uri": "https://localhost:8080/"
        },
        "id": "tH9ncixiVRL9",
        "outputId": "8763a632-a294-447d-b071-e5d9813a53b3"
      },
      "execution_count": null,
      "outputs": [
        {
          "output_type": "stream",
          "name": "stdout",
          "text": [
            "/content/Biometric-Customer-Authentication/addNewCustomer\n"
          ]
        }
      ]
    },
    {
      "cell_type": "code",
      "source": [
        "!mkdir {file_name}"
      ],
      "metadata": {
        "id": "nqc6XXpTVWmB"
      },
      "execution_count": null,
      "outputs": []
    },
    {
      "cell_type": "code",
      "source": [
        "\n",
        "pwd"
      ],
      "metadata": {
        "colab": {
          "base_uri": "https://localhost:8080/",
          "height": 36
        },
        "id": "PPHzGRPAVYPB",
        "outputId": "68e63de8-d2cf-4b35-8113-5b26f9252a87"
      },
      "execution_count": null,
      "outputs": [
        {
          "output_type": "execute_result",
          "data": {
            "text/plain": [
              "'/content/Biometric-Customer-Authentication/addNewCustomer'"
            ],
            "application/vnd.google.colaboratory.intrinsic+json": {
              "type": "string"
            }
          },
          "metadata": {},
          "execution_count": 26
        }
      ]
    },
    {
      "cell_type": "code",
      "source": [
        "cd '/content/Biometric-Customer-Authentication/addNewCustomer/'{file_name}"
      ],
      "metadata": {
        "colab": {
          "base_uri": "https://localhost:8080/"
        },
        "id": "dnYMUMLJVbBj",
        "outputId": "ef608441-6dba-4e81-f87a-77032bc941b2"
      },
      "execution_count": null,
      "outputs": [
        {
          "output_type": "stream",
          "name": "stdout",
          "text": [
            "/content/Biometric-Customer-Authentication/addNewCustomer/Nidhi_Agarwal_0010\n"
          ]
        }
      ]
    },
    {
      "cell_type": "code",
      "source": [
        "pwd"
      ],
      "metadata": {
        "colab": {
          "base_uri": "https://localhost:8080/",
          "height": 35
        },
        "id": "EWb1c3yBVbyl",
        "outputId": "1e16ef3a-a271-4391-cef7-4505cf8912f1"
      },
      "execution_count": null,
      "outputs": [
        {
          "output_type": "execute_result",
          "data": {
            "text/plain": [
              "'/content/Biometric-Customer-Authentication/addNewCustomer/Nidhi_Agarwal_0010'"
            ],
            "application/vnd.google.colaboratory.intrinsic+json": {
              "type": "string"
            }
          },
          "metadata": {},
          "execution_count": 12
        }
      ]
    },
    {
      "cell_type": "code",
      "source": [
        "cd '/content/Biometric-Customer-Authentication'"
      ],
      "metadata": {
        "colab": {
          "base_uri": "https://localhost:8080/"
        },
        "id": "RPvK9raBVcmo",
        "outputId": "add170b6-d6fd-47bf-a2a1-1a9cc19519db"
      },
      "execution_count": null,
      "outputs": [
        {
          "output_type": "stream",
          "name": "stdout",
          "text": [
            "/content/Biometric-Customer-Authentication\n"
          ]
        }
      ]
    },
    {
      "cell_type": "code",
      "source": [
        "!python RecordAudio.py"
      ],
      "metadata": {
        "id": "z5T2vwLHVfEE"
      },
      "execution_count": null,
      "outputs": []
    },
    {
      "cell_type": "code",
      "source": [
        "from RecordAudio import record\n",
        "import IPython"
      ],
      "metadata": {
        "id": "Ae0-P0meVg0t"
      },
      "execution_count": null,
      "outputs": []
    },
    {
      "cell_type": "code",
      "source": [
        "filename1 = file_name+'-1'+'.mp3'  #'felixtest.wav'\n",
        "record(filename1, 5)\n",
        "IPython.display.Audio(filename1)"
      ],
      "metadata": {
        "colab": {
          "base_uri": "https://localhost:8080/",
          "height": 75
        },
        "id": "pZMHrGiGVi2w",
        "outputId": "8d0807f2-bf8a-4e18-80ac-4d508d55eaa4"
      },
      "execution_count": null,
      "outputs": [
        {
          "output_type": "display_data",
          "data": {
            "text/plain": [
              "<IPython.core.display.Javascript object>"
            ],
            "application/javascript": [
              "\n",
              "const sleep  = time => new Promise(resolve => setTimeout(resolve, time))\n",
              "const b2text = blob => new Promise(resolve => {\n",
              "  const reader = new FileReader()\n",
              "  reader.onloadend = e => resolve(e.srcElement.result)\n",
              "  reader.readAsDataURL(blob)\n",
              "})\n",
              "var record = time => new Promise(async resolve => {\n",
              "  stream = await navigator.mediaDevices.getUserMedia({ audio: true })\n",
              "  recorder = new MediaRecorder(stream)\n",
              "  chunks = []\n",
              "  recorder.ondataavailable = e => chunks.push(e.data)\n",
              "  recorder.start()\n",
              "  await sleep(time)\n",
              "  recorder.onstop = async ()=>{\n",
              "    blob = new Blob(chunks)\n",
              "    text = await b2text(blob)\n",
              "    resolve(text)\n",
              "  }\n",
              "  recorder.stop()\n",
              "})\n"
            ]
          },
          "metadata": {}
        },
        {
          "output_type": "execute_result",
          "data": {
            "text/plain": [
              "<IPython.lib.display.Audio object>"
            ],
            "text/html": [
              "\n",
              "                <audio  controls=\"controls\" >\n",
              "                    <source src=\"data:audio/mpeg;base64,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\" type=\"audio/mpeg\" />\n",
              "                    Your browser does not support the audio element.\n",
              "                </audio>\n",
              "              "
            ]
          },
          "metadata": {},
          "execution_count": 21
        }
      ]
    },
    {
      "cell_type": "code",
      "source": [
        "filename2 = file_name+'-2'+'.mp3'  #'felixtest.wav'\n",
        "record(filename2, 5)\n",
        "IPython.display.Audio(filename2)"
      ],
      "metadata": {
        "colab": {
          "base_uri": "https://localhost:8080/",
          "height": 75
        },
        "id": "MRUo2000Who6",
        "outputId": "8ba94210-8e62-4c27-80b3-03989f16e13e"
      },
      "execution_count": null,
      "outputs": [
        {
          "output_type": "display_data",
          "data": {
            "text/plain": [
              "<IPython.core.display.Javascript object>"
            ],
            "application/javascript": [
              "\n",
              "const sleep  = time => new Promise(resolve => setTimeout(resolve, time))\n",
              "const b2text = blob => new Promise(resolve => {\n",
              "  const reader = new FileReader()\n",
              "  reader.onloadend = e => resolve(e.srcElement.result)\n",
              "  reader.readAsDataURL(blob)\n",
              "})\n",
              "var record = time => new Promise(async resolve => {\n",
              "  stream = await navigator.mediaDevices.getUserMedia({ audio: true })\n",
              "  recorder = new MediaRecorder(stream)\n",
              "  chunks = []\n",
              "  recorder.ondataavailable = e => chunks.push(e.data)\n",
              "  recorder.start()\n",
              "  await sleep(time)\n",
              "  recorder.onstop = async ()=>{\n",
              "    blob = new Blob(chunks)\n",
              "    text = await b2text(blob)\n",
              "    resolve(text)\n",
              "  }\n",
              "  recorder.stop()\n",
              "})\n"
            ]
          },
          "metadata": {}
        },
        {
          "output_type": "execute_result",
          "data": {
            "text/plain": [
              "<IPython.lib.display.Audio object>"
            ],
            "text/html": [
              "\n",
              "                <audio  controls=\"controls\" >\n",
              "                    <source src=\"data:audio/mpeg;base64,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\" type=\"audio/mpeg\" />\n",
              "                    Your browser does not support the audio element.\n",
              "                </audio>\n",
              "              "
            ]
          },
          "metadata": {},
          "execution_count": 22
        }
      ]
    },
    {
      "cell_type": "code",
      "source": [
        "filename3 = file_name+'-3'+'.mp3'  #'felixtest.wav'\n",
        "record(filename3, 5)\n",
        "IPython.display.Audio(filename3)"
      ],
      "metadata": {
        "colab": {
          "base_uri": "https://localhost:8080/",
          "height": 75
        },
        "id": "vNP-Zn_yWlFi",
        "outputId": "89d700b4-f394-4520-edba-d28885dc2c1a"
      },
      "execution_count": null,
      "outputs": [
        {
          "output_type": "display_data",
          "data": {
            "text/plain": [
              "<IPython.core.display.Javascript object>"
            ],
            "application/javascript": [
              "\n",
              "const sleep  = time => new Promise(resolve => setTimeout(resolve, time))\n",
              "const b2text = blob => new Promise(resolve => {\n",
              "  const reader = new FileReader()\n",
              "  reader.onloadend = e => resolve(e.srcElement.result)\n",
              "  reader.readAsDataURL(blob)\n",
              "})\n",
              "var record = time => new Promise(async resolve => {\n",
              "  stream = await navigator.mediaDevices.getUserMedia({ audio: true })\n",
              "  recorder = new MediaRecorder(stream)\n",
              "  chunks = []\n",
              "  recorder.ondataavailable = e => chunks.push(e.data)\n",
              "  recorder.start()\n",
              "  await sleep(time)\n",
              "  recorder.onstop = async ()=>{\n",
              "    blob = new Blob(chunks)\n",
              "    text = await b2text(blob)\n",
              "    resolve(text)\n",
              "  }\n",
              "  recorder.stop()\n",
              "})\n"
            ]
          },
          "metadata": {}
        },
        {
          "output_type": "execute_result",
          "data": {
            "text/plain": [
              "<IPython.lib.display.Audio object>"
            ],
            "text/html": [
              "\n",
              "                <audio  controls=\"controls\" >\n",
              "                    <source src=\"data:audio/mpeg;base64,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\" type=\"audio/mpeg\" />\n",
              "                    Your browser does not support the audio element.\n",
              "                </audio>\n",
              "              "
            ]
          },
          "metadata": {},
          "execution_count": 23
        }
      ]
    },
    {
      "cell_type": "code",
      "source": [
        "filename4 = file_name+'-4'+'.mp3'  #'felixtest.wav'\n",
        "record(filename4, 5)\n",
        "IPython.display.Audio(filename4)"
      ],
      "metadata": {
        "colab": {
          "base_uri": "https://localhost:8080/",
          "height": 75
        },
        "id": "EB0WpL8JWn7P",
        "outputId": "a1aca9a3-c7f8-4b7d-8ed9-9135e86d5b49"
      },
      "execution_count": null,
      "outputs": [
        {
          "output_type": "display_data",
          "data": {
            "text/plain": [
              "<IPython.core.display.Javascript object>"
            ],
            "application/javascript": [
              "\n",
              "const sleep  = time => new Promise(resolve => setTimeout(resolve, time))\n",
              "const b2text = blob => new Promise(resolve => {\n",
              "  const reader = new FileReader()\n",
              "  reader.onloadend = e => resolve(e.srcElement.result)\n",
              "  reader.readAsDataURL(blob)\n",
              "})\n",
              "var record = time => new Promise(async resolve => {\n",
              "  stream = await navigator.mediaDevices.getUserMedia({ audio: true })\n",
              "  recorder = new MediaRecorder(stream)\n",
              "  chunks = []\n",
              "  recorder.ondataavailable = e => chunks.push(e.data)\n",
              "  recorder.start()\n",
              "  await sleep(time)\n",
              "  recorder.onstop = async ()=>{\n",
              "    blob = new Blob(chunks)\n",
              "    text = await b2text(blob)\n",
              "    resolve(text)\n",
              "  }\n",
              "  recorder.stop()\n",
              "})\n"
            ]
          },
          "metadata": {}
        },
        {
          "output_type": "execute_result",
          "data": {
            "text/plain": [
              "<IPython.lib.display.Audio object>"
            ],
            "text/html": [
              "\n",
              "                <audio  controls=\"controls\" >\n",
              "                    <source src=\"data:audio/mpeg;base64,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\" type=\"audio/mpeg\" />\n",
              "                    Your browser does not support the audio element.\n",
              "                </audio>\n",
              "              "
            ]
          },
          "metadata": {},
          "execution_count": 24
        }
      ]
    },
    {
      "cell_type": "code",
      "source": [
        "filename5 = file_name+'-5'+'.mp3'  #'felixtest.wav'\n",
        "record(filename5, 5)\n",
        "IPython.display.Audio(filename5)"
      ],
      "metadata": {
        "colab": {
          "base_uri": "https://localhost:8080/",
          "height": 75
        },
        "id": "0_k_NxpyWrSF",
        "outputId": "09f6adfd-ef19-4430-abba-1af90c0547fd"
      },
      "execution_count": null,
      "outputs": [
        {
          "output_type": "display_data",
          "data": {
            "text/plain": [
              "<IPython.core.display.Javascript object>"
            ],
            "application/javascript": [
              "\n",
              "const sleep  = time => new Promise(resolve => setTimeout(resolve, time))\n",
              "const b2text = blob => new Promise(resolve => {\n",
              "  const reader = new FileReader()\n",
              "  reader.onloadend = e => resolve(e.srcElement.result)\n",
              "  reader.readAsDataURL(blob)\n",
              "})\n",
              "var record = time => new Promise(async resolve => {\n",
              "  stream = await navigator.mediaDevices.getUserMedia({ audio: true })\n",
              "  recorder = new MediaRecorder(stream)\n",
              "  chunks = []\n",
              "  recorder.ondataavailable = e => chunks.push(e.data)\n",
              "  recorder.start()\n",
              "  await sleep(time)\n",
              "  recorder.onstop = async ()=>{\n",
              "    blob = new Blob(chunks)\n",
              "    text = await b2text(blob)\n",
              "    resolve(text)\n",
              "  }\n",
              "  recorder.stop()\n",
              "})\n"
            ]
          },
          "metadata": {}
        },
        {
          "output_type": "execute_result",
          "data": {
            "text/plain": [
              "<IPython.lib.display.Audio object>"
            ],
            "text/html": [
              "\n",
              "                <audio  controls=\"controls\" >\n",
              "                    <source src=\"data:audio/mpeg;base64,GkXfo59ChoEBQveBAULygQRC84EIQoKEd2VibUKHgQRChYECGFOAZwH/////////FUmpZpkq17GDD0JATYCGQ2hyb21lV0GGQ2hyb21lFlSua7+uvdeBAXPFh733Tp2GxLKDgQKGhkFfT1BVU2Oik09wdXNIZWFkAQEAAIC7AAAAAADhjbWERzuAAJ+BAWJkgSAfQ7Z1Af/////////ngQCjQT+BAACA+4MCxf/+fwMbiE9ws+Mto42+z8L4LJYr35TXTTfgk5zOCo7DncnPALqvmfy0z6clnPIo9Ct3shP6SabTSo86nhZoQZusOwAhknL0lpXuZCEpttk6lCbTNP935lc8oGllh7NQYhgkx2+Cm42saHjogyEMnuBnFC1FM8rjNfHsFcNnjnmmlIYoCGiIOZFjyWLUQtoGj1WAJ9TKyG+Tvrht/ug6cZEbwfVLJUHPfRS817xFnHxjvLtBvpfBBg6/mpmr9ZEdvjqL2utVEnnDDQrBp905U9ck8lSK84uUk1kG9Jutj/2qd9zjEPfT+LdyP9Nf2qPYwGYIw3dxkvjZ6l/yfXuNBI9GGpD/xNzEbetz3yHAF7ptKF1ooWfKX50ZTH5ZhLfAe/SM689FrOzeek0X0UyL5DUSGh5VxRM8o0FQgQA7gPuDaGzA9IwbDrDAtqKntC3FfcbR3ITggCaxdf9akrzahNZ+cr4yWr3fKQbBt9mnVirXAMZeJC7Rd/K3RqutG9pDIjfZYCCrGtvFnSjzZHDF1IRzbkHSW21l+zYWrqp7ty/IRgFBiKXTqMU7O8MBf0VB/5d5p0V2wfjrnQNKLdiJ6aTCyGmIRzIkPd51yglrpsluQZREq0Gb6FlyGtV2aIJr2LeVq1tFHaFJUMiGeYGajsG7KGUJ4wlsxliQwYtHeDce2lqkGSwSUTLi02D+Srmn2UHA+J+fOsNzwGUE+y5jlb3jUrd/qZW2FKAOovaO9fKF3cHlIoADTwcMHqsXSZqfKkgLxam3/KVjGxBcIkqCpv66vnuN/gseAs7MgG9PGBooycXc+pNuj9idN6ysnMVBM6AhWo1WrkIs60a7KGGz+RoXPQ3kAUfJTeM7o0GDgQB4gPsDw4GiEg7JktNfFVraPgZOmfg+vtTI7ejqVexqQYBukoq0x0EtalksZZ3/qNIPwd5ulvzL5vpImJWqURbhGTQRyZeZPdulmD1G3bl6hjf88SLnqQQC1s6MBtTSP7yS87odzCcUBFkHkUMApF8d0IOcHNMxQKuBheED0uOHj8eHO8D0aZy+mGXZovaxQ9MQUATzhHSCjnck4nOSb5hdjJxE8UWCrd8lJIkSYbtTJoqwRrsO5tHmuPiB06TnB08dExDuQfw2uIHHndRevr5HpsCYRaI7dm/vsyyKMl1zIK05CiHs0EicRMBxPbpT6UE8uTWHZP07wj4wdbxR+FJJhzvDAWwpA6KioupH7PVIouZD0d3riSZqV1tVf5lbJbu9exlrwkqe7EExT7mk4vecdPVagE/cMxU4iiFuBpyk5Vzbimy1cz1NM/FqtaAJI3VJbGNOp/ebAbuaN93eLClsXyP3vu1IzD7RlUFca0ftnddaBPnJm29pDEGFn9TT3T88o0GDgQC0gPsDwPvCNMA0CLl8E6K7TMcWzI6EJ24xJUhzK/VNi9oorrsYmsnAlM6dYFYy+E/0DVjkwaoqHMgpW7lB3aN6lqIBubMoDmSa2r7i2L+CD066Gx0Yvsh8Qc6fglTUeIHM9H1L/YgPBcp0v6BNP7EQmTfgZk/RPpQclJFHf0DkkM4rPMAeUtPgraAo1rrY5qL5LPP7qw0PrLzh71w2roT+g+dKRaxl5dgIwETeHfmYwXU/ah8QUVC+nlsOblq1VPZnGmANP+cKS26GA3AExfA8AG7vOfhhfdYMTteChSn1FOlmNS4mOkAMGkHyInApiH8spQ7B3GRP/Bs6dRanS6EQzz3AR48yX+GZy63Z3SZOd+uIHjTNU5gstjDUGXRwWqtKedNNf3PekFFdgJ5whMMtN7R0SmGVpW3s5jvTrtdhvYFwbojsEMokNeJiveEhVpF4tIVNFVfa8YziOJpoKhalwOQcOu8INprPPmRgW4dnvc/eoL613kSSvrZqcn8AO+c+o0GDgQDwgPsDxcPwcs2LCGsGrqlWJoOFGGcHDb0FVSk8fQyCQyA8MnJPSMHNhhQE0e9scgWseG772HzYvxd+MyAZFL1YhZBwS+/hv73IfYjR0E0p6BvcdCoTcHBXh64Q7fZr2dmMZ1UpfN8eDjRbnzU54MMHzK01HyXLMMfQHFho6YfarcwKOMAdI5tuXcE9tTeLRSzY8zsA8W+Ykv3Zm8GoxDrsl0oExHE0ljZ3RTz6z8Um3Qt0+BjLeejJS9+8Z9F07JMOofGjYazVg8Nx7B4hpTM2HS26HhCtjFUremt8NcxBYNFwPJj3EnbfgsJVu3hmtVoGk3+85TzL/h0ItbLhXpHQmjrFvXMQ6XsVgzx3g3j9hYtH9oc0e11mWzthCgCo74wKIAb/Qvc84ElE5ej188WhxnxGszruAfVTu/Cs1UCfw9L8ubkmL6BTMoH2T+JFN8taeC5x6IvC5VVD0Mkb/Lscm8ZUuAl6FCwK6VN/keUNv16qM9DPirSszdLTxNbdMhY5o0GDgQErgPsDQsZZKASLVWlkm4wfMVc5o04hQehgjDCsZPcfdp1I5L2ShRNS2WSGOtavJfHKlUnu/wN6gNCIE+iHTyaB+XZBHJ7qX+iJDpdToafvuibMy8YIaDLaDcPUogM0/Po9TajhG1QaEAhjypurlO/jMyVIIk3u5sRBorEQt+1zFA6eZkKSc8/voUIryMsCYid9kGytP9m2O7jqbo8Tj4U3gL3DsC0TpF1CbcFs0TXUvfiYOBQ2f91ZEO8dTUnzu0Q41+n4eXGpTnjjJ4ckSwW5uicaTvp2uGrNo8aSrnt9NsNxfYIjgTuz+fjMXewe7TLocs86jidcPOfWyI+W81kCGIY8/iO2Y2OLax28IoW6O5QJhW1KOmpI8Fw3Y4b3Oe2acuNat3ORNwwpJcTjUItxVnNMOlIDTerfGBkJ6AGZrHi5WPLdJcbL+Hs/Pz+LQbsHLpmG4psQ+/iH9rJHU84h2ARtMnv+IG3GZjsMH8FrzpPgAYVYugJn7mazxcRTbRRIo0GDgQFogPsDO1z5ilgv+Gy1mMoQOuNuo/MU26Hvcvutw4FUbSZPR+Awb4SU4qLtPMwQSeHfbElAoR9EDAxnSyn0a8TMrJdN+NJLpXVB+5qN/84SsurIRxlaKhOQFmnsKAuiQGPKeXe5H1gFQTnUYthSJ6bWV2gQhjJUXtVYUbpvw/q055pLZkOUh3DiT/UQxbHY2IJptyM5e01+jB0H8PThT1v0Fe1IF+ZJTBOCisY3ybrppwVWasQTu36sIYaxuI7Fxhp25cnDSaOXy86+TldedSw5pDEPK8nhqKbXQ8683svaBjs6JDv30SFEUm+2OB1VG6PkdXJPdGp53i6/Lo6S2zE1DspDlG1s10ykFxQC/WrSeQ/wwRc9l1BzLH8oqxKU/YlrWLvn0AfzieIqfSXCsJk/CxNiLur+1v9Pv/el4j2OUCItZ33uBIZcDhRIqnxFF+m0tLBckpmIRZTopYlpVSpB+qU2GcmHGcPLM2UW2bEIkR3+ohAjyQNHX0Cz0rVeSM9Go0GDgQGjgPsDEzWceDVTEB6q/IF1rtxS4PkyFqst8jezg4WQxhxPQE2uZwVGmr7H6gd+I6D0kVnaHy3RgvMGvyI/7sbF2AeI+g4zy1u+cnBE40cwh/PTuZMs3y4P3kan5PY8q75qNrn47AlhRQ/SMRe16rFQ7lyZ50P2nAzlwg88xK+1Xwi7Aj2aG50hT0kaG+egDBMp3eFeRug82H9XzDiWuNYbbmXDK1fs9q9h0ujTS8ccwnrmCUaZkkdlfw9TOwgyEgRI7EBjrDVcOOIAyPRT2cWa8LZHu2XUGIc/g1//O+yJG2dvbkgOl67Bm2bkDOZc6UWH9XDtAPopxNCBypcdt0jTvGc/rY1RiC1ZoT+ijMU5AWRgqo4uWSvDejbsrOwtHgy5zJtHyd4/ecloFmEK4/hr95StNmhuZHljlzHJLfwdBW7TfdNhjAqgmmoAbcmDiykAJ5PH2IT5tPdD9w5gzXMoku5g4R9g7BSPJ90BXhpdClIOcMoUhGBcoEw4Lr29ajt8o0GDgQHfgPsDPS4Hrx09CmMNtEDReHA9xKCrKep+bZwjHW+5GZFTc/1zRuznE8J79ulO+j9H0xfL7pmW5tNQzGsRMafaNJcRmKuGS3L+6TWQkDybI38cAHZ15k0wyjXsKwFYAV8oKhPLo9k5sgZi7CCOfrB+EJNMRvVyQqMzSdhCcvrG5dNv+xpyvNDUPcqsO48wit4rOu9mrs0J7UlTcacggBIUq7Do+WQ+hQq43DzSNfkSa32UayuhFmSEAVcH4ialyxdKhk3vpbP+TDukYsuSZTsxIkm7OUHe+RO1vAZwlwB9tYrpNSRaw3OwrmZVkH4FWe9b3LXhD1lfjs0HH8C6ud91bdI7inul2EupFdMcqiQ+ZCRqEHRomaoMmOcmTYF+glB17p/uoAIV+OuIjCGElCSlOcULQnsuIvUUH4Kgljo0P1+d4vYq7KRBEUZoknzZfMqcWeoLwzwt5Fc5R7lUb6poDN2kTKJQ/DUEgKOd7rkkJfYcsrBghni177SU3AsPVmQZo0GDgQIbgPsDPP3Sf52wcVxS/uefrgTcCbq1pmqs5R/YqpITr9ktjxaF9m0E7NQ425xSHfXA71FXuy5xYvi7IBD9vDRT/SyAuQ8syNeNGs+UusR3ZqkfWUkb8LRbrTtxyLhP3tMvsVtX36TthV449SAdfKfArJjr+odpkCKFiOeir67J3YE/Xj9cagXm/QM47L7BRYDIpoCAiQnbt3yusynjMDHbRqHhJX9Zqmj3pEYJQ/Zo/5co7Crg1YywfMXzVDVsvTwN00Jr5MxCOUCWVV50QMOFGq4zPbsFVlCYwiluO6nRAYYnbT2Dd8CKIwDEUh/vU6fGektCteVUUBdoqnNHpNZFFP89LojiZsSTj+5cZLze3IkF5kS0mnBeHRuSl4Ju14dPmdVgymzRhxxR6N0A+IdOt4hhg4ElV0l+4Y5m/jazg1BEv6/U4Am6uA7USraQecKqP/fCLpT+Quh8UyLkZWOD5nAen9yXdlkU+hBYYg8nmgjYm1VFcJ0v3YzQ8+d3vGfUo0GDgQJXgPsDFQVAXj9q9kvS0GieFXFwrG2fejmvAQWHHjgpKOM6gFDUjMQcYOp9UUzj9ZiYBA5ypyuSKqqL12sYWL3RS6e7+mYofMa6r+zJ23+LnrWktdzYhUuBoswLRw1A4F2DFM7Cpq7nHA9vOlNH7q2KLa7EPp+GHG6pQnAau6HzUpRKgTuqN284pZsyc8NupWURMLQLzlBzX6sNk6MkWUkUSwDkv3Q/i7w3sEZp5s40cJffGT2/fLWDZZXz2wF0EaA6C/9XpxCkfIXXx84EIBKWsI7Qvdat9UzhkEnO3mr0oRDdrXXcYXvSuJjmC3WN2xk3kpOGYUlF18WiDvLerOi3Oa9S/9Zwm0Xiab4DfEfZzpl+AwHSdR7FVQostwlIYLxuTRH9GXKnJuuJ7Qt4AVrmhEgk4MYtQvMHUKvJhhlqBLFTJwehJ1mjNmXXg99b1n3KnD2fBeSTy57iXAVu2m/516hxV67w6nyY07hMAznvDay8ThqKq+frPqFfoTTqtT6Wo0GDgQKUgPsDPstWwA3jClnbBi+GHnLsK7HQix8SP9lIzBE5E4toumKTUpV1QOzHh8kJ6D9sZwdDBRFNasVfJ8gxYkmogbRCl1aYkn8dHzpL5Lcu4kpAN+LBHPq356veaEEhqp1qtmpKxOCHXb66SKX7D1qUiNo1GKLmj/4AD9pCcbeF4ITuNlAZT1d7duLlWf+7HYrjddXqlmZQxefg4eOF066IMYaaBZ3oDT0Xpk7V5LKvFvq31FIdNOG5ASkMiDRQAusS2W7PqW5Qb2mQgodtO1IVP+kISeYneJERpYLvaKvoBrAGa1CAgaK9SG/rgKMpVExFlzNFoWl7WleHZ1fKe1lmfPIimsVKJfBwcs5unolTUuMaB/bpd436e/6aOAClXTGfpyQ/A4THx+VF2nF2GAx63Xq32iuM78q+n2xr67hGKaJuPOq3FE7vBOjtwrJgXCk5Ng888K6zdyd8q3sU0BRYAnuNjhS1ukHSJNbypzGl80D3NAaIZOD8LAklpm7OIBl0o0GDgQLQgPsDQrVwS1va9j7wl1uErTP8agqHZ997l818fK+0h5765N55yCw2bNOBCVTiDPJysBoePyIA1QJ6e1mXpt7yA1NVw/VPRIkoT1GbC2LS9DEdkjsZbgnxf5py8CSeek77zT1cHWKFjiKGkes5UTOxEpP2VfY3OGb8sSPE0Y8ooAa+QTtpHk+VinPzwPdIWasfE3YgfBxW7D8gTVXARcmGTHp09A0NYrYaUO2KAEFO2WD+lTkSAmKwN/xPm00rJe6kVaSFBrwiN29D9QWmH1Ferrmv53eFNi4KThKk1wX7E9dyYkECNJ3tDPBlw11UAM/rgvGAPDflJuy2slCwpZka9A9AdyvgzWq2k4ssTTEINMpe1ZBPUlcZXISSHpqBE4wdYQnJQRZKfn5cBhHC0SdiRsrwpqhQrusOLwAWciluWKQ1TJWFa9gQtxzGREiWXeeuSLxFhkB3jQ0+PcFUS2HZ1SkRTgh6jEr2PjsDPO545O5QQ/okMwIxm1xv1xZKvkOro0GDgQMLgPsDUtgeuTsbQHJZvgFAVTeMhjO1hqY8BdgtIoM/fFuGP2Pa76w7Lau9uPcpL2TnSf0CzmvDIfOD3JrdZZKVGr94W/7Klh9xiAF7TF0/LqcllZQ6u/hL3eH9QM5FAcJucJAYX6bqyJBQWyG2oOUL6lOQVpXAp9jQR5AItM5FfKyGZzv+wi73YuRXeoBOKVzYvFcu0JOMGFHiEoBSCWwGozJgFvx0SmXSajYulJamZdrmRsiZUWt5MteZ+WrDILDiCDYF5tNoRuvJ5txilqCpGtW2xiBY7uaCXLgzXh3weiPhJFfHWGQ+PBJMyK9K5WVsPCohQ3vVS3JpEF5tumTEfiQ/YjcetxZjp3456yO82wDZCLZQzY771VDqN0lWUfhoIWY//K4WOdWxrBxmeDTURY6eowbSRh5hLPIISJ0CcUyjvN9mTBEOyg/pzjIhOGFv6XEQMw30ZYfgvxOXFUvHh2PUPGOasgzSvwcVx0mG29rGNYVFfwh2X5CgztG+eVl2o0GDgQNIgPsDPZuXld0gDcSeRnBqjljnqLIeZCRjzQlSa61IrurUTftjM6U8cApOhkADhUOdDTvJlVhVYvB9ZhB/dL+tvvHZJXKktCW4iOhidNbDm+C2avXoIdki8claKMHbdiKIx1UawGUNrVx47iCMxcF4MvIdMzIdO8tni3XCk7KmpFgI4ELEPHSJ5906Yw3wmjyT1apBfUpT/bXq5onEXnVYFxBACpZhucbQBjVESkoh9pm2TLeVlfv1OmNeFjEKMY5pyelKlTuyzQu5Q2VQ0/Qbms4Z9pvkOGRTtw/BAGAd2c+3PuKygbA98XZWf0JJAwd4Do4z8L05thgcetH1XO1E1MY/MUQ0jlA9NNnL5dFuNG1xLklraLdPVv0JrUdgKLZwHJoPBn2ClIhySEJreOXH/wVvmFUWIOBC+B8Amp9LCKgM0YKqQvKGwlEwn3h+6WpaEp0qYORzCLvlkvRCff6MGtH6NK0+w0gKT7RhHpOGY/JcFBVGY4Idhv5ygrEaUfAco0GDgQOEgPsDO5P/uDyblqA1ojm0fTlKBgNjpXkUzxOD2UP1Fgg9L0/rkPSphPtUZKlgA339YS0Pu2UdHxjgSvV3vK+eFFTNzQXA4p7Y+5ONm8Ry+ZlxMNJFCDB3x7QhImJgKAdM76gjEeF9FUBGULGUigYQCCn5DFzdd55beMJqceArCutoKjwOhjwfsHWffc7ChFuJy3CfBRPyzcXv5qFNOwo9+8p8Js4MvjTENB60vsTDXPIfkgkhEBFPcb8rJoOKgCdyYtzz6m3U6no5md4T74tkbi2AxwLhjfWZBL71PE+/HDj+BqfIzSszoKxmKRDeO2JRBSS1ExjdRna0AG+uF69Ub0s9dZF+wJ24hLmpg2IdwOmpp0snpeYvOkVFO+IOej5Kvg7o6tUe3uZF76oTQrL67L7OiijiUfoDFXLkcI/Q7++r4gKelL7Vw4wMvmBenxN8AoQxpHboO5aoegL+PJuxGDtzaAxVGr7EGnmlHseN3qpvwvq9Wl2OQLqwifLnUAtKo0GDgQPAgPsDUz1jKzlck/ua+JJ6pAHFtDbqlmaMcaI3vcRLhGVMdWZhqPrP7dEfDpsu5VAh2ek1VIswuU0NiU53Q9rjMCcyYB6y+rHE4aJTcPRy4AI5qUiLCnhEebMW5xZrjmmAaZkBiGdQjB64THmk74u6R9rSa4L1MEjcn7brp+ONPIdc5Dzr846fuRrJJsx5AfMLVWPnGL/3iZqLFQsX1bLV+rgZNVPMKhl2WNlcbpIiVcXMEA6qRFc8BPxYPAhI3lJs8uRkd0Hxf2yst0011MXQLoRMfXmYOm/fEMbcsM8K0++mWK1e/DDqCKLevEdncg1W7IEQTly06gIUpGOuGD+Wcts7+QGWeZ6FsnmTWtutqZ8Ted6azaeBcMnm32HFsjlzmkvVb0oJOxcmy7Y8N6Hp+SCpK5cJoCLdoKMZM6lTk2FkmB0L/qFCxmT6igNvA09BJZXPLhT+dbDGp4HBvCEq8EyE4ygjbPZxigOqIUIn/MmP3AgZRuxTrCU/7VKf+c1Bo0GcgQP8gHuDuW8mEdxarhtHcm+kc3sayiWNRUd5VAll7iRwyNbwgjQnX2LBRB6QPemmThU147V4kgE24l701jHshT4oSUsW4GM6cRyLIzNAyr2+oV8+JiK9HfCKVYOcbF7GgC4Mb6tZldv8Izk2g4w3TFrXHM8yXl4z+XXsaswTn+FGFunW6Fjzx5c1qOsj9roN9hzyLDVDHbK8gpbw3xUrV+H4/lB5Q+jx2v7IeDIQCrBWP/g9TX1DxBFdPBhS8Q3kpSe8pAtRhLNIHO5eRvCu9ybh9EOVcc0YOEvA5GMf6b1MnZI31ImHdaA3IEUu+ffdl7nY37uHSQHbDILs1TBHTnc6d/QE28jkNQ7GMjjVOmP87Ga7U4Biy1gMB5YZF7dar0BHoC1MaSscq8ZTjitxNyhILapU8sGFPa8JXFF9i5gaFMTALIbZagY+Io4tQJg0+xQ6On7X/cuqDOuAV/7iw3a9U4a6eEDIBvm+17DOHu6cmSHLOGZAibfb92kwirx6LxV5LBBpkBgxiULzNpbuBwpRBzc3IqCKU67qmqNBaoEEOIB7g3pzKYRRqJGZ+v3+XBEZw9cfUWca/qPAIaoTbS38jhRurVDcxQacLw6Kp8FCEQS3ykVeE6AR17a7+Awf+nfKn1KcWBq8GMFYdo94zV5egFgiMh8ih3vThPve0TN1M1mNyzmfEBKkB5cqmNV8KlSWbw/TRhtpkPDtBAj3gtwD+Rnqt+ZkhPwSXcP6SKE2m7m3N+q8LC0RMsSsrkUzWPap+xP8LXP/jQjYQkcseXbRKXYplfVCYeJPji9JxocyYazJ8VKu0g0Yf3ia0OHOvotaCgcCHC5PwUDRliLmbwii0Y4fZ5lKhL6nYG4nLMu/eEkNKYRKhS2xVnJiG7COjFWpSdx7zvsI1jSkVOJMfw+zmSDwF4sJlwyKpJcMheiMk/HLqZ6KIdsnN3ITq9bL/JZoqMBeIvezX+JXWz9dbDQqmUAqusgwLW6MFh2ljjwwEhY3uul2/AEUrHN/jkU+ANXTUP38zTpEo0FYgQR0gHuDb24pg/jGF45okUmsj8IqXjCS+nclqh56CvWhUoqvMOp7PVXdJHx11KSvG+7E6V+CcE+MKoUbH63AcmL0ZcBy1SBXpzFD/YDldpOTgD0PrV8v4ncOhhJRZrmlCQca/mlP8V0p22K9X7fevRQnK0CvWpAphFG2DldcVXe3t3lKPW5tw0UogKEIbgzhqdTQ3V/hbvC67VuflIIKjVAIlycHG7IfznMYwUOnswaxpNy1hQvznp/3EMjMoCdru0hN9hKvoFy/EKYlEPIR+yS9rcbcUHIO/ZXYPvfOfqq/BvsqgSmD+twx1060E7l8Ch5iQ5w1IA+K2HH/shZADHcnqPcDa6MATZ9OPd3v3eg3JyLl6R/uWOJV3Dpx70sC9z7PQoPHRgF2ZlLuPuJoRfhaptRRzAls6uq9DHhgZQ69Sq4ajiIsY6ifRzflwO6G8jq+cCP+YqujQW+BBLCAe4NvdStsutobQBCXHccIs9k58D3CC+BZr41UVAxk4bDHfC7MVVXyGNU4UpYtk+CFjASWMvkCOUEKeTGZYurTp0ckJWCL0SPVowqOK96D9TzElUFVPMl01rA7vR0MprOX4AnIiYUQ34wHEDVGzDVf68RK0SuOKjZrgnhth/v+8zjQYuc8CuwNPmshuguV5mbVCZsiLIAavtv1ST6gVi2Dc7coqQTYQ3FZA15gZh6/p2k12PS/mXMRbSpinYqIPT1oJzXCf7vulcdAeAO9u3CQ7OsS7xcoxet0deyt+0hV8rRHuTwBZaPLu4iB5I1g4AgIpMb9yk6mu0fnEW9bLLLGLZXKIPcjtg3YpJDEvmB7EQiqNyh3SM8tzNokdvbIyA/hUgXzJcfsWXy/irQP80f94WqaGz5qPIHNJQpc2OwHcPklGmplyFXGSCyrTH9gzt9EenkvN5wGFrqa/0gPlr7ghpvGN/fndI+0Iirzo0GAgQTsgHuDhXyKDlNaiweTF23AH1SmbPDIaU0yulEMHvtNFTqU04RP7m9FJsWvlKUk6MHelxr1bIptBcmdgDwMvgyoHcpQ03x1JuCkMZZEMlWj8ARQ3fwCkKRFTNk5cbeeHp/xpvZ7JBQPFw0n6k8PM+axes80cUeg3o8XwEDPsp3lN/+QbDzS3srlrGOwgWpnTaBunadhBoOYNXXrluGQgGXvFfpVb5CU/i0v4VMibsmT4tV9yC4xSRqMt1OSmamfMvp5r8WkCUsAoRaLdUop7nCrSSqi1z2NaTataqrljUJiKHMivrsIcU6gGh0Wk4mHeCscOY4BGvo5xha5UI4dHCQm8pV+SpAq4Ynt0Xh7jjfTKqoNq67dNakeezDrGPd+9eH5BKYitES155GkI4iIYrpIwAwS/aJ7pIpJCn8qE+Vj+yQMdnVsXokroKaPFdINT7+JMQ37TnpIMpaGqtBV9qF4W4f57jO34+Detnw+mLtbf6k/VMxOYzTCEPqaOGSuo0F1gQUogHuDdH6JldpGd9GP/16IxlHqG2wg8cbNlBGCQDhAvmB76/KtdAvpS1NvJjktQZKnps6Wtds5JzQQ2O1fODqHa0IQixukZK9cP8cLcSHwMuwRxb3Ko21bRh3ItlFWJ0s3cd68tnU7IaSNDYMqrsknHCM4e74i6l09B4meGb0Xtdsb31TSj7zwTFRqCpzDHUtojbDyBQqYwczlvDIeeoIYe3lirrvWVxuCMkH8ZVUrxbJDZLgO4JsLGz34P/FdqDlXpLNUd54sUgikLpBl67E6twHi4dUE1H8boyzPrzJV5+2ynQFYWz9peU/GtjPodF9oTzbjK8yDJYoE0SOwhOH3izsJs+74u9eBqD0rWEysDmQNg0NMN3IID5VDTeY/XGppTs3b202p/XYpRXCa9HOlIHVRTGaSqIRLSmeYv/I/pIkmJDICyHH8P2apKe1idy8rsDg5+Ikzd/IOoVbF0G3XcRJe+aybUJgFWeUPUZs1atkAxaNBdYEFZIB7g3mBimnMzK69x8efCzzgEG+mPDLN4DMHY3hQv5sfIwPqkKAWPUtGb0ZdWm1J6OHphgGIXv8Phb5I5G6+Z9WF0ZEe1PRfh93em/AJVZ/JI8Hi1n1q7omefPBtoVuuKW3fpL2wqmRPbT2P3P+OcFSiWq/swNH212HH8bVoEIpBhGtq8v+7okhPFHZkiNWBd16PAJ0J9GPJ7d6TKGfGziyW65zf2j3QFSEjeX4GirHhleVDWSaRQYdZ3p9b7JNPviAE6i1MBSfzuXBXCwTiq449egF4WQNXHHW6ibUd5k4R+I/VqcBvdDBTL1y04A2Mi9ro7vmEuad4e6Qjimd0pi0VgOmJB4RBA/cQC8+TrKy1D+MR5JAazR+sSmV6KK4TjcwqSlxJqyxt/zu6FJFjG6cPSjuL7fsBt+AV5AOX35gJwI1B0y6/Gh1Ua6pm6+Mfw2MOt7COw5eNLglP60P8+A7CvR76KsdLkgBvQOqXX3pgYHyjQVOBBZ+Ae4NybYg9am8To+uEc+qTmo3XUsIPkBJ7VPPMMK42MmF9FK7fH79mD7dEHP871SKwH2kYIcw0AsES1c03h0gwZqD3PwvIIOXCje6cfnk3E0q6eMSY12SU+2pVZP7XNTOwQD0clAbH/pq7tbwb/JZjZq0vpVqikClLglUt5gVSni97CTBGuUm5jJDJR03fgUeby7VmOFBs7ZWyLs7eifuQsc5VpGRAAemJfdbgp2YhObzCuZ0Gq2/IEvf0U6xCV6K7unRnA7OWta0pWyhCRCxU8bBMRPWCwvUyyaDg0wT7KeR7ChAnnC41F8JBZ1ykAGzu+qxjVhNCtDkkONKOa1SF7m0mQi89BB8Cyf9ti1pyCHI8fa6f+PMw1mDqDr5E+0opRlAy+rQ563xcrD6XpM2NigrcIBlXmAPsrBHA9XBmfN1GKxVyhFUx/q2k6G8BEoCjQVKBBduAe4NqdCeAXbaT73VbC50nCwu+15pRjvv5jZ5kBKuqFEp5hMuZcWDn+l1IvyLMcUtIsBfiozzIpq2SYw1fb/oHC9j+MZyNLGGEnnXi0opssS28ypjVR5cF0nssaujkfH5zfA0+Cs1TV99AhdRnUcck9JZpdNmoHiUzhFHo7fnm7DerCiF16zlCk1XPhD16/fp2K3MEGe+/C9FukpHj6IK47/v7WnfWXtA5h6GZdRKuf365axjcM6QR3dPVBA7oy3OiUmgci9Dc1oNhADrxsHSPzwgrtzPHQBU2i9W6olPwmhRJTST0w8Vk43+DRULRHYft3uROdxgCZIwZXvATS4342i1tiPiV4JHslKVgRGFkYH2YnsgvVAfmvtHi59wk9+a1r61JyDsdCiP2jFRMR4rUp+sGKwEwSsY3O+53rCs0FJT9CIWRgnVqI6Dc5S7hrqNBYYEGGIB7g3J2IdIFHkClpOnYq31083YADDGrAklsE+u/kTqM1lhSaODiTgZ9FqCpyZA8EKLTf6O4KTwgZmuFieGfmDKvzTQmDeOseHDArPGyqCBNvY896fc2wgzuqFy0z33x69xOQkkuIPuxoyJ9PlWyoRevmrOIsJi4IdHOQp7LXnsMjnbSsr3mRNYi4Y7haPCtNdtZe03R0cSnA8pMtSKlHokqPHQDXSm2EYUbSWKRJOtEUP2Jfr/kC3FojT4qcpm4FD4ldzNe3YNu9CzKEhc9SZohZP4QxMPc80s7X7tT26c6PJ72OIe/0eX4zZl89iHPilhi0JlbG8dtwRlx+kCJVGuV14mTA0J+lzyZ5VQrK9SgAiOsceihz9va1kJ57OjTbf/ntwpyoGzXHQm44usgnRobWTFBa+rHOXcZocnRjpd6090/Z/Y6ezmC3LJtrjWfjZuuxOwsUnHeOvcwxvkuo0FZgQZTgHuDb3Mh0dKwxhBx4lDxXNCODSCLfSsuLbJRK41jNRxIPEF4EVvxbOG0Ws7dywGAEXao9adsbflv52b7UgsWS+LfASxI0BW9QWiST/gBH6pAa3MGbhSDBJ4CYjH8LcytCLHd5xhmMPz2dE9IYEAugWxzYP0hz5eHBq0hUoX6DYpR2s5rrTwZgpjcxKeGOvehQOmlEJLoXCUZtsDDXVO6VhY2TLDp3YWItQV3BdKqlHyExax17dEhqPDh2fAfy3VfALubqrBZkzhJAlNzmwipemVzr/vvbozoSFVg7qqdzBSbtTJeBB1CJI4a3Vglnegyk5dXBRLqTvSLOqbv82Z6/eIpu7ZGy12SKYlV3yrwqM7ikRwDmOVlMQLNm9iteBzMNO2JDTXd4APiyT97ZyATNZO6aa2auK8QBLdMv1hIeR9n5NdMGguPLO0mskRMKVATozmCrIGAo0FhgQaQgHuDcHYhz4pXIlDMJ3E4M9RVucKXpevh7C5EFnlInaHSZ4QoyVEELEf7H9fSS7Gd3G+v8HgXLiSlMik9U6/eLlKSJE/Zvlm7GWPzJHPVbRUmQL03rY+JRVZfxtdmpBVUoHlGUqACTHnxnyZKYb5uABah5sikIc/CEvUuFMViZCfZ32gpmPngOQigKuepd+PpWhSScRlJ8t9olmLEqdC2LNsTgghvOAkLCR/ewB850i+AwlrzXy2CL1stgWuIZjcOuv8IwU+ABJa6RMgv0WmiZZJL07awrRXPepvw/F0Bw3bns3DuniY9HlnFPyJp7jOTJDw0pkwXHZ1WqBk6P7GMJHrHbTUx1R6shcyUxbLL9Nm6IaoSqoGRH/zz/83jHDSvq1xmrbE9WDxAZx0Fp3x3lmj8lVHBCUy8ieICMkX/UWC6gDnpWPzicEce5PACgCKQMHt0KJ0H0djryieFcG6jQVWBBsuAe4NvcST4wB4+MLwegH0BJp0dsoAbUHoamGFyrxH0VuqJoOVMrPiHfpf4grsXNhJ2oOBUBZZpJNFyAUK8KqbTvQY0xkkBCcUA42PCeu5AWPby4Mn9UsJ2MqEbSzJAoxGB9kvID35JJDPFX9rNCE7OOqBwPiQcrblkD5bMD9tONoY73y2JSCCyL6XwW+BvVkkOa1BUV64JKuv7qA7Ensq1C9kgVs9Z+FYwTO+UA9dDJCHD3yV5yOpINUSek0Vewdi0l0hv4DN+WVi3g1RZmAxOOmvnwtITMABQKOMp1kXuymzAYrEeImvzNUJXNDYXY6ls5hXtBhikD849rY8/Vf9mpRdEjwEr/BLWQ1EVkivAwM/rdzoQ6UeZOJucxdEepKiY4JX4lwP9ujbcvhnIJTE+683puZjAgnV2rwxRhhVT7k/wzzG/EnW2BWVWA/rVwKJAvqNBToEHB4B7g25sJPegOjT4UwNlOLpLPyMRpHTNTXh23OE2jMkr9+BilwB0mmiiAlFLau7hj19orCfatSlxQPfxeHJA9iuc9rdPMZy7S2fKOQ6Fg/1BjBuJCuM0JbgcXZLi0iro9+leYv3CiyhB5hHZAbcp/2Ln2cUk9IUNAgHkQ/cx1aaEPl/Yv+95o3bpOfkvqnyGmOhOrtKqEq+A4mKsoWuzOg6tOPgjCxziT4fnOY6PL9MWVwp2RBF+E6dbpXiDOtpUFSxU5IISSvoIVCJ7OeZlp0P/mAlagi31s72gVQNAJK8k9IZ7P7hcUpdw5XzNqB0SCr6NZGBM+cDM7hllgNrnRc7bWMSG4XAazFKoDGvjs8PRARGdToan2AfYcT7I6HxkROfHM3RufJhf+C4n8AAs/lNr7M7hodbbVkrsalBbAIlInT1LJy8fA1h2yO2jQVeBB0OAe4NuciUpuDx0EWTYdt7pJ390en2VDYq5Ab2a/oO/OVIy3uzrJbcvTIQhND7hFSiYd/g3E8KVGnkc+Wx53ohM85esv1ZkHcUvR8sIlIzQYJmzroK+15b4BGO4hF5P1B4NeL6SnA7gUJgS6AK7Qp/VyLC3JZCVACouRrtD8XtIKFgUjR2+3d82Y9oaJ3A3fjhXyer3SVEwCoavvUT4b1hupVMXmXOQgYgqgx03yzqsBU4Bw7MzURx1c8yVWIf/by9hkas7M3MnGQGeaMLsPGGPawj2LcdgTjk7XGlO1itrkfqt10pHJ5q6oBPhTEvPhOnNaZmijOgrU6M79j9VdrCtcRObhHPZHaknKr0hN7dkvwxaohGLza9n9mf8aQ8z/KC2aMw3HP2axE2dFMAHZaspF5/sY3I60nzJVEq3Zwv9i5oVRzDsj6Gj91YsUAzb97BP4oxwo0FTgQeAgHuDbWgnmwFzIibkM36JmnbDBsLclX9G2i+aMfXvo24PbfGyHYcA/64bLdrecSdXTWX4qwmu5za1rppan8m7HOsN23zufjlCqAd9LBdkN47A2D3dGIIRkAN7smS7AUkmro0tRum4zhlldSlZzIrH2BE+J4BdzzfsiPwSu5b+MSaDmdEi/Lea8mVO5SX25PrdPhRnldmsJDi1B2t8k2JiSC9r4r18Dq8w6pWednPE6x/r8NoPn8CaHcdeMQYRepfIlIkp4qetsgPVi9CqkOFBb9wPlc1lNDLqOPcDcaBqCEEyVus95VO0GIl0SceNKrwH3q7LFckdF+jw2+fvqDgofiz3uOT0XQSPOzXS+qC0hNauTgUCIFlYBKg9ftgUHnTrtmXCOx0fPDHc21btSfgDPMhxXlrQ7dPW1lGQ6iGuSrnU+QcQtuzhlpsdMbC1410/o0FigQe8gHuDc3UlHr/uUycqYCl2qKJwJgBRpRNGwOcIgPqh4Il1YpEMl/NsOM/9Gj64O2j9F2bNCgZfTHZxeFqNbdzNR2BtvV7CRT4gFT0wfcnHek+N8zp4q0ToFU1ukgRvGpWf4aF9k7tFokNcTZrD9ZDEgp82ImKi94h3JZDWvspBDADbt6ixnPE65WHw3hyxHxTrILfhvEODKj3rhLfA6UJsh8h09z9hHQcDjio8jg5FyJmc3JbIFnZsWbYWo1arFSEs1LCtUp/GHrd7TYrmC7WB3KKNnQtykCxf/AJQ+wVGMVj9CHsg69wTM4yAlTIHJ5TldfGM5aTxEarWet5QNIs/C2wGoHU8g5QinXelg83MZGKjm3YJKQJQBzj/EqhMZ/VPTAg1aZ6lqODl04sYu6urcz7MfH84vC+bG6KsbwTVyXzlhIJB5bP0KT/BEXjGysEqf4sgHb30O2ryPSfM/RGAo0FKgQf4gHuDbWwnnJqF7rNrg8MTdLzdPJnzOszliVxiwzYs98mYpAJaL3vrBhdnB2/aaK7AyGVBTbLa5MKIcARd8TYZISbQKvvhA+B8+a3mO6FP+DjTxLvA3ljMqd4bSm8EFUyb29gCXvmtEiArZsIbfB4AJND2J50Xam+lV+XDW+RXkMv3eYY+kSTMrLo8+YLBceFmhQu5zTCKpqEd1L+ZfkyeE4rdmx3lgPRAFsc0jN0oTN3sNxCfr0JIezE3YDyhzgWWeEli8NRJwSyGnO1jEwePWZUbN4ZjlnsNIRG3QOoAJ5uNLxnmtQSS4dUnAhkyBj4sJRe6dsLGi/MlfL+xjlNW5Crh0hffUp8ZXBaTIvTuTpMOgyqAKdo2iDlU4P1jOcuOVEX4hKuxy8c2OrR8bxJClSxPFAILy3/uIK5t4S/MNVu07zBrLbmRo0FTgQgzgHuDcGwoBJh3sxVYtmjg7B6dxuFlC5R2/ygH3hwyDDFv1IVLT99zWYKSYOdd1iob/VZrgnlLQIKGyQIu60NABf2r9Wvy3hzjzskXnBPJz5XkeSKBBvwSq+gTIUR7RtaEVp53IeeYn67nfu4HFlgu++Q5ZU2SLqwIKWf1Aq5BMAXTMM6fDa7INRSvzidc/MWon8zdVGwbVa5Dn7Q0waMZKDDcOcPNtOm726Xfuk+A54NqAipNIEZ/BtVPPUZjPIRfnlLtKVG5OyfuSAvunHshFdjarXx7GXqNZLH2vw740xQqKy57JO56CH58O/EvBTBrpliJg+WEGwhNuFm5TiktS/NKbaNgxgharNV7tpT3/j9LAc7JkLyEE4TfKmtfA4cMdvzWr03fos3yiUZcX5invjW6qCBi5dWSs6z/9kSx1uKXgkk9ChNqIYpxign59x/ro0FqgQhwgHuDd30ERVEUcvDTTNs3JwWBS5UMGJQdIeLFi+5UZ8EpH1KGEfKDPni0/yYcHxHVIZJ17ZXUCsdb1TxtFrVUvcWp5enChWzPETYBYNjY683ytgRLceNypqWP7ddTfhPfTqeAifPJr8PsyG64YjBwwtuScbNdEN3tKZ81gIEVWaP+vvua80C7tLqnkEvUFbXJM1dXvNpqbb4Ri4RgJOKsWeW4CW7h6VyOW5Us7l2bFs2kbid4sikIWMMx4jKR0uJdvopuaa+YlBxUUwayybYmIYprX8Uw5cDdvgAZXIrywfkFPNhwSVNiF3hpIEZEIGu5DjiHjeR2O5KiMOPpJ/fId/6ndaOxW9GJ46XQFz1F5rB9MyT4tTH2scKXbtkTx1MNeIsokLjckFs9HiDjPuWmqTN44Qwj8jYJBx8BAQsalXmEuuOLCMOScDP1GfORAOTw5jiL438nEa9pQfmFIcGMxmcrLvqLX+ujQVCBCKuAe4NsayrmdgqMWnq6+yi58+Nj1wcCplo1CLjcnWcgfgkwMFaygnGrfWX3qWqWNJkNiDh3JdwjACx6fdkay7qdbBcneI6//zEggybPzXZo5auBZ4x8CcWstke958wBvb9QqMXas2+kFBBp9Vx7T2wrESevsMYNvMV1hKkm8ta3YZsjZRpo6nQbe6do2GVeDFoTZZt4lE0j4qTORgUezdpL1bR8sKOJsgifgE3+0lUDqGVQUX0ju33t5I1wJDRllIRsKtgzeXxW/YqL7NFUhi3G4ULFa6QjNkUcRkLRJ5yGPzJnkL/59DAaDJiUwCgA1urKuJJkiKAnk8xWlNq2r9i1BSpRlr0x5472rxpl/QOszf+qU8+IO6bo49E1m+QsXppf641prwR95br3ys5iZIp8ptk+L66QZJnBkorz6sAbVTSmdGc32TJGMB7et2OjQV2BCOeAe4NzaQO+Gtxvxgw9fiPXkDDvT8IY/byugGU6hFazdwvfFyA+bEEOAyfJ5oEb04DnATXX1GC5E51Ogk3Ul0oWIPDKUWOZaGRPHRnvwppZXZ5zufD05gd76Wz5DY0MvgvrbcFG1xo4qw6eEmWi7wGpfh0iKHi6Qtcnh+k1kvmkIeVQrcXIMcB5EOOEF9ZSKn1NcoJ1asCrPgtNH9VOEZaRNitlO25lL1bGqpOEeUJVshD0F5AcOPb2AW4fZKAJjy9qV9g6OajHIZe7R2oi/zVEbLMOIhuDSkRAb9YePfIGikkk9vkr4TVg8H8ZxK0BfVXAzpqmKk6HI2m8Y5qAWk/SDpTNnAQ3tYgaIIAZqzT4G8eulxT8YJfvvoglJOikr1tUitgt/yNdIgQd0bSPIy5Gvbk7kAeu4KxC/IIHh61S7+ASsVOciiTKpq/an40j0i9ATm9ImV8DLasIo0GfgQkkgHuDh4uAjgg/Ex2g0rqzim7uPO2892iqB5TKwshk3rVjF4WBSwbeBh9NPLc9H8gMWdXRqnCttg22SGYxSz1Nqvktnnjq0IIXG/JAm0Xh1vNtGaHxwVQKP4UAnv5GwVcK2artYz8NgiP48KPP2EEPCVJphhbKXN+zIvbkRNZzT8ncTkP2EJq0Ge2SXaycGPFItiqs5H1RtOrkzqpMNOVbvnN9Z6/osQ/AlW4+99YLRIT1IsWTarJmLgngiFOz5Gjeel+rYfMJUwsF6z8VxW1nNNFmSuEeBfq07rGq0skcS11rrw1C760NDeNFWVx2Ts0eyr1c6zZgnOPuX3Fd+iciytzRMjUhL1ZLMqrHbLV/wlNmkyGdIgjrnBbwLTTqxYyitXU3GRLEasj8bAAdz+bPVueXvDb76z5U8aLAw8P4uMAxVow7fs7MjntWI11X8CLatebVio1S5lUEOJlfs3agXyaM9WQbYh60nvkslDsV1YbMeEuZaFPdP5jJAtyOlI56pnQR2ZTexg9+hJyHMGnOfMQz33AGwmevgo1tZKNBloEJYIB7g4KEnB+qkWBgY5WimO4izfqKiybYuB2M26wWIwBmwrB4WPK382WEV19JUkTgJWSu2cDa+Sw9USuRPYql2FNMOS+4ButF0GvxJoy08ZxfGARBxy4yYopdM+QIuci5oBzcIKQJ7jqagYc55zY+S1SBJGQybwbT/wqheJqDyYmKVJ1qOMPXq5v0K0sDNlL1NRyWDSMagwh4ZRrGrLsCKZzUDgtZnz55sAJRg2KvCNoiUeOS3xts6/uhzmYwI6zd7La4SYblEztfBlb8M1VmFnnTzrDhuXDThqRvPkdUTzU73LZ1kSBhwIndA1551z5DS0hFijDCZN/52MNHN0gd2NGI4mIxoXWm7Tuph5skSN7nkOolb/+CbBNgFKHXo752gqYZh4O1ahcvpPzR6trdjmtijF+/fjI8MhO2HLX7RN2D8KG9zc/fM5nLZSiGjtP4F1hb3QYiS0I3jPSo+d61u2VRyGKLzBNS1iAJqFxEAKZYUSkmKuAMUkI4XigPdaFN4CzebwF1vBXZOT+EvvsAMgOegj6jQZuBCZyAe4OJhpsFiNGdexqqJA8UfhyXWJ5bgM8Jrj/AR+7bDj4gcfC/tty0Aymq1IAhZLfeDZREqNWr2bbZqbueTz4jZY6IPb0JtLNW5x4fW6wcZpDSk0sZJUAjDb/9IdDBvpBy04u+vjIDXSxYW/j3mzEHVCDHak8P4RrON87TNamvKazpLEPRdCWiGPjl3i2KmsjHF2rqg8q9iPxw+K2drSXwGBzbZxDykTtBzqlcyUdsmvO3fRRBercwsXW4ATVRY2n7q16F8xFU4dFmltPPSeH0UZO98RA0t8DvMoPL3dylQuIihTTu+ud4nYbYi90pEsGd+vZUQ0FImLU/r1Ue1CxNWXaRUt3Ds3GwQ1xjXiPFUqsFqWScLWJbrQRslQDCd1GOEdwt3CXYieKb8WJHjccK0jg7C+9ObAMsd7st//0AN8n+Bi8bME2D92Tvxv0tSwXAIAFHfSY5oaQ2jkKoUvG6fUuJe4Md+Svctci0yF7BoQFYqBtNw+d1uGKoWntyHhNzGiG8IebWQGCxFKecLdKcEPRy0LE2NzSjQaqBCdeAe4OMh5yRMUwzBk28mVhwqZpfxeNOovGH3OldTlvnKib9DqKNDGLrYinkTWQsUzegGiU2QGqLllAq3EuiuhxNUY5+fPfzruD2wA19SrApBL7lnfrA1Zdqr5y51I9PP1yhTMC7IZV0xHOlFWOSpb7URs2kmlKG3jy/O7ZbyyD8HUVZJpdLIvMHzyX7niDM8AJ9nU3bPCRHPXiybZJRPEZuoB+/PXRHiWuh2oSf2Q3IRcKDUVIL4jHOQ7EXmd36liboMd+sSCYpKO3iynJMNsEYoI9NjyUdTXHZ3oE2s10CXeEy4XN6XF9oEeuW2f+X7l29SVj60xKeGYoNaQw/4ZO00Cemb6Eq1I5pu4CDGUS0Lu1rZ4M4pi1WnG5/8vDOv0RHWhifclM5HGmn4t03sb4YyT5KCOhGVwFglNKpU/2ThvbdOUeAgduC2BKEPgaL4mG3/vgbiEupT1O2WnH24MaVnT25gcfhHDYmLhj3gexC2vR2d9n+DLIgVRSb5Owd+3QWPli5uNe60pZOLQzDA/j9aAMCToFcRVkwd6pkF3OE1DqRNi62XNSjQaWBChSAe4OKipyNcoZ62CqRrYmPbb5WsywWBtWKBoc5xewerbyXlz7IXyj3Jus13QbrE0jeKsJ6lNGVuR9gtCu4p8guex+ccVQSGCkcAVoQJLQr71SyeBfwqdAnLXGV2l0zsRYeXY8A8Uz280fpcxymhCL57dqH6pS0iMTrSbG8IVo9GWIJqOPAxWlExR+iOVb7v5yXt9348cAahtC6K/GJaon8/7KJ2VkCP1lM5HYyeRE1F5VoC/WU+p0Xd7PamA70YfP+Ku5dFL+JGKhWHoIdrSMiv7R+qzi46pyeAf2uU6t2neqTllFrJsHKL/AnQyOf9t9Rv/sH4BQDyiiHELNFrBFX9Q5iksEUC0Y7HZlVFAR2moLCwAf03nV+EZyWMtv52scVf3cBk4DCFEkFaW1YvA2wU1MkBz3hnvJC57w3d2wBnzI7jv2Qoe1nXqStgwoOqviAKQjkbyg617PQ8/JYalOR93pHcDJyzBAihfFM4xX+PMwdx0/Bh4ipmIQHRICWGBpmdP05XDBA64FL/HG93Mv7obU/UmLUH54eRnVjTGfDULObo0GHgQpPgHuDgYOcHMp+bO9FA8+bL8J0DBlQAX4YgM1kc5avlayWHYGGHDlTyRYnmhgWHLrHqqNx8vwBJtJ6sR2RpK4SApH/3gk0tm3tiiDBEAnAvBOkLoQZUnpL/qLKC3JpUok/wYjdQPkt1YKdukD525i9J/wPWCfuF0R16qBAC6iQqIuoAGpUX6acHMjb5IfZpDD7b9e3Fs0EM+1EhhuC+Uf2NQxYGWIkLziVWRJaR1pUtfmcb2ZAfNqQ8QE65LGzbp3At2z8J9lyKX7erTnsKyy+TaP0q5loNrrYI3loSQXsjZR5+YvuxxnOSsKxStpuod78hT+pIR3LWKb/wc/U/0k/ARKzHqrOIjF+hpwcyNNEgp+B3tf3Vpg1wPdOfXVYjvZQTz1BRb17pn0x1J5g0RnYXOFQrFHnqmAWa1YAMyFVTt1/VY2QAaGH78VA+7hjSDr3+rjDDzdhurH1KTiabePdKVzCQVPH60Nqoy+R8t26HdCuu11n5njZ+rcdQUVIAdJctzo3vKNBhYEKi4B7g4R6nByrMo7+Sbd5qTeg7io1C1gvnUshYlKPpWeAn6VmMlekEAlOrDz5gUMCtV/Z8B0TBDOVnoWlqtEMjzRTKWUUktZ8LjGMseWz4hYdy7v+z9lIcpE2f8YU+Gmbaj5OwcNlrq8HPbQddx+RQtwcD2L0691WK2Csk8VpPGJTXL/vi3USbS8Mm/bxmSziYO5HlcydGTP8iPoocOQrpMLRtP1Oe0qDKL7G7e4/XCmKgYoIUNHVKbdhcC6wco1iQMmBezVY/VtP+SunrMthQ37w4AwhglrbOX+iRU4qkI4/ALDsWqDDWqCeBFE7T37pbDfRERXj+SMT4MIOynrpTNnw21ObLwhueLSVSevvjjI4vunrqt/nvHDm9/62oxwKtS6sLYDwqICw/4OMunLDnTpaY+UDvycqlOYmXMpRjeBKx2RHOGQZggJ2mNJR1vqOdgjLXZRotMZ/smbf73SG7r70o4iupqQs5vhN0U1p01/Dhjera4I3CWTJcI1fDwky8HpWo0GcgQrIgHuDkYad6QX8BjIpnmZEcxAgGcRm0/zlaVAob6BN/+dl7g+BaU/dJdVX2Q16LMzEwILbwJTNd0ClUQuMBRCuylJyRtRLWfd87f7zqK2FbfWXM78NH9K5P3o53tDjwWrQuNdz448hq0c19Jhw6o965CnZ2y3LxCJQ871IhYdj+kG96oUJIF85SNl1Gm5qNONOvfZin5f0nnkmGuwYCR099w+52K3zymoWbDK7n1ZEzyXqds3Y69omOR6wrNlAeHkryFU+TE9PJ/qOLAhuF0L7M8+4GRx+/LNlsT+uGpUY+rD1Okym/h2UUqck6GiAuua+jhK+gpFTOHR86RcibjaYP7H9Br0GCnL9F/SJFe4V5m2UW3AvleG8d9z1JjqdYkjPF1XiNbJH144xAHU49vgvfQqRMITT9QiRosq7UH/fuQV1hLQ1j/4Cyxet4JZ/KmYuhdYaZFDBrjK2QaOJ6VClqYmYPHigIYnI1wCE2f+uKkuPjH9QZxt8nD+JzMWHHZjUJouey5NZ+CtHEWWqZFskTQT62RsLGeu3U6NBeYELBIB7g4B9nWAf/kfhRcd6Dv4tJZl0IRqQvVjrgrMf/6gL4EX9xAYzprlgGvMm/n8V336u07Bo+GVMRESQBf/0kZZ2VVlSVOw2c/gS9iJk3nBn808lfTptNtHEGiWP67XJMIkMBj+FFSEuBNnALgfm//ClfBTVxbqhDlnrIiEcEyOhy9tq5gqdaP5j/bTweP0yPIUbOS/o4CWtXuxTjndSyRjtgZBK6Wfdu6yuyYTfK5TzerQVcMi68IfRRVEaPbESicLrux3hbJ5JJ3Aup9YH7+jl7p1ns6BxP3OrbvSgPt+s30K3VkoHYtDmA44Roirjru+MQCIoDOa+y8oEAiDWaz2tEp1vne811WiFUjMYugnKS/knlQPnQ3HKFKnhQZ+vZsg9GbkCz3FhtxUbIb1GmsKwwg+JUbK1736x+EFumJl/bvHLIhgrXa2DjUZtyFz3Zte0s7M39KcuQtkq62TgolAx3g3h7bBxs0rYJOIBSy4rNF8GRp7Fo0GDgQs/gHuDe4CckFTXh05XPsni3OCxr7OYVkV54TeKpu8uEpP5GQ/d4CHAHBbRR5PR8ABUw5pnGe4U7B/ajM12G/a6BjejB3cB8Vdn0jN7vrPrseHh+wZDbyFpf45A4Q4G2z2dpsoUvKkXvBqcPB11HeElbiWUb1CUGQjIO7qNml4R7RKclRc3j6edHPHMz9y1XwHssUTaX4nC3iBj+qr1e1plsyLgtFoPUmUyokfU5t5oXVj7kGqN7aRlI6AmM5ywRzeq0r7KAbNxdeIhgA73tdZzQKaO0sMpfyWrNvFYagefBUtxDHzmDnDcGW0ZL47gJQIPlBBWmRlluCb+4NCDGPtW1516c1PrY2cNiuszbmCtpVMHGYEQ0b3exLO2+xSCXYRykr3ikm8xAITrdwoujR7avQWeQNxNWA1X2drCKOoiTUlrWG783HyIuLmkvzusQKJ3+l5RmaIs4Ff7TVbDWVlyHEOxQi9aLPhuJkssmOUysKzGVU3LWn3XsYsiwQF69Wdao0GBgQt7gHuDgH2dbSAlxgADpU8GtsdVWDGGIv9x23Ure1vTWDwmbaqIDJX3ai1b38PYtmTsE7wwMQ/PsMYWRZYOq2Mizf4pbYTiVOAEDTyySPqVGRRGwjZlUYuv5kPlZnZC2tDvb9Y7BGVEHsHhJi5SyYv5YnNMp4a/ybLWOV0ryDHF0aI0qoEkG51wyqgk1/D4CLAhghhbqAEK7lNP8Qf9tdIoYXmMGJDb2NWXQFoRYunnlVHX2sE73SMJzMQ6O2p78oUGfqjpXCG4RdD3GFB82MJQHb+OqRk+DL7KLtITxv+sK85aQ3dJ3PY5OVSV47xLVUbqfhaOnhLOud8U4taQSm9XNmt/ndFw/9Sn0HKA/O9zQneNX5SGDE08xmm5RNHsbrzsm4hqAKMj1VRaEyMLeqpITNj2diOqD/+74OGYBgr9dYNSy1/1jQ99fZrkYUrk08LmHC9m6oXHvfkKPrdF+u6Hnc0ffi18aEU1zbF9pDOxHsE6Oqn07tIxFtx+4rb8RqNBc4ELt4B7g3l4nrjcNmWlSShx2dRoAKm4xkONgB+6CCE9GdpP7EU6BNlEj/+9iLFwSt9RBwCYdx4y/8UJKXv932O0E/tqYeR7/NAzD4lUuP2MZ+v+vsXg/zl+EpRpH3/QulU5XHLdFiOWuILZyPOzYSHoE/WORGhLlN9tzCfCcL065p5KKYvQY+ZPYv3ARCwmK38F1x9tOMgiziJwOt0Au5mgkpA1NufDMbYhLfUIg/1guFVAlhQzHbDhLFkaM8LJBiWYafXb41iQJmig7Zj6mWy93R13+Q58+scK/HhYoQk0QRut4MyVg+5PK0UTY1JLMGnAXmbExdqy051we6SYJK95piqW6wwg3Dxzk24VdGdPWNzs4e7g8hM9UA21L7Hac/nTG4X3apxk0gOtr6YJ1bM2H9SkpYdLF7KGIh5E8UyL3VMP9hxL4KxHpYbUMS7/lpTntjPdiiv6eSnNaHSiHvJ3JR9zUrH6mcdN6VKaafa6rM/Mo0FkgQvzgHuDdXOcjuuiruTALtvsxT2m8nvjXmxNP8DdvrRGcN5d0n3KaGWKoDFf0VWioV5YMY/2VE4DjkzeZjBX10TsW++PZLIdr5OmdRzRK0d3fPi7EhxbtIloYPFqNgECS1UMF1GoYZ7/hQDt7N6FpIxpjAAxw+Ps4w/wnGScGBXiktoTouuPpTSXbRoA+cGXpiUPW98Q10eWq2vIqn75XnKwfi794amoeo7LfuS6R4B5Hh1N6k/nX1NgYYSmpdNw3HIU2+PKX6N0fW6Rso/WQRFmkjiZuYD0GmBILV+SlmehMzDVvSg/++sc+Ap74Hyqm/QEUZO8vPjd7dhZm9aSoaTTMp/AgtDez1P8ABK8vA4JpkYzfd6oscpbsqsL6Qn2yFUdsJU+9+C1UVulpDbfoWCt1UnLqrVZjsuMj4I8WXXkD6GADtRUsomKvryYDFFQKR7LILrmpyDx8hvVrHWv0UJMRCijQXGBDC+Ae4N3eJssMcNSwJc39bomieK6QVEcLOoKFMAhdVr5LtyjbFZkWvC1T261Susui4TbAGXMYhHPwTTf5Cw/CAmQr+i27cfRrccLpt6hwuXmq3OfOWEo7ksRyLVppm1eZdNiVFWONkH/GU9YL+TYGHju5kPNoxijeVBuOo/smyhLrxKTYgsHUYOla+7glEIzJ6nAC2PkUJi588Dex66T92SOxNPT7l3JKUzy/7sJte7gMc76nCLoq3SXDYavZE2jsspHiV1JFYiWozmuywJsIWHwrYuvcP58fE/s7SYxQ7okrKE1V/1O8XB0szRph2nQ3dRP26fbmrKUX51QFHYmUs0n7FBl5kcDjemytc1+S5sLX5f9HLk8bu5YQmYbTP8w53KqZI6SkvCX1vHiVk83X4Z9+SkZHA0vWcxL/7ZpEDIimUNn7awBOj7rpbodWP8eQlXyhUhQZ1CtYN6Qr5BJe2QDxXe4YRgEn94ek4xSn9ujQYWBDGuAe4OCfZq2zkkQvEJsofXw4G8buJ/QTJrWNU/g3RVnwu1pABqaFoxUthT7+DuwjKZ7f27RQ9/V40I4wTUCuJ58JiM7rOEH7HaOB+rOXbC+egodTVFtKCb4/mh4oYbZPDS+HYX1RS1hjoc6PxRyfE5Rh8bDomkPP1fVnQuvMBRM5GPoiJTdkZCajTOg9jXoNKrhPPDBqHcECHotOwi5plemsM0b8DJg1FkaHkPhZ8WKRP7gf7Ube3b9kF7hP5C1GHaU2vGHFJZpcHcnLdMufZzY3/D+w6bEJ4wSBNtaCzrgY+m/Pfv2fw7R2xFf7HFJCiJpqMPHhje1DBU1iELQ45sSabSCmZo80JzJNu38mGGyMWGm3NGAHVNZHek7fIsfNZ6UQ7uPfVGf4M7wyur7wFBmqdm4VNa2QG5r6/QHbsIVxxbs2xF2lxgc9xtYt0mu9qFV/O95vZJMKzby5iRyqpy2h4IoKqMiLm9Ln9uILV2SJccXwMOciFGGPOH97366+zX6h6NBgYEMp4B7g3x8mjzQnzFkDuinzkNa1u7UI2NjnfD8qZpMd/Y1usrkdUtwG83Fl6T0enUt6LoXbHbdn/2UuEPN2l8qzHKBMbe96NHOoMJtmjiDLXtajhthXZ1R7fmnv0Kwndo3FuGLFPybvqK1kwc0bqBVT1pozg/NhrR8M0SWz16tWOhiiponFo1T8v8Rdy6A0sEU8JcYrtlCKyv9Ix+Uv7TCqcNjYoUcPCNmW/NYFqIk75MAS6zKsRoACxSrKf8BcvQJ5yrsJwcTpU+WvuPqsU0EWI613HM9PMSGSJh1jX727zw59mMDPJWAkZsSiOANEE/Wlx3Zv3h4EulsPnI2ifmZTsohodyAwSbtYmC3NzCrNmqcZBwQ+zfsz+aEjGsJlw/A9ctjFDzoubI325HtEAgaHVyLQdnrrjeKQWA66JwrcuCLV8nE4cHZTv2EsXpQUllhLG8OxJ2dmvWJ+NZNRKAX/MY2fFYJKccZX8tCdG5SWWzfn8GTT9NOaXkmRZP5QyOjQV6BDOSAe4Nxcod6seulz21C9UD+TjRUxWYjAuxeJzaOdWKlgxbumEceLcjw3qN65URKynNt3Qx0kAKLSAjITjfd5Fljh+35ueYagm4mGIukA0qFF0vFOVWPIhnIrx6lMYEPHHVgwfUdCSR3tvGBcQ7vuhgQmTuburk9IdWaulWkv7RxtIJ8iSI3lmeXC2pbnn17yFQrZkDJ1D4jBzOYKrXcdF8ZQu6jnjCbMXJe92IbqCGchmVLzmaSTXjxviG/X49Jmjg5WkKcKNbL40UfOgWYRNfgg35NOzfSYdktF1A90PVxWbQqzqGOlmjuIdWauoyChbNjTqxNoRU55p9h/65m2NbtTmli+1y/XscQBONX2dKTKrxSdVW1Ii5de/3/pWIPin1Cj7MknwnmWWrucxs44qL7Df3YHLU8QqIxlFcTrd+maBaRDPYjE14I1OOFlbXhW9Na+qmxyK65OATE/6NBWIENH4B7g3VyIfbd2oHXvpcAYStKgcG/rs5zKsWQEi3nPnNpzmtyyAf1mYLxq9HOWaeaD+ZpoXA1pGClJWUEdpnZ1usDXfJODkArjJ7HbpyiNSEw2LvylOgkui/IsTVPv8/M5u5uGd+kHkSEir2lZttj87F8N7cfJJIQ7lCuIfbtdDe6M3jHLhnhcFV9VviHe0uL2GUJNAszV11MwxNAfiWktSC7VY0AIZRSl9qVCM6PK7yokooVsVpHNbKrpKbSE20wl5xfpO7FrayI7xcGiYWpChKEgLJyk7NHmfmh0p9DovfGto14NF8UPnRCmex0Ic+KqyR/11eT16TVsJm7r/BBmoXze7ScAxRQBHZjXfyL0XnAh0Dd7kuuiEx9iSd1iWFXYlW3/4kldbI/AMtF66bhe+wn5uSqgfReC37ctmPgaRvmx1CqcMgI4bHbWxwgENQDlolYD6gto0FMgQ1bgHuDcGUhAW8kExuZkrMg0GsFS5U2pHnUpkyX0o3sXQq3LY85xVO0baccDNaWK9u/JKOGGhW+3+rBafZR833ACRpgS9fJ4pWZ0c/3EQgEpYe1nh+lvcxIRfCLz+OherCAvtvHhy7FYxPMz4WIrcuzN2MagZy0HqvmCaxLqbvtlNVcA4q4UyuuZkVOLjWmyYNkDWVPwOAA7QpHRprv/fG903PtEHOG1pW3QTK93tmfKNtk/txMkdwDsqMAjtxZ7jcpamwud90uTHjr4STSns1FeD+og6zXzldqd1UbiEXvcMil5DwKYRiJPCTViK4sUXZANwRnlNWKNDlUAzp49yrDGJY6R8z/CfLwJa5kC3d97u7DaPZbD+gBRTxwk172jRdxCLvLdVQTn66RVpAK6PJLN2YoJCzkZT7p/q3hOIGPXztq8MDGGmpRTC2jQWaBDZiAe4NydRuH0D7pjXZ/IMl+jdB4R4el9dxXcTMxm2rSqROCS0bI9VW5TSs0JpCanbxzt5OSDnWAcJFEGEiYfwXzMYMl356H1kJMHhu5flVwlqjgPqViIApuVj45po4FQV2mER5Z7RDNHrxU9thsF5d81+uzBMCUJBuFw5scmgUCRgNX+eAcIMA9gMMXSLWn5rWY4slF8BWjtDD9jzcNiSk5MzlfQ8CJJNOoBqxcAbau8ynHloz8oJ7ul2obryiqwZ1fuwNHcfBP6PqxugWq3e3N0Fu/nKho6t7MxXlMK6m4aluEarnlQ/vjCLEvpRu770ttTd6idcIpLIcqurekFNrb6Z1KHbk1oRc1Rqk8U1r1y7yU4RzjNeGkr0eOL6r+ZnH5Cb/lQb6snRh8jve31aOoT+7ebAWlJUz4ThzFvPTq/LltSAxidbklgLxTh2rtddkfPI25ng45v3o+hE87Ygj/RB/to0FZgQ3TgHuDc2sbrPVB077V9rR7bj2Edg/t+5Ode7dyirH+TzxtrhuLLYYaTYmtFSBUv/tAsmBeVHuvp992LW4R1HueOHRV8glg+BM/6FY5W60zcUEqQdVtPdvMWJanGRcQRLJ91KNsyucO3atNllqx/ZlLKksZnboTT/eiHqzbOJwqhr2sKgbern/pMP3imSSI++A6/rRwckDtWzOCRoT164sVe4nWy3WgHer5EmKNXGjvnClzFM9CQZ9xcAntG9a8vNplT+pagcR9d4o8THpcjJ853fL3P+cJwHSA+RYeQ919H8+7F+0erPEHPexEv2I3lH33pTcOkNXJGph4ALC1JDmfjNWj2w5YJRAiMMI+/2FdQkRsBLKMrTTSk1mJ2tbZJuaX5ONW0SpNwXzmVWhK1SX0q17FweAsE4p/nomFSg7R7YgU2aZhBjE4J313Z9feTa4R30lBr+vdo0FQgQ4QgHuDaHAeqo1Co8n28kL+vDkHjzqF680hCuvKYhs1pX5ch9MNHBla4CeWkS91bNXPx9EpDy0fMRd55K5SDljyfaylTy9FEZjOL/XTLe1rCGDCYB4XqFjraFH4xchZEQ7izlTkgeoSmq++BmLHth7UlKvZSKdOJZMT35qOMFP+v0onP1AJyB6V3ZaysSxfgdN8KonrEvTm9I4FY6B4vdcwqNIRl5D5kpbD21w7aCKRDohQ2xfJQ1M+QoEp9Ldsy8tru+yuyA/9iDvDsqSyr2wlyx/7u5tMAUV3o9SDBHce1JSrpAcdAaoZEZZFPX0JpBt7WMStdq1F2MfQu2fpyISxDpozXi1cMeoWjeb4coQ7mI7wvv01lgK/KUVKZzXURo4Oe2GjLRn/BPg1PT8IbVyj5zFa0GnxWDw3Gaf1dKAmPSpzc/SRdynqt3iY2Ve2o0FogQ5LgHuDd3QfDMKun2pNoNwfdLf2tfxoRJt+rdEFKRwIosW8H9B9VW8HKWDBqM/qJLrKEeKWRIvsRxJlzHCIetRTKFykRpN0uSbLnEYZw/oyQTLS9f11eZXtkJUCmc2Qq1QZJ4q/r17FUO9LNkwXTGlZHKJ9k1Xky23mOcIkbyH5crn6gVGOsjDP3sfThYI7SQkcnXwDLmeaLbboud+ocVhWsql9iczri6gdKmgScFj0eD00pRKS6/gL730NyuODFlPHHAqzseGnDizCd9xnjD/iAr+qIHgqR0id8+SJnlad69eSRlsCLgvVFrbj6GW/bjf1Ic+KWevOAPt3aX4ED3RxLgHxDmerlp53HaN47XTfUQNE2bxpXz93QdMXnyaOw8FFnp4ZfKB864BXVS9zjjgox1kMHo4/8Ktb24RNl1PAfLh0OtxhDqtAPPrp5bvY+7srAoXfRyz540R35BFcZmsBGS4YyTQ0o0FPgQ6HgHuDcWkDC9HtgxcEBjDDeEFRQBWGvZ+vHPoECO9mqgm6czbydNGCD+pZ8fMY5tMNkVrzfxzoCeVmaKbFJbi25ldhHInDa8WjFWiqFJBlZ7WeqV/FGLVbUB11YGMI/DjZMBQ3r7eHkSGSfVDQFAMuKCmStxP3Jh6qh+5NncVhfFW13qj49KjWy8R3pxkUNsS0wC7gosEXZg4s859LtEts7Zxd+zLm0/1U2LNLD0TOEmeAzph3tZJx65+zzLiIbbu/V920Gsj+ACvCaJC9BPtDR7HygxaFIpY3fkhV2nB/3B6wnxb/AJ4Oi+wcCcYY24n6/Ym0BNRAV7nRo+TqeHQb0unwHAr8U0fNG2pFu3gOmwvELHAlFCrKO2y3hHfcrqWkGA6u304nV2ZKMMCnTvQ8/x30DrzwztCsQqevfnwie4VN91Hwfmoo2WDpLCSjQU+BDsOAe4NncR6s0zxB9ZDpgN2bZxZvdgpShGEE84br2xDS56wPSoveuwGY7QWnJcV4C/lxG2sroT2BMF4EHNklBS0onTcPnzURUey6d8BHT/z+EiVe4Rpo1z4BT7wNgor6rkklrg3idnDafKId76UeqoqDHbIaycQrG9F+dYi3+2M8xJ9HJZWQp84lu1POBO+PrcviPnIW6cjctZRkwX+jitXVcMCrXdxROixUk/6Ze9IP+IXICW24cQUjdbtjc4gl74P73+5t3br2wLmgD3XAWAHIbGNWVWgH4sxIvzocZSFohn8QmFK3s9nwHkD6ALpWIg/HsE35cIxMlCJ57wiDyVxZEyY6Et59UPXR74a3dJ8/wMXHw9Rba0gxJ8DfCQwaRnc861jEnQ0Psu/E7x2jQzeU1IqNINJV8dgDdhNDf1CVLfx+yRBvW8EJ5SHsr6NBT4EO/4B7g2lqHqzRYotpnXc5rg+ncWew71HUw6nAXtd83Mz4zKRE2QSIRfx8hagUwGrsrsHGczpsR/7YrnYTPBO+wVkd5FHw4mCR1Pg12AKTe7dP7jPhdG6tpfelMA2SwdejjthlQP5AA6uVyulLec+sHqzumz221/6g308aD/0bqYZIsejkqCcAR8GAPhNKbQ2Jz2kixYbPWywxe6nC/vuU4am8akgrNt/rIfqgau3NWPZl8yAXCqu0Clig8+vzyKTAvKtQVIyLnc2paxXCEJGGutFNW74X5wTUtx8Eq71xpUyBFbysbKZWL+Z1tUk3eixT2WSFAjuouxAD+keKaJkKJenlR1n1ICOeUZe/wE5EXBsjBmMTAJi/msUNh171+ynDf+G+ryJ7S4N8LynB8R4i/n3t/iGPTmPfBFx/qPJR6H73WHIQzxy8mdZYMAEBo0FrgQ88gHuDdngDOdjYK/U0ibOL1VX9JafavtQq20BloFSZ7jdMuRxfcEq/aX9ekKz9SXHErMW2Nfzj7E+iW6JHIF1yjCKGkqnEt+YN3gxt4YxlRK6IxWKGwlKEc67zE2RoS0Ax17ZiuAFM95+cYWN79zHfqUCBrgAayitMN1emKjAPCPvgddaEHE49PH1mR3+/N4vqjwurlRvxbpCSqxDumziErjcJfjDQsz5bWbM9fj9n5+Yy4828EGHM3+IQQz9so2KVW/9d/hGBQhqsCAME3bcfMuPVd+lKk+EzZDfu3ZGLNXEVXVgP25E+fil7YzVIIzjfS5/rLU3QP/fBwAVpLdkh6Zr9fXyZZTmCr05a17MA824t9cgYfJXRNbABrRMuVm7vG6BqJiD5yjdygvdwJDLhYKAR77BmbUdOn9ucak8Er7OU/tqNqXT1qYyG1iFuXDKTp0qeUUU7UsLG60ywzM5Mp+7xqDP1zCTXo0GJgQ94gHuDfIWA8cAUboIE+BIBZbR84YVZtxBSrBD1KGYnVV/+UCF7pAilldjqNZ61o2Vk0oYIDQQ42h/0pQvqrpljndEcKp2oyhxvHugPHriDSMCwVG3I1UHBajYgnciS/0gtZfxYFJVAwGhGBFe0V00j42lvuQKe9wyaPXqjrGCrudYPiU7mgBBh+zGEGi68qZI5BfQxqQnybPjCuNQyrNVjEiS6Kh4a891AqecY0sZxt1jqej3PA7fHaYIOY/DjelWietTaLP/RRHJUotGNiH94T7cGzGt1p5324Pf/L0dZ1HZunI94N0r8J+od/7Jpe4ehQCZOOkf5fWwvIqe8W5/WBJZoiKAWVomRGgo+8p7Y0mpEEreH9F6nU00VqkwRGl2o6Fatxw+Pfc5w/4Uwr6JK0YUIMX1y0jhNMMwIXvWJqaXN2r27xYHN29dKJTd4OsFKMSWeMS+Ieeg6SDvDP9SC82KjxryeABwoYf5wV1B5oVgTQuGrftirnXXSc5qG9EGRUC6LqURJo0F4gQ+zgHuDfHuJjYqu33uUedJADWeR87Im5WIMDlxapj6mJ12IQosxK+yaEAxClZzyU1p7m/r/v4IaJwZjtvY5eqXGt1PfEzDVom7Qr+gR66sJlif7gorrFlnA0FkHMqvgz480HyWdOrXJ/jN3wWHisZm8Kp6nr6h2y02qQWEmTimT/TTriMOO9vk/HVDl2byRATG1xnZ9gsMCNPw+46US+3EGQMoML3gAUOflycG4IaPjSa/rHWN+etj3Q/0zCvrlaSqbMFgqvHHowMGiAtTr+4qPBnl4zl1Zf680jzfjGcM4sV5p4ozOAe8Q7PzTWgmIDQI1njv9/3gRmtwY2Cw2iKZjOPgypq8NqwgjgqtWdxVHJ8wMnxUdsBMWDq3inVLC4LEV0cM/H/5V9XC37LZg2EHxRkFTmg9vz+3Q5Yik8mgj7sw63pVS9n73lVdwsEE3ghSVP68iWNFbXuz59WSzmgWkb60+JShXFhuyvVBsq3ShaYjyYA01kqNBiYEP8IB7g4CBiObJgLHq6uOnnLkVeYiXROkBvnKIKTAUTcAvI3mfXjOUKI/wo2UN6J6bumRRhZo5Gc0PJsui3VCgfDljyaDxrVmOQesqzLrA7myej/FMgkJEbBAdjPVjbZlqCKUPkiCrLTtZNfXsZA5HnCOIJq+jfdAWfYoYarwmCcuY39ud4naJpWoCsiEh/v4klhZMAPr/AN/knKMCl/fYLLnXt5RfEAkEIODtCLeiJx51UEyHo6TRRMV6eoly+2ESFUOh7QXtqBSJXnr2VDxLZThpSleLeZo3zlgutdE6koHA4c5LT0MEu4HvILWSUlA4lbW2hRwh9nIwJNCFZqqFOZxJXslzlvCBUmz6eSev+pt2RCLF782qTByqGbug9UDPA4Eq+DZHdpjAQNApoU3zrnwn4oPt/grrmmKP876N9zLrmaCa+g6XHTgVePdt2J0f4E/pq/TJYzMwhpEHsfdqFh+5qsSsr4jBFpig3+RN+p0MqyXhjOXPrneOV9T/CCVePER3DvMqcaNBXIEQLIB7g3Fwiq25FJjD+e4Fh3R0nTDCWZ2YAw/E0Jem0w+piB02dwSRhq+IetKFWiAs24wcN0F98J4sEJm/bz3uGWbAwho2fwIueL3cy/nFbm8Er++Etj5GrJdXP27F2o7CbGDUZ3r3zO212SLSlvm1AfRMSfxzQ20uqu9aG0m/0aRuN0UHXC5wxyU8OCz+WCe42NEDCLp3oP+YVJWbf6LTvhAF6TsconDYydNly/XIievKzI98QRgN8j59ulFHNoUe1kA1Lz/cz2uhUzMtaRY7iXlMhPC3zJzJlCe4unM5rCIUSrfhMQqRh3pt3Ea7tgtd5I60oVlC5+Do06VtcxUZwE9eAxsO33hKUStJDuHnfo6+yZbZvi5ogwQK9go5FVVb6YD3vFSAfcBXIyzC0l25kzpxAY2MPxV51trCXm9gNY0uujuBWM9GqwxeY65j7V55g+vhkR9JDOW5d6NBX4EQaIB7g2puIaBSqwpWayZhN32RPqGfn8gca8kncop2f/pB3OCQBHjYI3kNnr3/Y23qAdoVOZKNyDDNWHcH8A4FFGDuLbSYpTikeuyUHQEorjmV7WbUcQzS+xXUKIgtuRX3tfJgbXeENQg4QpESSlEzEh6snsJ5dAyImDOBYOlFU3R6qFO3K+giIpK284RjEo4sQyYQgua6uf4HOe7qkqpdPNWIN/OkUXELnHx5onAH+5bT7ygRYDd4cIl/JKTrE1tnBA84KEAoOCA/sJLVWlu3aOMBP9yLklnzZYUIk894hwnFOZ8ecm8ai3kfZClbOfxOhcLMqXEprh3Sr4xMfaXESqm878mXqXSGYAW2JvuK477z9YyKJ2U1A2PentnZ63L/oJIGKSIDJZqSBhH+pCFD8EIcGR9EC6eBkwMx6BdxipdOhhgz090X/viZwEuzAtLkbMYNbitqMd1lN8pr16NBToEQo4B7g21qJMef29Mqhkg9E+NXelUau/2bWFlaNMYoKnOVLcjgkGe8p2sXrdwMezv0w3raoaNewspaueJgELRD5O3UeS/6iIknHitO68j5wHil9q+pptqKkmRo7eQcRWnvb/inz4+iq4LRGPSSCi0NUVagvyGst7i3SIphRa4mEH3HuOnYLIEy8YpNTRNO/48L6siihdTKn0gjEfUkPO6e9uVEPCAk1ss8S+uRdQZNfiJqh1KI5XpHUzwG0XWnxqMi59Kz50VA0r8b8zx08/y1aLLuv8txx2OutPVQBL8e1JxW4dNSKyYI5s8L7CjcmUNu5J0HKRctGbKZJ2/hL2d7cs+8nQEW6qXoS7LJzHAbrSqsmQp2OyzUco/i4geeZzvgBzbtDqGu2CVFJh7Co7rk5436Hc1VVm4LrwZdIT56bjiioYj4g3QoCVsPHHWjQVKBEOCAe4Nrax6s0gizPiWhPkV7J7haKXyA5KsNngWvFzHnjeC9aqCkfb6mIx18hxPyQpA2MKQ4pQgnHf/sc9PyDcbQ24DokVdUb+DyXo66msuCE6ieEPkLG2Gsanz0OqduWcwFpmzvW1zpVtPeZT2AtyStHoeQT9OiRY2gxPtR3F78dqxY1kPspRw2vfrNqrMz0f8Cz6kmvL/vM9/PXDaqBcKWQ116aw1BXwpl9R6vhk0terdSQd/7sMV8r8vGaq+7TZYgH5Dpt/LaBOb1Vx8i+PaLZjaVQAlqUqrYl2cbh8SnNd4Mun5T9fstIzmwYFloH4mEKXw9sJ9kaVnkB/O/z556+aq9pOPSuu5fMI5TrcBUm5JuQro/XhdVcBDaksuUZxJqbPPtyO13P3G8ojDWnLoTfqaXynFxBHjEgi2tzcvwPOhm8uHn9fTSgQS3n8+EtaNBVYERG4B7g2txG4WK2fzRYlUQh1F73oq517LtJrPVX+WR3ldwqCkajoEnbDacxgrCTKFkzxSzHluCgS/5gSEiuHcbGGlPeOjzzY7Ydm5YncyyTv8toAmSardSTDic9iuCKDu9d9U1sOhOlgYL4atZsOHJP54bh9NIvL0VR1Z722FYO5BA8AcNEjt04Pc82HpRTAU1oHcQ4TTpdyeWR5kvJDxHg8hN81yTqM4b7jVSApRucLLDyn5XWXtoZi5Nv0StJJBwG4+rYlvb4lQxz3TFejb/euCnMJmHVCfWSqPI/5HbH0cULBuFioNcSvizgMDnvIVCUREWjNsIPIBlsHHP2lufplG6zxOK8CRUiecNDo5EYJxFKDwUY3PTl9rD3OIJVWihNFJwIuDHAIsjVORf+ZY1ZUwpVPU02YiYhEfnB7ZcYAjg9U0dmNC1WPHYzYmGr65G7i+2o0FRgRFXgHuDa3AbhhMHw6AQdm0jChqg5Of7DcIu8FIcyfwCYYF0hckApff0uQ0lUv8UbSPQLaf9kknTxy5IVvgqBlZyz7OujghpDwWQQygGcCIGoiSk4aGEFlfnSj2jC0Yc9wTw6oQnW6V9ARNro0fGDBgnoxuFjtWKOALpp8TsBkaf8YBSjMmtkYMEflEoV8TnQ/Nfuj5JoDy+S35AtE+KI0BESjQxrecnL7Whz1hbJ6QZoMfS75tHhxRoCYefnIyZ/KUcWU1OGSnSgcUp/PdVRxRjDjPs4YaVNYUuVsTWDlaYvGwbhYrWGKg3z38hzAW6LtFZTDwMAxaFgvxj9FnovnQ/TL5l1E9kzdH2mdQpQnjQq79MYKZfwhAVLfRkOqj9Sl4lT5UEP8dq/XkYEr6ZoLSkP27MJpE3ukT1aM+tjm4lQUD9qhpnKEFe56CiYJi8L6NBVIERlIB7g3FxHqqGTpYTEq64/+37v6F5rHKA/LLdJnPiHlsjs43OyOhng1/GU6wY+TsIE+mFWWR/lJ4I0qHfjz9ge+XPxALGpI+Krna5Jg6hUf1EOqrIL5KcGgI5bTEg546rNqGrslEfbupBvJiMAW2c6yNcSmrHt+seqpiai85o8eWLEFkaxESvDKj4oxvn6dsWh/QJqmNQe4qmjgE3119/3OdhByqkb7dq2w8wtruIFOcfoTynUDFJWGppZnW5gVq+/UMwaZkN0qv5WQv/cwumq2AMu515tSVUkOS+xyY6/OyA+h3VPUncZh6s2yEpGYE5uzzvlGY6vlqLKfnWIVYI3gQBqjXzH8Cx3x70us6uWLRC952qMqtUWw/nNNgPMrkRytJrNH2g8pvd9peqDK01ap5Oln7VPaxUk7AVOcYzOq+LnZhhtg+forUeSeF3aGl3fy2jQVCBEdCAe4NubR7g9LlGXkk+o3SR0nwk/hczWjYEcN8SngAqzPkfxGxpjc+/hCBr7u2vb0yFi5PnZH5aKTLBT44MDcN00f1ukPspIwM6DJElFW4249Ld161MGAkiRXME7kmhRybC1fOu0Lszy93engadBCs3HyQtHqzhrbD+qWR/EO4IGeNre0fMj4+mdWaPx/rU5udfszFJ2lnGU0qjw8hvIXqe6s8v1JowCJD7xg10NSyW+MQZONH4Bz08W6Q5sGxMgCWvuCj09eySPXGVo2oviXQ47tcy4xKQFgQcamMnXWu0JR5+TzeC/ZPNXCP7ssJZCuP1cfzDkfdM/enejSHzaFQB58RsgEygkqpDBn0T/RZvbWfoV0+Ug7lImQtajUkp9H1JmQAnsLarj/uI+a8VImvQ6kP6ZhM9zKgxICmANPgxhXK18EqkS5LDPNVo5/OjQVGBEguAe4NvbhuG5bQ9tzE5sq2y26UJjH2uMqLmRLV2XfYVzW8fW0/ZdNua4WefnvERpL9GwspOTTgx7k1DwxdXbdUpE5ePeSjw6ffrtMLZtjLBS1LJKsVs0Nbl/ejbPyaTngU2DsrCy6WZItLKPjGCODMq2tb0Hh6s01EFnVwgUKkAmBZEubssLypadKamMoZ9zj7bZRadg/MFV0Mx0ZWTCa3z4ZqeQRofbl1recmVoiKgV3KUipWEa+TR4C2joW0+/IlS8+P94Zzf6p4z/CSrLxRF0PZelbU2d7Feq5+Dzjc2nd/nHqqTkSs0wosuSN3inY94jbYTKbYJknkYbs6Lk7rNO8lUySsywyGgWG+j8Pu9tJof/5DlGbZzrDBcpP6Lq0bJMtJdcFB4CoTdmSU8zrxj0ukGuC+HcZutBO7/IAiooVIlWqrN6Z7OTqEJu8dro0FMgRJIgHuDaG0equYmhbRGrVdDPYh4yDmFQmwIBixs1lORhiIgn9LBpm4NyxSzFvoNNQhJ0XIsdZHWhRBEH1a1uGvEw8vpZjErWQOMvf9RB9+2OSC+gODWROL6Q/YTPTCnmBSUfCIiaQHzMY0HPybv7h5Dhu3SCDNnlQRowBcN4znzhMs05VlRdgyW2Nek1TqSA+NbGrcPxv+zH6noCdkIpGYPvp8WemupkmjS4OU/P8ABuB8HK8/2fdcewl4i9fAO83RdBeLMQzFgM3x7b0VkdU43uU7BdFlKLtrAz9sbgVoUUluR5edOtKbn0xfkKjdoQzhK3RQDnIH6dreBuI7bNmq2gv4hEXcZhovy8pDuHOMu3WPSKpGP69ZSl5HPlWgyXZ7Cv9VAfreNB0CCJOriJgIB1KkkRDE1wssk9YJQcpWpZ+gXGgJssm8O46yjQVyBEoOAe4N0cBuFw2MO8lz/v0NBm+I2FHP83cFfjp9v0xmQmbcPFZp+BTPKcRrxFSvqS011ec79Zxoyfit6h8VTJLAG+h1eHcvtjEMKWbyudKqgwWwO8UCz7QV478mBmilVk3mkEpZuiW+vBbhvZHOXVCLpQ8EE2VkPSGelG4WK2Qsdijyt+Ww+rSsB/2uaC9QivayCrzV3Fs+gJPHrlaIpeXk7tA97yrS/8rnkL0INOE2yIzbwOAQFp+tTP4Y+BeaPkt6rdilHBCAM2DYY6MiwViTUsi+w91euTt7SqILPwnqn31AARmwrWYJMIRwhn5Bl6+an+zKj07EPablybfMcLNRzIs7Hc97MrQyGXHbJ7+8/FO+HNLc8YdbLirtzBQ26j2+GnNK2w6q2YnpBd4tXZVPGx9OjWo/vy4E8ZAAxpj5kko2GFNMfBiXJ/06uhOjjYohvIrHHEHV7OCajQVmBEsCAe4NxbR6qw8BDwa2ylnbF+FfXKXKzSzLTSNycgvBWOFbn38p6L4nqsadPBK6uIIadvF29oj8ACvpUUkzYOIFvu4lSxbP6nt5atYIXqL5C2X0oh2kZHkLd4/jX3TcNUSdeMUI9TPZx5LphXgMH7X63AU26iPwAHuF4YiLa/mraTCYJjhIpnA7fCVzp28h29HTMYAhyj9f6BYV1dVFS6GE8WuYWLtMsLFViydmW053NupBjjAtcUX9LbBOVraOu67PORc1YuJslrOlWyWGxXjSqdNdmZzbCPCvyJqZekgtCXRaU9gK7oNnZpPPKYULa0iwDyFqnZOqDJ7u2t2jJDqctwAuAAJG/Eu8SjHNIXlUf0xI1G1TyGNc+ekiiBaCygPOC3PIIPnBofpB5yz/ZzParlJ0buD07Y4X/n50Zr4Mpz5hHTT3ZjpHFPo3vhMLNNU8B5EnwNPWjQUGBEvuAe4NoZh7MyI3ibcEDFG1wlsu0jOXAmaJzx/gQTP3WlOLFwd6LJJbuFhIiF7lCszh1JFv6aKqWvRyXeLYnsJ1ZD7FRKVSGuvGciSTOSpI6Kj5gryl7Oq/yfEbA27Qt/IkReg1/nwPJn/Ue/1w1HqqLLDw6we/lZeU/OrvUN2sIfvc+wKloX4zZxWdqEGWU+dtHqG82rVVPCUfMfUECQPY0wQPt7q+sdgHW/eYw2DiRFSlTULw69QIdrRisvH6OFIotCh92/vO4I1aNCtCLlx1jbxxmHtSezEg32gZzogP58BErQ4ARXWtH9piAzcLFiLgKttxf5/OE9ZQ8M8EtRvw4FqbdVeLQgnuGZNlfu+XmCZNGlGk7xwmrLEblkxImTyuTjCkIj+Ho+RSnU3Gg1663xC6AJrDh0RR9kB38/3SjQVGBEzeAe4Nybx6qillDiWZH3O2ozwnSkmTai6bsGX6Q7meLrlf60XZ5nMXNvrUVcGhXmvQ/QXEViZoi2IVwfzqS6x3Dyog3ljMMVGCc6PjqwQ4903eulTVr8EVbMVE6nRFFbAuFwAnXirOUBmTHvxAO1HhpJOdrjQMEHh6s0qxFIsRlMdy4SoxLsZv9x+Rir6PhfmCC8QaosZIhZle8M9/3DEuxW7yIDlHC60AKYQ8CZ0ASqPSpBRGZFEpoXJlo5vBikHfn9YJJqLkGpBm7yMxjndldweZk2SPNEq+sKCyESXlaiIWu0rUvfh6q6h4u4goq5qsZaXbEl2/V86ayfOGucDaYl7oGDbDN8lIrDpTXE/8Q/8CizDUKEnF3A8p1cNzv4UfDy5mSI7M9L+jh+AKwppAroVwpHYed+NvTpopbTQLB+aw4eXzUFklMyvCLdLwq\" type=\"audio/mpeg\" />\n",
              "                    Your browser does not support the audio element.\n",
              "                </audio>\n",
              "              "
            ]
          },
          "metadata": {},
          "execution_count": 25
        }
      ]
    },
    {
      "cell_type": "code",
      "source": [
        "import subprocess"
      ],
      "metadata": {
        "id": "etS5jqIIWuOa"
      },
      "execution_count": null,
      "outputs": []
    },
    {
      "cell_type": "code",
      "source": [
        "subprocess.call(['ffmpeg', '-i', '/content/Biometric-Customer-Authentication/Nidhi_Agarwal_0010-1.mp3', \n",
        "                 '/content/Biometric-Customer-Authentication/addNewCustomer/Nidhi_Agarwal_0010/Nidhi_Agarwal_0010-1.wav'])\n",
        "\n",
        "subprocess.call(['ffmpeg', '-i', '/content/Biometric-Customer-Authentication/Nidhi_Agarwal_0010-2.mp3', \n",
        "                 '/content/Biometric-Customer-Authentication/addNewCustomer/Nidhi_Agarwal_0010/Nidhi_Agarwal_0010-2.wav'])\n",
        "\n",
        "\n",
        "subprocess.call(['ffmpeg', '-i', '/content/Biometric-Customer-Authentication/Nidhi_Agarwal_0010-3.mp3', \n",
        "                 '/content/Biometric-Customer-Authentication/addNewCustomer/Nidhi_Agarwal_0010/Nidhi_Agarwal_0010-3.wav'])\n",
        "\n",
        "\n",
        "subprocess.call(['ffmpeg', '-i', '/content/Biometric-Customer-Authentication/Nidhi_Agarwal_0010-4.mp3', \n",
        "                 '/content/Biometric-Customer-Authentication/addNewCustomer/Nidhi_Agarwal_0010/Nidhi_Agarwal_0010-4.wav'])\n",
        "\n",
        "\n",
        "subprocess.call(['ffmpeg', '-i', '/content/Biometric-Customer-Authentication/Nidhi_Agarwal_0010-5.mp3', \n",
        "                 '/content/Biometric-Customer-Authentication/addNewCustomer/Nidhi_Agarwal_0010/Nidhi_Agarwal_0010-5.wav'])"
      ],
      "metadata": {
        "colab": {
          "base_uri": "https://localhost:8080/"
        },
        "id": "191uTk9UWxgz",
        "outputId": "037ca475-8c15-4e95-b034-2013e446ad33"
      },
      "execution_count": null,
      "outputs": [
        {
          "output_type": "execute_result",
          "data": {
            "text/plain": [
              "0"
            ]
          },
          "metadata": {},
          "execution_count": 27
        }
      ]
    },
    {
      "cell_type": "code",
      "source": [
        "pwd"
      ],
      "metadata": {
        "colab": {
          "base_uri": "https://localhost:8080/",
          "height": 35
        },
        "id": "ZVU8ZzboWzsH",
        "outputId": "58b3640f-1b0c-4572-b6fd-bf9873bc8bb4"
      },
      "execution_count": null,
      "outputs": [
        {
          "output_type": "execute_result",
          "data": {
            "text/plain": [
              "'/content/Biometric-Customer-Authentication'"
            ],
            "application/vnd.google.colaboratory.intrinsic+json": {
              "type": "string"
            }
          },
          "metadata": {},
          "execution_count": 28
        }
      ]
    },
    {
      "cell_type": "code",
      "source": [
        "# Write line to file\n",
        "\n",
        "with open('addUserTrain.txt', 'w') as writefile:\n",
        "    writefile.write(file_name+'/'+filename1.split(\".\")[0]+'.wav'+'\\n')\n",
        "    writefile.write(file_name+'/'+filename2.split(\".\")[0]+'.wav'+'\\n')\n",
        "    writefile.write(file_name+'/'+filename3.split(\".\")[0]+'.wav'+'\\n')\n",
        "    writefile.write(file_name+'/'+filename4.split(\".\")[0]+'.wav'+'\\n')\n",
        "    writefile.write(file_name+'/'+filename5.split(\".\")[0]+'.wav')\n",
        "#    writefile.write(file_name+'/'+filename5+'\\n')\n",
        "#    writefile.write(file_name+'/'+filename6+'\\n')\n",
        "#    writefile.write(file_name+'/'+filename7+'\\n')\n",
        "#    writefile.write(file_name+'/'+filename8+'\\n')\n",
        "#    writefile.write(file_name+'/'+filename9+'\\n')\n",
        "#    writefile.write(file_name+'/'+filename10+'\\n')"
      ],
      "metadata": {
        "id": "9HJ5lZ49W3TL"
      },
      "execution_count": null,
      "outputs": []
    },
    {
      "cell_type": "code",
      "source": [
        "import shutil\n",
        "\n",
        "shutil.copy('/content/Biometric-Customer-Authentication/addUserTrain.txt', \n",
        "                 '/content/Biometric-Customer-Authentication/addNewCustomer/Nidhi_Agarwal_0010/addUserTrain.txt')\n"
      ],
      "metadata": {
        "colab": {
          "base_uri": "https://localhost:8080/",
          "height": 35
        },
        "id": "6ndZf620W5Cu",
        "outputId": "054027db-5601-489a-a86e-9659543ea7b1"
      },
      "execution_count": null,
      "outputs": [
        {
          "output_type": "execute_result",
          "data": {
            "text/plain": [
              "'/content/Biometric-Customer-Authentication/addNewCustomer/Nidhi_Agarwal_0010/addUserTrain.txt'"
            ],
            "application/vnd.google.colaboratory.intrinsic+json": {
              "type": "string"
            }
          },
          "metadata": {},
          "execution_count": 30
        }
      ]
    },
    {
      "cell_type": "code",
      "source": [
        "!python addNewUserTrain.py Nidhi_Agarwal_0010"
      ],
      "metadata": {
        "colab": {
          "base_uri": "https://localhost:8080/"
        },
        "id": "ofzoX1SHW9XT",
        "outputId": "910fb803-b270-487e-b0ec-93382a95929b"
      },
      "execution_count": null,
      "outputs": [
        {
          "output_type": "stream",
          "name": "stdout",
          "text": [
            "newUser >Nidhi_Agarwal_0010 \n",
            "\n",
            "Nidhi_Agarwal_0010/Nidhi_Agarwal_0010-1.wav\n",
            "Nidhi_Agarwal_0010/Nidhi_Agarwal_0010-2.wav\n",
            "Nidhi_Agarwal_0010/Nidhi_Agarwal_0010-3.wav\n",
            "Nidhi_Agarwal_0010/Nidhi_Agarwal_0010-4.wav\n",
            "Nidhi_Agarwal_0010/Nidhi_Agarwal_0010-5.wav\n",
            "\n",
            "MFCC + GMM Training modeling completed for speaker: Nidhi_Agarwal_0010.gmm\n"
          ]
        }
      ]
    },
    {
      "cell_type": "code",
      "source": [
        "# Now do testing for new user \n",
        "\n",
        "filename11 = file_name+'-11'+'.mp3'  #'felixtest.wav'\n",
        "record(filename11, 5)\n",
        "IPython.display.Audio(filename11)"
      ],
      "metadata": {
        "colab": {
          "base_uri": "https://localhost:8080/",
          "height": 75
        },
        "id": "l5O1hCk5XAF0",
        "outputId": "8ec1f57a-fbbf-41e9-f026-4f8f35f0e8ca"
      },
      "execution_count": null,
      "outputs": [
        {
          "output_type": "display_data",
          "data": {
            "text/plain": [
              "<IPython.core.display.Javascript object>"
            ],
            "application/javascript": [
              "\n",
              "const sleep  = time => new Promise(resolve => setTimeout(resolve, time))\n",
              "const b2text = blob => new Promise(resolve => {\n",
              "  const reader = new FileReader()\n",
              "  reader.onloadend = e => resolve(e.srcElement.result)\n",
              "  reader.readAsDataURL(blob)\n",
              "})\n",
              "var record = time => new Promise(async resolve => {\n",
              "  stream = await navigator.mediaDevices.getUserMedia({ audio: true })\n",
              "  recorder = new MediaRecorder(stream)\n",
              "  chunks = []\n",
              "  recorder.ondataavailable = e => chunks.push(e.data)\n",
              "  recorder.start()\n",
              "  await sleep(time)\n",
              "  recorder.onstop = async ()=>{\n",
              "    blob = new Blob(chunks)\n",
              "    text = await b2text(blob)\n",
              "    resolve(text)\n",
              "  }\n",
              "  recorder.stop()\n",
              "})\n"
            ]
          },
          "metadata": {}
        },
        {
          "output_type": "execute_result",
          "data": {
            "text/plain": [
              "<IPython.lib.display.Audio object>"
            ],
            "text/html": [
              "\n",
              "                <audio  controls=\"controls\" >\n",
              "                    <source src=\"data:audio/mpeg;base64,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\" type=\"audio/mpeg\" />\n",
              "                    Your browser does not support the audio element.\n",
              "                </audio>\n",
              "              "
            ]
          },
          "metadata": {},
          "execution_count": 32
        }
      ]
    },
    {
      "cell_type": "code",
      "source": [
        "subprocess.call(['ffmpeg', '-i', '/content/Biometric-Customer-Authentication/Nidhi_Agarwal_0010-11.mp3', \n",
        "                 '/content/Biometric-Customer-Authentication/testData/Nidhi_Agarwal_0010-11.wav'])"
      ],
      "metadata": {
        "colab": {
          "base_uri": "https://localhost:8080/"
        },
        "id": "HtpeapOLXDG5",
        "outputId": "9f18ed3c-e352-4827-fa10-07bec3854bc5"
      },
      "execution_count": null,
      "outputs": [
        {
          "output_type": "execute_result",
          "data": {
            "text/plain": [
              "0"
            ]
          },
          "metadata": {},
          "execution_count": 33
        }
      ]
    },
    {
      "cell_type": "code",
      "source": [
        "pwd"
      ],
      "metadata": {
        "colab": {
          "base_uri": "https://localhost:8080/",
          "height": 35
        },
        "id": "zQBVRSrLXGeA",
        "outputId": "4170313b-3576-42e3-d7de-a9f833ef1bf2"
      },
      "execution_count": null,
      "outputs": [
        {
          "output_type": "execute_result",
          "data": {
            "text/plain": [
              "'/content/Biometric-Customer-Authentication'"
            ],
            "application/vnd.google.colaboratory.intrinsic+json": {
              "type": "string"
            }
          },
          "metadata": {},
          "execution_count": 34
        }
      ]
    },
    {
      "cell_type": "code",
      "source": [
        "# append new test line to file\n",
        "\n",
        "with open(\"/content/Biometric-Customer-Authentication/testDataPath.txt\", \"a\") as myfile:\n",
        "    myfile.write(\"\\nNidhi_Agarwal_0010-11.wav\")\n"
      ],
      "metadata": {
        "id": "z73cHOm2XI77"
      },
      "execution_count": null,
      "outputs": []
    },
    {
      "cell_type": "code",
      "source": [
        "!python Test.py"
      ],
      "metadata": {
        "colab": {
          "base_uri": "https://localhost:8080/"
        },
        "id": "wLMo7of2XSrB",
        "outputId": "63aaeb1e-883c-4073-eac7-ee121b3b0cdc"
      },
      "execution_count": null,
      "outputs": [
        {
          "output_type": "stream",
          "name": "stdout",
          "text": [
            " Start with Testing \n",
            "\n",
            "Press '1' for testing single Audio or Press '0' for testing full list of audios ?\n",
            "Choice 0 or 1: 0\n",
            "\n",
            "Testing Audio File :  Akshay_Kumar_0001-11.wav\n",
            "\tdetected as -  Akshay_Kumar_0001\n",
            "\n",
            "Testing Audio File :  Amir_Khan_0002-11.wav\n",
            "\tdetected as -  Amir_Khan_0002\n",
            "\n",
            "Testing Audio File :  Irfan_khan_0003-11.wav\n",
            "\tdetected as -  Irfan_khan_0003\n",
            "\n",
            "Testing Audio File :  John_Abraham_0004-11.wav\n",
            "\tdetected as -  Akshay_Kumar_0001\n",
            "\n",
            "Testing Audio File :  Kangana_Ranaut_0005-11.wav\n",
            "\tdetected as -  Kangana_Ranaut_0005\n",
            "\n",
            "Testing Audio File :  Parineeti_Chopra_0006-11.wav\n",
            "\tdetected as -  Parineeti_Chopra_0006\n",
            "\n",
            "Testing Audio File :  Vidya_Balan_0007-11.wav\n",
            "\tdetected as -  Vidya_Balan_0007\n",
            "\n",
            "Testing Audio File :  aew_0051-11.wav\n",
            "\tdetected as -  aew_0051\n",
            "\n",
            "Testing Audio File :  ahw_0052-11.wav\n",
            "\tdetected as -  ahw_0052\n",
            "\n",
            "Testing Audio File :  aup_0053-11.wav\n",
            "\tdetected as -  aup_0053\n",
            "\n",
            "Testing Audio File :  awb_0054-11.wav\n",
            "\tdetected as -  awb_0054\n",
            "\n",
            "Testing Audio File :  axb_0055-11.wav\n",
            "\tdetected as -  axb_0055\n",
            "\n",
            "Testing Audio File :  bdl_0056-11.wav\n",
            "\tdetected as -  bdl_0056\n",
            "\n",
            "Testing Audio File :  clb_0057-11.wav\n",
            "\tdetected as -  clb_0057\n",
            "\n",
            "Testing Audio File :  eey_0058-11.wav\n",
            "\tdetected as -  eey_0058\n",
            "\n",
            "Testing Audio File :  fem_0059-11.wav\n",
            "\tdetected as -  fem_0059\n",
            "\n",
            "Testing Audio File :  gka_0060-11.wav\n",
            "\tdetected as -  gka_0060\n",
            "\n",
            "Testing Audio File :  jmk_0061-11.wav\n",
            "\tdetected as -  jmk_0061\n",
            "\n",
            "Testing Audio File :  ksp_0062-11.wav\n",
            "\tdetected as -  ksp_0062\n",
            "\n",
            "Testing Audio File :  ljm_0063-11.wav\n",
            "\tdetected as -  ljm_0063\n",
            "\n",
            "Testing Audio File :  lnh_0064-11.wav\n",
            "\tdetected as -  lnh_0064\n",
            "\n",
            "Testing Audio File :  rms_0065-11.wav\n",
            "\tdetected as -  rms_0065\n",
            "\n",
            "Testing Audio File :  rxr_0066-11.wav\n",
            "\tdetected as -  rxr_0066\n",
            "\n",
            "Testing Audio File :  slp_0067-11.wav\n",
            "\tdetected as -  slp_0067\n",
            "\n",
            "Testing Audio File :  slt_0068-11.wav\n",
            "\tdetected as -  slt_0068\n",
            "\n",
            "Testing Audio File :  ID_4002_0071-11.wav\n",
            "\tdetected as -  ID_4002_0071\n",
            "\n",
            "Testing Audio File :  ID_4005_0072-11.wav\n",
            "\tdetected as -  ID_4005_0072\n",
            "\n",
            "Testing Audio File :  ID_4011_0073-11.wav\n",
            "\tdetected as -  ID_4011_0073\n",
            "\n",
            "Testing Audio File :  ID_4021_0074-11.wav\n",
            "\tdetected as -  ID_4021_0074\n"
          ]
        }
      ]
    },
    {
      "cell_type": "code",
      "source": [
        "!python Test.py"
      ],
      "metadata": {
        "colab": {
          "base_uri": "https://localhost:8080/"
        },
        "id": "l5pRTHWGXWhw",
        "outputId": "82197f9e-842a-4955-ddd3-93240a13f6bb"
      },
      "execution_count": null,
      "outputs": [
        {
          "output_type": "stream",
          "name": "stdout",
          "text": [
            " Start with Testing \n",
            "\n",
            "Press '1' for testing single Audio or Press '0' for testing full list of audios ?\n",
            "Choice 0 or 1: 0\n",
            "\n",
            "Testing Audio File :  Akshay_Kumar_0001-11.wav\n",
            "\tdetected as -  Akshay_Kumar_0001\n",
            "\n",
            "Testing Audio File :  Amir_Khan_0002-11.wav\n",
            "\tdetected as -  Amir_Khan_0002\n",
            "\n",
            "Testing Audio File :  Irfan_khan_0003-11.wav\n",
            "\tdetected as -  Irfan_khan_0003\n",
            "\n",
            "Testing Audio File :  John_Abraham_0004-11.wav\n",
            "\tdetected as -  Akshay_Kumar_0001\n",
            "\n",
            "Testing Audio File :  Kangana_Ranaut_0005-11.wav\n",
            "\tdetected as -  Kangana_Ranaut_0005\n",
            "\n",
            "Testing Audio File :  Parineeti_Chopra_0006-11.wav\n",
            "\tdetected as -  Parineeti_Chopra_0006\n",
            "\n",
            "Testing Audio File :  Vidya_Balan_0007-11.wav\n",
            "\tdetected as -  Kangana_Ranaut_0005\n",
            "\n",
            "Testing Audio File :  Nidhi_Agarwal_0010-11.wav\n",
            "\tdetected as -  Nidhi_Agarwal_0010\n",
            "\n",
            "\n",
            "Total number of audios tested:   8.0\n",
            "Total users not identified correctly:   2\n",
            "MFCC + GMM current testing Accuracy in Percentage :   75.0 %\n",
            "Speaker Identification process End\n"
          ]
        }
      ]
    },
    {
      "cell_type": "code",
      "source": [],
      "metadata": {
        "id": "12QHICi3XlqW"
      },
      "execution_count": null,
      "outputs": []
    }
  ]
}