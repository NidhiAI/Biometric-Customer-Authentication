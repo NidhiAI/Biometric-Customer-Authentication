{
  "nbformat": 4,
  "nbformat_minor": 0,
  "metadata": {
    "colab": {
      "provenance": []
    },
    "kernelspec": {
      "name": "python3",
      "display_name": "Python 3"
    },
    "language_info": {
      "name": "python"
    }
  },
  "cells": [
    {
      "cell_type": "code",
      "execution_count": 1,
      "metadata": {
        "colab": {
          "base_uri": "https://localhost:8080/"
        },
        "id": "P6LTVHdhsj7U",
        "outputId": "a31144ee-eecb-4910-f196-c17c29588ba7"
      },
      "outputs": [
        {
          "output_type": "stream",
          "name": "stdout",
          "text": [
            "Cloning into 'Biometric-Customer-Authentication'...\n",
            "remote: Enumerating objects: 1232, done.\u001b[K\n",
            "remote: Counting objects: 100% (300/300), done.\u001b[K\n",
            "remote: Compressing objects: 100% (206/206), done.\u001b[K\n",
            "remote: Total 1232 (delta 101), reused 292 (delta 94), pack-reused 932\u001b[K\n",
            "Receiving objects: 100% (1232/1232), 94.13 MiB | 23.80 MiB/s, done.\n",
            "Resolving deltas: 100% (415/415), done.\n",
            "Updating files: 100% (554/554), done.\n"
          ]
        }
      ],
      "source": [
        "!git clone https://github.com/NidhiAI/Biometric-Customer-Authentication"
      ]
    },
    {
      "cell_type": "code",
      "source": [
        "cd '/content/Biometric-Customer-Authentication'"
      ],
      "metadata": {
        "colab": {
          "base_uri": "https://localhost:8080/"
        },
        "id": "Nwhj_gIssycG",
        "outputId": "fcc6ce3d-a855-4813-819a-25b3c3caeeb1"
      },
      "execution_count": 37,
      "outputs": [
        {
          "output_type": "stream",
          "name": "stdout",
          "text": [
            "/content/Biometric-Customer-Authentication\n"
          ]
        }
      ]
    },
    {
      "cell_type": "code",
      "source": [
        "!python genderExtractFeatures.py"
      ],
      "metadata": {
        "id": "UeKaz40psmJW"
      },
      "execution_count": 3,
      "outputs": []
    },
    {
      "cell_type": "code",
      "source": [
        "##Modeling - AIML\n",
        "#from genetic_selection import GeneticSelectionCV\n",
        "from sklearn.model_selection import train_test_split\n",
        "from sklearn.tree import DecisionTreeClassifier\n",
        "from sklearn.linear_model import LogisticRegression\n",
        "from sklearn.ensemble import RandomForestClassifier\n",
        "from sklearn.neighbors import KNeighborsClassifier\n",
        "from sklearn.svm import SVC\n",
        "from sklearn.naive_bayes import ComplementNB\n",
        "from sklearn.naive_bayes import GaussianNB \n",
        "\n",
        "#Evaluation\n",
        "from sklearn import metrics\n",
        "\n",
        "# confusion matrix\n",
        "import sklearn.metrics\n",
        "\n",
        "import librosa\n",
        "import pandas as pd\n",
        "import numpy as np\n",
        "import matplotlib.pyplot as plt\n",
        "%matplotlib inline\n",
        "import os\n",
        "from PIL import Image\n",
        "import pathlib\n",
        "#import csv\n",
        "from sklearn.model_selection import train_test_split\n",
        "\n",
        "\n",
        "from sklearn.preprocessing import LabelEncoder, StandardScaler\n",
        "#import tensorflow as tf\n",
        "#from tensorflow import keras\n",
        "\n",
        "#from keras import layers"
      ],
      "metadata": {
        "id": "hKnESsmowM1N"
      },
      "execution_count": 4,
      "outputs": []
    },
    {
      "cell_type": "code",
      "source": [
        "import pandas as pd\n",
        "print('start reading csv file ..')\n",
        "data1 = pd.read_csv('/content/Biometric-Customer-Authentication/genderDetection/maleFemaleAudioFeatures.csv')\n",
        "data1.head() # Display 5 wav files features "
      ],
      "metadata": {
        "colab": {
          "base_uri": "https://localhost:8080/",
          "height": 369
        },
        "id": "03e1H9vGsvpS",
        "outputId": "e4bc2ee8-3861-4484-9d30-fd793756d677"
      },
      "execution_count": 38,
      "outputs": [
        {
          "output_type": "stream",
          "name": "stdout",
          "text": [
            "start reading csv file ..\n"
          ]
        },
        {
          "output_type": "execute_result",
          "data": {
            "text/plain": [
              "                 filename  chroma_stft      rmse  spectral_centroid  \\\n",
              "0     VoxCeleb_male-4.wav     0.447847  0.101857        2348.586955   \n",
              "1         bdl_0056-11.wav     0.374571  0.081878        2251.493468   \n",
              "2     Shahid_Kapoor-1.wav     0.359306  0.090889        1209.802751   \n",
              "3         rxr_0066-11.wav     0.443019  0.054201        2009.971108   \n",
              "4  Amitabh_Bachchan-1.wav     0.400907  0.014618         815.422445   \n",
              "\n",
              "   spectral_bandwidth      rolloff  zero_crossing_rate       mfcc1  \\\n",
              "0         2167.682732  4930.583390            0.107337 -178.375534   \n",
              "1         1601.616749  3972.621647            0.149026 -266.629761   \n",
              "2         1293.350437  2386.180579            0.063274 -242.215088   \n",
              "3         1705.177346  3827.254283            0.111427 -353.528198   \n",
              "4         1093.299399  1390.453423            0.036333 -458.473480   \n",
              "\n",
              "        mfcc2      mfcc3  ...     mfcc12     mfcc13     mfcc14     mfcc15  \\\n",
              "0  109.539551 -23.147758  ...  -5.032254  16.913191 -11.962511  19.154919   \n",
              "1   99.810028 -30.411924  ... -17.195251  11.129428 -11.117137   5.627274   \n",
              "2  155.314575 -12.603355  ...  -7.070581  -3.717260  -1.519660   1.348663   \n",
              "3   82.163979 -10.784312  ...  -9.527588   7.092362 -13.853847  10.231321   \n",
              "4  165.520737  31.746883  ...   0.892941   6.364282  -0.537627   5.447022   \n",
              "\n",
              "      mfcc16    mfcc17    mfcc18    mfcc19    mfcc20  label  \n",
              "0 -10.601557  9.661175 -2.964882  7.666598 -3.345588   male  \n",
              "1  -8.926105 -3.672829 -3.633209 -3.635530 -6.234490   male  \n",
              "2  -6.526679  1.948955 -2.494955 -3.665357  0.549846   male  \n",
              "3  -0.791882  0.385840 -1.640693  0.889997 -1.967648   male  \n",
              "4   1.836523 -0.654764  2.239891  1.436717 -0.029083   male  \n",
              "\n",
              "[5 rows x 28 columns]"
            ],
            "text/html": [
              "\n",
              "  <div id=\"df-2d6babd4-38bd-409a-bdcb-581347826924\">\n",
              "    <div class=\"colab-df-container\">\n",
              "      <div>\n",
              "<style scoped>\n",
              "    .dataframe tbody tr th:only-of-type {\n",
              "        vertical-align: middle;\n",
              "    }\n",
              "\n",
              "    .dataframe tbody tr th {\n",
              "        vertical-align: top;\n",
              "    }\n",
              "\n",
              "    .dataframe thead th {\n",
              "        text-align: right;\n",
              "    }\n",
              "</style>\n",
              "<table border=\"1\" class=\"dataframe\">\n",
              "  <thead>\n",
              "    <tr style=\"text-align: right;\">\n",
              "      <th></th>\n",
              "      <th>filename</th>\n",
              "      <th>chroma_stft</th>\n",
              "      <th>rmse</th>\n",
              "      <th>spectral_centroid</th>\n",
              "      <th>spectral_bandwidth</th>\n",
              "      <th>rolloff</th>\n",
              "      <th>zero_crossing_rate</th>\n",
              "      <th>mfcc1</th>\n",
              "      <th>mfcc2</th>\n",
              "      <th>mfcc3</th>\n",
              "      <th>...</th>\n",
              "      <th>mfcc12</th>\n",
              "      <th>mfcc13</th>\n",
              "      <th>mfcc14</th>\n",
              "      <th>mfcc15</th>\n",
              "      <th>mfcc16</th>\n",
              "      <th>mfcc17</th>\n",
              "      <th>mfcc18</th>\n",
              "      <th>mfcc19</th>\n",
              "      <th>mfcc20</th>\n",
              "      <th>label</th>\n",
              "    </tr>\n",
              "  </thead>\n",
              "  <tbody>\n",
              "    <tr>\n",
              "      <th>0</th>\n",
              "      <td>VoxCeleb_male-4.wav</td>\n",
              "      <td>0.447847</td>\n",
              "      <td>0.101857</td>\n",
              "      <td>2348.586955</td>\n",
              "      <td>2167.682732</td>\n",
              "      <td>4930.583390</td>\n",
              "      <td>0.107337</td>\n",
              "      <td>-178.375534</td>\n",
              "      <td>109.539551</td>\n",
              "      <td>-23.147758</td>\n",
              "      <td>...</td>\n",
              "      <td>-5.032254</td>\n",
              "      <td>16.913191</td>\n",
              "      <td>-11.962511</td>\n",
              "      <td>19.154919</td>\n",
              "      <td>-10.601557</td>\n",
              "      <td>9.661175</td>\n",
              "      <td>-2.964882</td>\n",
              "      <td>7.666598</td>\n",
              "      <td>-3.345588</td>\n",
              "      <td>male</td>\n",
              "    </tr>\n",
              "    <tr>\n",
              "      <th>1</th>\n",
              "      <td>bdl_0056-11.wav</td>\n",
              "      <td>0.374571</td>\n",
              "      <td>0.081878</td>\n",
              "      <td>2251.493468</td>\n",
              "      <td>1601.616749</td>\n",
              "      <td>3972.621647</td>\n",
              "      <td>0.149026</td>\n",
              "      <td>-266.629761</td>\n",
              "      <td>99.810028</td>\n",
              "      <td>-30.411924</td>\n",
              "      <td>...</td>\n",
              "      <td>-17.195251</td>\n",
              "      <td>11.129428</td>\n",
              "      <td>-11.117137</td>\n",
              "      <td>5.627274</td>\n",
              "      <td>-8.926105</td>\n",
              "      <td>-3.672829</td>\n",
              "      <td>-3.633209</td>\n",
              "      <td>-3.635530</td>\n",
              "      <td>-6.234490</td>\n",
              "      <td>male</td>\n",
              "    </tr>\n",
              "    <tr>\n",
              "      <th>2</th>\n",
              "      <td>Shahid_Kapoor-1.wav</td>\n",
              "      <td>0.359306</td>\n",
              "      <td>0.090889</td>\n",
              "      <td>1209.802751</td>\n",
              "      <td>1293.350437</td>\n",
              "      <td>2386.180579</td>\n",
              "      <td>0.063274</td>\n",
              "      <td>-242.215088</td>\n",
              "      <td>155.314575</td>\n",
              "      <td>-12.603355</td>\n",
              "      <td>...</td>\n",
              "      <td>-7.070581</td>\n",
              "      <td>-3.717260</td>\n",
              "      <td>-1.519660</td>\n",
              "      <td>1.348663</td>\n",
              "      <td>-6.526679</td>\n",
              "      <td>1.948955</td>\n",
              "      <td>-2.494955</td>\n",
              "      <td>-3.665357</td>\n",
              "      <td>0.549846</td>\n",
              "      <td>male</td>\n",
              "    </tr>\n",
              "    <tr>\n",
              "      <th>3</th>\n",
              "      <td>rxr_0066-11.wav</td>\n",
              "      <td>0.443019</td>\n",
              "      <td>0.054201</td>\n",
              "      <td>2009.971108</td>\n",
              "      <td>1705.177346</td>\n",
              "      <td>3827.254283</td>\n",
              "      <td>0.111427</td>\n",
              "      <td>-353.528198</td>\n",
              "      <td>82.163979</td>\n",
              "      <td>-10.784312</td>\n",
              "      <td>...</td>\n",
              "      <td>-9.527588</td>\n",
              "      <td>7.092362</td>\n",
              "      <td>-13.853847</td>\n",
              "      <td>10.231321</td>\n",
              "      <td>-0.791882</td>\n",
              "      <td>0.385840</td>\n",
              "      <td>-1.640693</td>\n",
              "      <td>0.889997</td>\n",
              "      <td>-1.967648</td>\n",
              "      <td>male</td>\n",
              "    </tr>\n",
              "    <tr>\n",
              "      <th>4</th>\n",
              "      <td>Amitabh_Bachchan-1.wav</td>\n",
              "      <td>0.400907</td>\n",
              "      <td>0.014618</td>\n",
              "      <td>815.422445</td>\n",
              "      <td>1093.299399</td>\n",
              "      <td>1390.453423</td>\n",
              "      <td>0.036333</td>\n",
              "      <td>-458.473480</td>\n",
              "      <td>165.520737</td>\n",
              "      <td>31.746883</td>\n",
              "      <td>...</td>\n",
              "      <td>0.892941</td>\n",
              "      <td>6.364282</td>\n",
              "      <td>-0.537627</td>\n",
              "      <td>5.447022</td>\n",
              "      <td>1.836523</td>\n",
              "      <td>-0.654764</td>\n",
              "      <td>2.239891</td>\n",
              "      <td>1.436717</td>\n",
              "      <td>-0.029083</td>\n",
              "      <td>male</td>\n",
              "    </tr>\n",
              "  </tbody>\n",
              "</table>\n",
              "<p>5 rows × 28 columns</p>\n",
              "</div>\n",
              "      <button class=\"colab-df-convert\" onclick=\"convertToInteractive('df-2d6babd4-38bd-409a-bdcb-581347826924')\"\n",
              "              title=\"Convert this dataframe to an interactive table.\"\n",
              "              style=\"display:none;\">\n",
              "        \n",
              "  <svg xmlns=\"http://www.w3.org/2000/svg\" height=\"24px\"viewBox=\"0 0 24 24\"\n",
              "       width=\"24px\">\n",
              "    <path d=\"M0 0h24v24H0V0z\" fill=\"none\"/>\n",
              "    <path d=\"M18.56 5.44l.94 2.06.94-2.06 2.06-.94-2.06-.94-.94-2.06-.94 2.06-2.06.94zm-11 1L8.5 8.5l.94-2.06 2.06-.94-2.06-.94L8.5 2.5l-.94 2.06-2.06.94zm10 10l.94 2.06.94-2.06 2.06-.94-2.06-.94-.94-2.06-.94 2.06-2.06.94z\"/><path d=\"M17.41 7.96l-1.37-1.37c-.4-.4-.92-.59-1.43-.59-.52 0-1.04.2-1.43.59L10.3 9.45l-7.72 7.72c-.78.78-.78 2.05 0 2.83L4 21.41c.39.39.9.59 1.41.59.51 0 1.02-.2 1.41-.59l7.78-7.78 2.81-2.81c.8-.78.8-2.07 0-2.86zM5.41 20L4 18.59l7.72-7.72 1.47 1.35L5.41 20z\"/>\n",
              "  </svg>\n",
              "      </button>\n",
              "      \n",
              "  <style>\n",
              "    .colab-df-container {\n",
              "      display:flex;\n",
              "      flex-wrap:wrap;\n",
              "      gap: 12px;\n",
              "    }\n",
              "\n",
              "    .colab-df-convert {\n",
              "      background-color: #E8F0FE;\n",
              "      border: none;\n",
              "      border-radius: 50%;\n",
              "      cursor: pointer;\n",
              "      display: none;\n",
              "      fill: #1967D2;\n",
              "      height: 32px;\n",
              "      padding: 0 0 0 0;\n",
              "      width: 32px;\n",
              "    }\n",
              "\n",
              "    .colab-df-convert:hover {\n",
              "      background-color: #E2EBFA;\n",
              "      box-shadow: 0px 1px 2px rgba(60, 64, 67, 0.3), 0px 1px 3px 1px rgba(60, 64, 67, 0.15);\n",
              "      fill: #174EA6;\n",
              "    }\n",
              "\n",
              "    [theme=dark] .colab-df-convert {\n",
              "      background-color: #3B4455;\n",
              "      fill: #D2E3FC;\n",
              "    }\n",
              "\n",
              "    [theme=dark] .colab-df-convert:hover {\n",
              "      background-color: #434B5C;\n",
              "      box-shadow: 0px 1px 3px 1px rgba(0, 0, 0, 0.15);\n",
              "      filter: drop-shadow(0px 1px 2px rgba(0, 0, 0, 0.3));\n",
              "      fill: #FFFFFF;\n",
              "    }\n",
              "  </style>\n",
              "\n",
              "      <script>\n",
              "        const buttonEl =\n",
              "          document.querySelector('#df-2d6babd4-38bd-409a-bdcb-581347826924 button.colab-df-convert');\n",
              "        buttonEl.style.display =\n",
              "          google.colab.kernel.accessAllowed ? 'block' : 'none';\n",
              "\n",
              "        async function convertToInteractive(key) {\n",
              "          const element = document.querySelector('#df-2d6babd4-38bd-409a-bdcb-581347826924');\n",
              "          const dataTable =\n",
              "            await google.colab.kernel.invokeFunction('convertToInteractive',\n",
              "                                                     [key], {});\n",
              "          if (!dataTable) return;\n",
              "\n",
              "          const docLinkHtml = 'Like what you see? Visit the ' +\n",
              "            '<a target=\"_blank\" href=https://colab.research.google.com/notebooks/data_table.ipynb>data table notebook</a>'\n",
              "            + ' to learn more about interactive tables.';\n",
              "          element.innerHTML = '';\n",
              "          dataTable['output_type'] = 'display_data';\n",
              "          await google.colab.output.renderOutput(dataTable, element);\n",
              "          const docLink = document.createElement('div');\n",
              "          docLink.innerHTML = docLinkHtml;\n",
              "          element.appendChild(docLink);\n",
              "        }\n",
              "      </script>\n",
              "    </div>\n",
              "  </div>\n",
              "  "
            ]
          },
          "metadata": {},
          "execution_count": 38
        }
      ]
    },
    {
      "cell_type": "code",
      "source": [
        "\n",
        "data1.label.unique()\n"
      ],
      "metadata": {
        "colab": {
          "base_uri": "https://localhost:8080/"
        },
        "id": "iLSueYibvIkh",
        "outputId": "57aa2073-7cca-4460-a5e0-bb951ece17b0"
      },
      "execution_count": 39,
      "outputs": [
        {
          "output_type": "execute_result",
          "data": {
            "text/plain": [
              "array(['male', 'female'], dtype=object)"
            ]
          },
          "metadata": {},
          "execution_count": 39
        }
      ]
    },
    {
      "cell_type": "code",
      "source": [
        "data1.label.value_counts()"
      ],
      "metadata": {
        "colab": {
          "base_uri": "https://localhost:8080/"
        },
        "id": "QbM5Pi9OvMr9",
        "outputId": "a0de4d80-990f-4ca1-80d5-eb6fd0ec8258"
      },
      "execution_count": 40,
      "outputs": [
        {
          "output_type": "execute_result",
          "data": {
            "text/plain": [
              "male      32\n",
              "female    32\n",
              "Name: label, dtype: int64"
            ]
          },
          "metadata": {},
          "execution_count": 40
        }
      ]
    },
    {
      "cell_type": "code",
      "source": [
        "# Dropping unneccesary columns 'filename'\n",
        "data = data1.drop(['filename'],axis=1)#Encoding the Labels"
      ],
      "metadata": {
        "id": "WbNov-SPvXeR"
      },
      "execution_count": 41,
      "outputs": []
    },
    {
      "cell_type": "code",
      "source": [
        "import seaborn as sns\n",
        "plt.figure(figsize=(12, 3))\n",
        "\n",
        "# left side graph\n",
        "plt.subplot(1, 2, 1)\n",
        "data.label.value_counts().plot(kind=\"pie\",\n",
        "                                           fontsize=16,\n",
        "                                           labels=[\"Male\", \"Female\"],\n",
        "                                           ylabel=\"Male vs Female\",\n",
        "                                           autopct='%1.1f%%');\n",
        "#plt.show()\n",
        "\n",
        "# right side graph\n",
        "plt.subplot(1, 2, 2)\n",
        "#sns.countplot(x=\"label\",data=data, palette=\"pastel\")\n",
        "sns.countplot(x=\"label\",data=data, palette=\"Blues\")"
      ],
      "metadata": {
        "colab": {
          "base_uri": "https://localhost:8080/",
          "height": 328
        },
        "id": "AAPwHNG2xeN_",
        "outputId": "49475135-ac71-419b-a202-6b9fc92974d8"
      },
      "execution_count": 42,
      "outputs": [
        {
          "output_type": "execute_result",
          "data": {
            "text/plain": [
              "<Axes: xlabel='label', ylabel='count'>"
            ]
          },
          "metadata": {},
          "execution_count": 42
        },
        {
          "output_type": "display_data",
          "data": {
            "text/plain": [
              "<Figure size 1200x300 with 2 Axes>"
            ],
            "image/png": "[encoded data removed]"
          },
          "metadata": {}
        }
      ]
    },
    {
      "cell_type": "code",
      "source": [
        "# check corerelation\n",
        "\n",
        "plt.figure(figsize=(10,6))\n",
        "#sns.heatmap(data.corr(),cmap='Greens',annot=False)\n",
        "sns.heatmap(data.corr(),cmap='Blues',annot=False)"
      ],
      "metadata": {
        "colab": {
          "base_uri": "https://localhost:8080/",
          "height": 722
        },
        "id": "y73WjnI5x_vC",
        "outputId": "6bcff265-7f0a-421b-d944-887b9439a2e8"
      },
      "execution_count": 43,
      "outputs": [
        {
          "output_type": "stream",
          "name": "stderr",
          "text": [
            "<ipython-input-43-b51d3b90ac7e>:5: FutureWarning: The default value of numeric_only in DataFrame.corr is deprecated. In a future version, it will default to False. Select only valid columns or specify the value of numeric_only to silence this warning.\n",
            "  sns.heatmap(data.corr(),cmap='Blues',annot=False)\n"
          ]
        },
        {
          "output_type": "execute_result",
          "data": {
            "text/plain": [
              "<Axes: >"
            ]
          },
          "metadata": {},
          "execution_count": 43
        },
        {
          "output_type": "display_data",
          "data": {
            "text/plain": [
              "<Figure size 1000x600 with 2 Axes>"
            ],
            "image/png": "[encoded data removed]"
          },
          "metadata": {}
        }
      ]
    },
    {
      "cell_type": "code",
      "source": [
        "# now we will convert these 2 values in 0/1 \n",
        "# male to 0, female to 1\n",
        "data.label.replace(['male', 'female'],[0,1], inplace=True)"
      ],
      "metadata": {
        "id": "gFAQLBMcvbdL"
      },
      "execution_count": 44,
      "outputs": []
    },
    {
      "cell_type": "code",
      "source": [
        "# Divive data into x(Independent variables) and y (Target/Dependent variable) \n",
        "x = data.drop(\"label\", axis= 1)\n",
        "y = data[\"label\"]"
      ],
      "metadata": {
        "id": "tes_8GE0venx"
      },
      "execution_count": 45,
      "outputs": []
    },
    {
      "cell_type": "code",
      "source": [
        "# Print x \n",
        "print(x.shape)\n",
        "x.head(2)"
      ],
      "metadata": {
        "colab": {
          "base_uri": "https://localhost:8080/",
          "height": 222
        },
        "id": "cmNZ99ZmyLVu",
        "outputId": "e908cd97-e715-4de3-86ad-4aa1803d9bbe"
      },
      "execution_count": 46,
      "outputs": [
        {
          "output_type": "stream",
          "name": "stdout",
          "text": [
            "(64, 26)\n"
          ]
        },
        {
          "output_type": "execute_result",
          "data": {
            "text/plain": [
              "   chroma_stft      rmse  spectral_centroid  spectral_bandwidth      rolloff  \\\n",
              "0     0.447847  0.101857        2348.586955         2167.682732  4930.583390   \n",
              "1     0.374571  0.081878        2251.493468         1601.616749  3972.621647   \n",
              "\n",
              "   zero_crossing_rate       mfcc1       mfcc2      mfcc3      mfcc4  ...  \\\n",
              "0            0.107337 -178.375534  109.539551 -23.147758  75.501152  ...   \n",
              "1            0.149026 -266.629761   99.810028 -30.411924  72.770004  ...   \n",
              "\n",
              "     mfcc11     mfcc12     mfcc13     mfcc14     mfcc15     mfcc16    mfcc17  \\\n",
              "0 -3.890760  -5.032254  16.913191 -11.962511  19.154919 -10.601557  9.661175   \n",
              "1 -4.788062 -17.195251  11.129428 -11.117137   5.627274  -8.926105 -3.672829   \n",
              "\n",
              "     mfcc18    mfcc19    mfcc20  \n",
              "0 -2.964882  7.666598 -3.345588  \n",
              "1 -3.633209 -3.635530 -6.234490  \n",
              "\n",
              "[2 rows x 26 columns]"
            ],
            "text/html": [
              "\n",
              "  <div id=\"df-adcc1256-e0f7-4867-ae8a-cf7c7063d2a9\">\n",
              "    <div class=\"colab-df-container\">\n",
              "      <div>\n",
              "<style scoped>\n",
              "    .dataframe tbody tr th:only-of-type {\n",
              "        vertical-align: middle;\n",
              "    }\n",
              "\n",
              "    .dataframe tbody tr th {\n",
              "        vertical-align: top;\n",
              "    }\n",
              "\n",
              "    .dataframe thead th {\n",
              "        text-align: right;\n",
              "    }\n",
              "</style>\n",
              "<table border=\"1\" class=\"dataframe\">\n",
              "  <thead>\n",
              "    <tr style=\"text-align: right;\">\n",
              "      <th></th>\n",
              "      <th>chroma_stft</th>\n",
              "      <th>rmse</th>\n",
              "      <th>spectral_centroid</th>\n",
              "      <th>spectral_bandwidth</th>\n",
              "      <th>rolloff</th>\n",
              "      <th>zero_crossing_rate</th>\n",
              "      <th>mfcc1</th>\n",
              "      <th>mfcc2</th>\n",
              "      <th>mfcc3</th>\n",
              "      <th>mfcc4</th>\n",
              "      <th>...</th>\n",
              "      <th>mfcc11</th>\n",
              "      <th>mfcc12</th>\n",
              "      <th>mfcc13</th>\n",
              "      <th>mfcc14</th>\n",
              "      <th>mfcc15</th>\n",
              "      <th>mfcc16</th>\n",
              "      <th>mfcc17</th>\n",
              "      <th>mfcc18</th>\n",
              "      <th>mfcc19</th>\n",
              "      <th>mfcc20</th>\n",
              "    </tr>\n",
              "  </thead>\n",
              "  <tbody>\n",
              "    <tr>\n",
              "      <th>0</th>\n",
              "      <td>0.447847</td>\n",
              "      <td>0.101857</td>\n",
              "      <td>2348.586955</td>\n",
              "      <td>2167.682732</td>\n",
              "      <td>4930.583390</td>\n",
              "      <td>0.107337</td>\n",
              "      <td>-178.375534</td>\n",
              "      <td>109.539551</td>\n",
              "      <td>-23.147758</td>\n",
              "      <td>75.501152</td>\n",
              "      <td>...</td>\n",
              "      <td>-3.890760</td>\n",
              "      <td>-5.032254</td>\n",
              "      <td>16.913191</td>\n",
              "      <td>-11.962511</td>\n",
              "      <td>19.154919</td>\n",
              "      <td>-10.601557</td>\n",
              "      <td>9.661175</td>\n",
              "      <td>-2.964882</td>\n",
              "      <td>7.666598</td>\n",
              "      <td>-3.345588</td>\n",
              "    </tr>\n",
              "    <tr>\n",
              "      <th>1</th>\n",
              "      <td>0.374571</td>\n",
              "      <td>0.081878</td>\n",
              "      <td>2251.493468</td>\n",
              "      <td>1601.616749</td>\n",
              "      <td>3972.621647</td>\n",
              "      <td>0.149026</td>\n",
              "      <td>-266.629761</td>\n",
              "      <td>99.810028</td>\n",
              "      <td>-30.411924</td>\n",
              "      <td>72.770004</td>\n",
              "      <td>...</td>\n",
              "      <td>-4.788062</td>\n",
              "      <td>-17.195251</td>\n",
              "      <td>11.129428</td>\n",
              "      <td>-11.117137</td>\n",
              "      <td>5.627274</td>\n",
              "      <td>-8.926105</td>\n",
              "      <td>-3.672829</td>\n",
              "      <td>-3.633209</td>\n",
              "      <td>-3.635530</td>\n",
              "      <td>-6.234490</td>\n",
              "    </tr>\n",
              "  </tbody>\n",
              "</table>\n",
              "<p>2 rows × 26 columns</p>\n",
              "</div>\n",
              "      <button class=\"colab-df-convert\" onclick=\"convertToInteractive('df-adcc1256-e0f7-4867-ae8a-cf7c7063d2a9')\"\n",
              "              title=\"Convert this dataframe to an interactive table.\"\n",
              "              style=\"display:none;\">\n",
              "        \n",
              "  <svg xmlns=\"http://www.w3.org/2000/svg\" height=\"24px\"viewBox=\"0 0 24 24\"\n",
              "       width=\"24px\">\n",
              "    <path d=\"M0 0h24v24H0V0z\" fill=\"none\"/>\n",
              "    <path d=\"M18.56 5.44l.94 2.06.94-2.06 2.06-.94-2.06-.94-.94-2.06-.94 2.06-2.06.94zm-11 1L8.5 8.5l.94-2.06 2.06-.94-2.06-.94L8.5 2.5l-.94 2.06-2.06.94zm10 10l.94 2.06.94-2.06 2.06-.94-2.06-.94-.94-2.06-.94 2.06-2.06.94z\"/><path d=\"M17.41 7.96l-1.37-1.37c-.4-.4-.92-.59-1.43-.59-.52 0-1.04.2-1.43.59L10.3 9.45l-7.72 7.72c-.78.78-.78 2.05 0 2.83L4 21.41c.39.39.9.59 1.41.59.51 0 1.02-.2 1.41-.59l7.78-7.78 2.81-2.81c.8-.78.8-2.07 0-2.86zM5.41 20L4 18.59l7.72-7.72 1.47 1.35L5.41 20z\"/>\n",
              "  </svg>\n",
              "      </button>\n",
              "      \n",
              "  <style>\n",
              "    .colab-df-container {\n",
              "      display:flex;\n",
              "      flex-wrap:wrap;\n",
              "      gap: 12px;\n",
              "    }\n",
              "\n",
              "    .colab-df-convert {\n",
              "      background-color: #E8F0FE;\n",
              "      border: none;\n",
              "      border-radius: 50%;\n",
              "      cursor: pointer;\n",
              "      display: none;\n",
              "      fill: #1967D2;\n",
              "      height: 32px;\n",
              "      padding: 0 0 0 0;\n",
              "      width: 32px;\n",
              "    }\n",
              "\n",
              "    .colab-df-convert:hover {\n",
              "      background-color: #E2EBFA;\n",
              "      box-shadow: 0px 1px 2px rgba(60, 64, 67, 0.3), 0px 1px 3px 1px rgba(60, 64, 67, 0.15);\n",
              "      fill: #174EA6;\n",
              "    }\n",
              "\n",
              "    [theme=dark] .colab-df-convert {\n",
              "      background-color: #3B4455;\n",
              "      fill: #D2E3FC;\n",
              "    }\n",
              "\n",
              "    [theme=dark] .colab-df-convert:hover {\n",
              "      background-color: #434B5C;\n",
              "      box-shadow: 0px 1px 3px 1px rgba(0, 0, 0, 0.15);\n",
              "      filter: drop-shadow(0px 1px 2px rgba(0, 0, 0, 0.3));\n",
              "      fill: #FFFFFF;\n",
              "    }\n",
              "  </style>\n",
              "\n",
              "      <script>\n",
              "        const buttonEl =\n",
              "          document.querySelector('#df-adcc1256-e0f7-4867-ae8a-cf7c7063d2a9 button.colab-df-convert');\n",
              "        buttonEl.style.display =\n",
              "          google.colab.kernel.accessAllowed ? 'block' : 'none';\n",
              "\n",
              "        async function convertToInteractive(key) {\n",
              "          const element = document.querySelector('#df-adcc1256-e0f7-4867-ae8a-cf7c7063d2a9');\n",
              "          const dataTable =\n",
              "            await google.colab.kernel.invokeFunction('convertToInteractive',\n",
              "                                                     [key], {});\n",
              "          if (!dataTable) return;\n",
              "\n",
              "          const docLinkHtml = 'Like what you see? Visit the ' +\n",
              "            '<a target=\"_blank\" href=https://colab.research.google.com/notebooks/data_table.ipynb>data table notebook</a>'\n",
              "            + ' to learn more about interactive tables.';\n",
              "          element.innerHTML = '';\n",
              "          dataTable['output_type'] = 'display_data';\n",
              "          await google.colab.output.renderOutput(dataTable, element);\n",
              "          const docLink = document.createElement('div');\n",
              "          docLink.innerHTML = docLinkHtml;\n",
              "          element.appendChild(docLink);\n",
              "        }\n",
              "      </script>\n",
              "    </div>\n",
              "  </div>\n",
              "  "
            ]
          },
          "metadata": {},
          "execution_count": 46
        }
      ]
    },
    {
      "cell_type": "code",
      "source": [
        "# Print y \n",
        "print(y.shape)\n",
        "y.head(2)"
      ],
      "metadata": {
        "id": "oScSUQ8cyRq8",
        "colab": {
          "base_uri": "https://localhost:8080/"
        },
        "outputId": "fc053ee8-f6e1-4aa7-f9ba-ad7be7afaf72"
      },
      "execution_count": 47,
      "outputs": [
        {
          "output_type": "stream",
          "name": "stdout",
          "text": [
            "(64,)\n"
          ]
        },
        {
          "output_type": "execute_result",
          "data": {
            "text/plain": [
              "0    0\n",
              "1    0\n",
              "Name: label, dtype: int64"
            ]
          },
          "metadata": {},
          "execution_count": 47
        }
      ]
    },
    {
      "cell_type": "code",
      "source": [
        "#Separate out objects and numeric columns in x  \n",
        "cat_cols = x.columns[x.dtypes == 'object']\n",
        "num_cols = x.columns[(x.dtypes == 'float64') | (x.dtypes == 'int64')]\n",
        "# num_cols1=list(x.select_dtypes(exclude='object').columns) # can do this way also "
      ],
      "metadata": {
        "id": "CJF7WNQivhrm"
      },
      "execution_count": 48,
      "outputs": []
    },
    {
      "cell_type": "code",
      "source": [
        "cat_cols"
      ],
      "metadata": {
        "colab": {
          "base_uri": "https://localhost:8080/"
        },
        "id": "bFRQkxoDvkah",
        "outputId": "79d0aa0f-f161-45de-80da-43f83f3e6daa"
      },
      "execution_count": 49,
      "outputs": [
        {
          "output_type": "execute_result",
          "data": {
            "text/plain": [
              "Index([], dtype='object')"
            ]
          },
          "metadata": {},
          "execution_count": 49
        }
      ]
    },
    {
      "cell_type": "code",
      "source": [
        "num_cols"
      ],
      "metadata": {
        "colab": {
          "base_uri": "https://localhost:8080/"
        },
        "id": "4H3w3X_vvmrW",
        "outputId": "ed3988fc-94a9-49a8-e486-bb04fd7cd1dc"
      },
      "execution_count": 50,
      "outputs": [
        {
          "output_type": "execute_result",
          "data": {
            "text/plain": [
              "Index(['chroma_stft', 'rmse', 'spectral_centroid', 'spectral_bandwidth',\n",
              "       'rolloff', 'zero_crossing_rate', 'mfcc1', 'mfcc2', 'mfcc3', 'mfcc4',\n",
              "       'mfcc5', 'mfcc6', 'mfcc7', 'mfcc8', 'mfcc9', 'mfcc10', 'mfcc11',\n",
              "       'mfcc12', 'mfcc13', 'mfcc14', 'mfcc15', 'mfcc16', 'mfcc17', 'mfcc18',\n",
              "       'mfcc19', 'mfcc20'],\n",
              "      dtype='object')"
            ]
          },
          "metadata": {},
          "execution_count": 50
        }
      ]
    },
    {
      "cell_type": "code",
      "source": [
        "#applying scalar to all numeric columns \n",
        "from sklearn.preprocessing import StandardScaler\n",
        "scaler = StandardScaler()\n",
        "#x[num_cols]=scaler.fit_transform(x[num_cols]) # no categorical columns, so can go with below \n",
        "x=scaler.fit_transform(x)"
      ],
      "metadata": {
        "id": "vQ5dw2povoaT"
      },
      "execution_count": 51,
      "outputs": []
    },
    {
      "cell_type": "code",
      "source": [
        "#Sample for training and testing the model\n",
        "X_train, X_test, Y_train, Y_test = train_test_split(x, y, test_size=0.3, random_state=1)\n",
        "X_train.shape, X_test.shape, Y_train.shape, Y_test.shape"
      ],
      "metadata": {
        "colab": {
          "base_uri": "https://localhost:8080/"
        },
        "id": "OqwhOfvOvxGk",
        "outputId": "39497e30-c6de-4e13-f75a-de2d86b6d468"
      },
      "execution_count": 52,
      "outputs": [
        {
          "output_type": "execute_result",
          "data": {
            "text/plain": [
              "((44, 26), (20, 26), (44,), (20,))"
            ]
          },
          "metadata": {},
          "execution_count": 52
        }
      ]
    },
    {
      "cell_type": "code",
      "source": [
        "lr = LogisticRegression(random_state=0).fit(X_train, Y_train)\n",
        "rf = RandomForestClassifier(n_estimators = 7).fit(X_train, Y_train)\n",
        "knn = KNeighborsClassifier(n_neighbors=3).fit(X_train, Y_train)\n",
        "svc = SVC().fit(X_train, Y_train)\n",
        "#nb = ComplementNB().fit(X_train, Y_train) # can not run this with negative values in data\n",
        "nb = GaussianNB().fit(X_train, Y_train)"
      ],
      "metadata": {
        "id": "ONJgvx2Xv0Za"
      },
      "execution_count": 53,
      "outputs": []
    },
    {
      "cell_type": "code",
      "source": [
        "# Prediction on Train data set \n",
        "lr_pred = lr.predict(X_train)\n",
        "rf_pred = rf.predict(X_train)\n",
        "knn_pred = knn.predict(X_train)\n",
        "svc_pred = svc.predict(X_train)\n",
        "nb_pred = nb.predict(X_train)"
      ],
      "metadata": {
        "id": "adFqUdmowrSE"
      },
      "execution_count": 54,
      "outputs": []
    },
    {
      "cell_type": "code",
      "source": [
        "lr_train_score_1 = 100*metrics.accuracy_score(Y_train, lr_pred)\n",
        "rf_train_score_1 = 100*metrics.accuracy_score(Y_train, rf_pred)\n",
        "knn_train_score_1 = 100*metrics.accuracy_score(Y_train, knn_pred)\n",
        "svc_train_score_1 = 100*metrics.accuracy_score(Y_train, svc_pred)\n",
        "nb_train_score_1 = 100*metrics.accuracy_score(Y_train, nb_pred)"
      ],
      "metadata": {
        "id": "SkLyMvGBwt_f"
      },
      "execution_count": 55,
      "outputs": []
    },
    {
      "cell_type": "code",
      "source": [
        "print(\"Train Accuracy score of LR = \",lr_train_score_1)\n",
        "print(\"Train Accuracy score of RF = \",rf_train_score_1)\n",
        "print(\"Train Accuracy score of KNN = \",knn_train_score_1)\n",
        "print(\"Train Accuracy score of SVC = \",svc_train_score_1)\n",
        "print(\"Train Accuracy score of NB = \",nb_train_score_1)"
      ],
      "metadata": {
        "colab": {
          "base_uri": "https://localhost:8080/"
        },
        "id": "h0dPKvPLwwE6",
        "outputId": "49043e50-2810-42dc-d6d7-64b30a12be4b"
      },
      "execution_count": 56,
      "outputs": [
        {
          "output_type": "stream",
          "name": "stdout",
          "text": [
            "Train Accuracy score of LR =  100.0\n",
            "Train Accuracy score of RF =  97.72727272727273\n",
            "Train Accuracy score of KNN =  88.63636363636364\n",
            "Train Accuracy score of SVC =  97.72727272727273\n",
            "Train Accuracy score of NB =  90.9090909090909\n"
          ]
        }
      ]
    },
    {
      "cell_type": "code",
      "source": [
        "# Prediction on Test data set \n",
        "lr_pred_test = lr.predict(X_test)\n",
        "rf_pred_test = rf.predict(X_test)\n",
        "knn_pred_test = knn.predict(X_test)\n",
        "svc_pred_test = svc.predict(X_test)\n",
        "nb_pred_test = nb.predict(X_test)"
      ],
      "metadata": {
        "id": "r4GwskV0wytB"
      },
      "execution_count": 57,
      "outputs": []
    },
    {
      "cell_type": "code",
      "source": [
        "lr_test_score_1 = 100*metrics.accuracy_score(Y_test, lr_pred_test)\n",
        "rf_test_score_1 = 100*metrics.accuracy_score(Y_test, rf_pred_test)\n",
        "knn_test_score_1 = 100*metrics.accuracy_score(Y_test, knn_pred_test)\n",
        "svc_test_score_1 = 100*metrics.accuracy_score(Y_test, svc_pred_test)\n",
        "nb_test_score_1 = 100*metrics.accuracy_score(Y_test, nb_pred_test)"
      ],
      "metadata": {
        "id": "tJC9r9aNw1pO"
      },
      "execution_count": 58,
      "outputs": []
    },
    {
      "cell_type": "code",
      "source": [
        "print(\"Test Accuracy score of LR = \",lr_test_score_1)\n",
        "print(\"Test Accuracy score of RF = \",rf_test_score_1)\n",
        "print(\"Test Accuracy score of KNN = \",knn_test_score_1)\n",
        "print(\"Test Accuracy score of SVC = \",svc_test_score_1)\n",
        "print(\"Test Accuracy score of NB = \",nb_test_score_1)"
      ],
      "metadata": {
        "colab": {
          "base_uri": "https://localhost:8080/"
        },
        "id": "37_ApH29w3kn",
        "outputId": "830855de-aabd-4b07-859c-0946e7f792ea"
      },
      "execution_count": 59,
      "outputs": [
        {
          "output_type": "stream",
          "name": "stdout",
          "text": [
            "Test Accuracy score of LR =  95.0\n",
            "Test Accuracy score of RF =  95.0\n",
            "Test Accuracy score of KNN =  85.0\n",
            "Test Accuracy score of SVC =  95.0\n",
            "Test Accuracy score of NB =  95.0\n"
          ]
        }
      ]
    },
    {
      "cell_type": "code",
      "source": [
        "# Plot graph to compare models for Training and Testing Scores\n",
        "trainScores = [lr_train_score_1, rf_train_score_1, knn_train_score_1, svc_train_score_1, nb_train_score_1]\n",
        "\n",
        "testScores = [lr_test_score_1, rf_test_score_1, knn_test_score_1, svc_test_score_1, nb_test_score_1]\n",
        "\n",
        "indices = ['Logistic Regression', 'RandomForest', 'KNN', 'SVC' , 'NB']\n",
        "\n",
        "scores = pd.DataFrame({'Training Score': trainScores,'Testing Score': testScores}, index=indices)\n",
        "\n",
        "#plot = scores.plot.bar(figsize=(10, 5), rot=0, color=['#df6589ff', '#3c1053ff'])\n",
        "plot = scores.plot.bar(figsize=(10, 5), rot=0, color=['#40E0D0', '#0000aa'])\n",
        "\n",
        "plt.title('Training and Testing Scores')\n",
        "plt.show()"
      ],
      "metadata": {
        "colab": {
          "base_uri": "https://localhost:8080/",
          "height": 468
        },
        "id": "_3CsB5Kqw6Gn",
        "outputId": "b9489ecf-a125-4af6-ae18-41e5dff8c6dd"
      },
      "execution_count": 60,
      "outputs": [
        {
          "output_type": "display_data",
          "data": {
            "text/plain": [
              "<Figure size 1000x500 with 1 Axes>"
            ],
            "image/png": "[encoded data removed]"
          },
          "metadata": {}
        }
      ]
    },
    {
      "cell_type": "code",
      "source": [
        "# print scores dataframe created above \n",
        "scores.sort_values(by='Testing Score', ascending=False, inplace = True)\n",
        "scores"
      ],
      "metadata": {
        "colab": {
          "base_uri": "https://localhost:8080/",
          "height": 206
        },
        "id": "2Wv38g-GycPf",
        "outputId": "a8b525c3-1e58-4acc-dbcd-41b1dcb6d1b9"
      },
      "execution_count": 61,
      "outputs": [
        {
          "output_type": "execute_result",
          "data": {
            "text/plain": [
              "                     Training Score  Testing Score\n",
              "Logistic Regression      100.000000           95.0\n",
              "RandomForest              97.727273           95.0\n",
              "SVC                       97.727273           95.0\n",
              "NB                        90.909091           95.0\n",
              "KNN                       88.636364           85.0"
            ],
            "text/html": [
              "\n",
              "  <div id=\"df-375686dc-e373-49d7-bbe1-d7c85e5c473b\">\n",
              "    <div class=\"colab-df-container\">\n",
              "      <div>\n",
              "<style scoped>\n",
              "    .dataframe tbody tr th:only-of-type {\n",
              "        vertical-align: middle;\n",
              "    }\n",
              "\n",
              "    .dataframe tbody tr th {\n",
              "        vertical-align: top;\n",
              "    }\n",
              "\n",
              "    .dataframe thead th {\n",
              "        text-align: right;\n",
              "    }\n",
              "</style>\n",
              "<table border=\"1\" class=\"dataframe\">\n",
              "  <thead>\n",
              "    <tr style=\"text-align: right;\">\n",
              "      <th></th>\n",
              "      <th>Training Score</th>\n",
              "      <th>Testing Score</th>\n",
              "    </tr>\n",
              "  </thead>\n",
              "  <tbody>\n",
              "    <tr>\n",
              "      <th>Logistic Regression</th>\n",
              "      <td>100.000000</td>\n",
              "      <td>95.0</td>\n",
              "    </tr>\n",
              "    <tr>\n",
              "      <th>RandomForest</th>\n",
              "      <td>97.727273</td>\n",
              "      <td>95.0</td>\n",
              "    </tr>\n",
              "    <tr>\n",
              "      <th>SVC</th>\n",
              "      <td>97.727273</td>\n",
              "      <td>95.0</td>\n",
              "    </tr>\n",
              "    <tr>\n",
              "      <th>NB</th>\n",
              "      <td>90.909091</td>\n",
              "      <td>95.0</td>\n",
              "    </tr>\n",
              "    <tr>\n",
              "      <th>KNN</th>\n",
              "      <td>88.636364</td>\n",
              "      <td>85.0</td>\n",
              "    </tr>\n",
              "  </tbody>\n",
              "</table>\n",
              "</div>\n",
              "      <button class=\"colab-df-convert\" onclick=\"convertToInteractive('df-375686dc-e373-49d7-bbe1-d7c85e5c473b')\"\n",
              "              title=\"Convert this dataframe to an interactive table.\"\n",
              "              style=\"display:none;\">\n",
              "        \n",
              "  <svg xmlns=\"http://www.w3.org/2000/svg\" height=\"24px\"viewBox=\"0 0 24 24\"\n",
              "       width=\"24px\">\n",
              "    <path d=\"M0 0h24v24H0V0z\" fill=\"none\"/>\n",
              "    <path d=\"M18.56 5.44l.94 2.06.94-2.06 2.06-.94-2.06-.94-.94-2.06-.94 2.06-2.06.94zm-11 1L8.5 8.5l.94-2.06 2.06-.94-2.06-.94L8.5 2.5l-.94 2.06-2.06.94zm10 10l.94 2.06.94-2.06 2.06-.94-2.06-.94-.94-2.06-.94 2.06-2.06.94z\"/><path d=\"M17.41 7.96l-1.37-1.37c-.4-.4-.92-.59-1.43-.59-.52 0-1.04.2-1.43.59L10.3 9.45l-7.72 7.72c-.78.78-.78 2.05 0 2.83L4 21.41c.39.39.9.59 1.41.59.51 0 1.02-.2 1.41-.59l7.78-7.78 2.81-2.81c.8-.78.8-2.07 0-2.86zM5.41 20L4 18.59l7.72-7.72 1.47 1.35L5.41 20z\"/>\n",
              "  </svg>\n",
              "      </button>\n",
              "      \n",
              "  <style>\n",
              "    .colab-df-container {\n",
              "      display:flex;\n",
              "      flex-wrap:wrap;\n",
              "      gap: 12px;\n",
              "    }\n",
              "\n",
              "    .colab-df-convert {\n",
              "      background-color: #E8F0FE;\n",
              "      border: none;\n",
              "      border-radius: 50%;\n",
              "      cursor: pointer;\n",
              "      display: none;\n",
              "      fill: #1967D2;\n",
              "      height: 32px;\n",
              "      padding: 0 0 0 0;\n",
              "      width: 32px;\n",
              "    }\n",
              "\n",
              "    .colab-df-convert:hover {\n",
              "      background-color: #E2EBFA;\n",
              "      box-shadow: 0px 1px 2px rgba(60, 64, 67, 0.3), 0px 1px 3px 1px rgba(60, 64, 67, 0.15);\n",
              "      fill: #174EA6;\n",
              "    }\n",
              "\n",
              "    [theme=dark] .colab-df-convert {\n",
              "      background-color: #3B4455;\n",
              "      fill: #D2E3FC;\n",
              "    }\n",
              "\n",
              "    [theme=dark] .colab-df-convert:hover {\n",
              "      background-color: #434B5C;\n",
              "      box-shadow: 0px 1px 3px 1px rgba(0, 0, 0, 0.15);\n",
              "      filter: drop-shadow(0px 1px 2px rgba(0, 0, 0, 0.3));\n",
              "      fill: #FFFFFF;\n",
              "    }\n",
              "  </style>\n",
              "\n",
              "      <script>\n",
              "        const buttonEl =\n",
              "          document.querySelector('#df-375686dc-e373-49d7-bbe1-d7c85e5c473b button.colab-df-convert');\n",
              "        buttonEl.style.display =\n",
              "          google.colab.kernel.accessAllowed ? 'block' : 'none';\n",
              "\n",
              "        async function convertToInteractive(key) {\n",
              "          const element = document.querySelector('#df-375686dc-e373-49d7-bbe1-d7c85e5c473b');\n",
              "          const dataTable =\n",
              "            await google.colab.kernel.invokeFunction('convertToInteractive',\n",
              "                                                     [key], {});\n",
              "          if (!dataTable) return;\n",
              "\n",
              "          const docLinkHtml = 'Like what you see? Visit the ' +\n",
              "            '<a target=\"_blank\" href=https://colab.research.google.com/notebooks/data_table.ipynb>data table notebook</a>'\n",
              "            + ' to learn more about interactive tables.';\n",
              "          element.innerHTML = '';\n",
              "          dataTable['output_type'] = 'display_data';\n",
              "          await google.colab.output.renderOutput(dataTable, element);\n",
              "          const docLink = document.createElement('div');\n",
              "          docLink.innerHTML = docLinkHtml;\n",
              "          element.appendChild(docLink);\n",
              "        }\n",
              "      </script>\n",
              "    </div>\n",
              "  </div>\n",
              "  "
            ]
          },
          "metadata": {},
          "execution_count": 61
        }
      ]
    },
    {
      "cell_type": "code",
      "source": [
        "predVals = pd.DataFrame(data={'truth': Y_test, \n",
        "                              'Logisticregression': lr_pred_test, \n",
        "                              'RandomForest': rf_pred_test, \n",
        "                              'KNN': knn_pred_test, \n",
        "                              'SVC': svc_pred_test, \n",
        "                              'NaiveBayes': nb_pred_test})"
      ],
      "metadata": {
        "id": "zDqaB1W7y20p"
      },
      "execution_count": 62,
      "outputs": []
    },
    {
      "cell_type": "code",
      "source": [
        "plt.figure(figsize=(14, 9))\n",
        "##plt.ylabel('True label')\n",
        "##plt.xlabel('Predicted label')\n",
        "\n",
        "plt.subplot(3, 3, 1)\n",
        "sns.heatmap(sklearn.metrics.confusion_matrix(Y_test, lr_pred_test), annot=True).set(title='Logistic Regression')\n",
        "\n",
        "plt.subplot(3, 3, 2)\n",
        "sns.heatmap(sklearn.metrics.confusion_matrix(Y_test, rf_pred_test), annot=True).set(title='RandomForest')\n",
        "\n",
        "plt.subplot(3, 3, 3)\n",
        "sns.heatmap(sklearn.metrics.confusion_matrix(Y_test, knn_pred_test), annot=True).set(title='KNN')\n",
        "\n",
        "plt.subplot(3, 3, 4)\n",
        "sns.heatmap(sklearn.metrics.confusion_matrix(Y_test, svc_pred_test), annot=True).set(title='SVC')\n",
        "\n",
        "plt.subplot(3, 3, 5)\n",
        "sns.heatmap(sklearn.metrics.confusion_matrix(Y_test, nb_pred_test), annot=True).set(title='NaiveBayes')\n",
        "\n",
        "plt.suptitle('Confusion matrices')\n",
        "plt.ylabel('True label')\n",
        "plt.xlabel('Predicted label')\n",
        "plt.show()"
      ],
      "metadata": {
        "colab": {
          "base_uri": "https://localhost:8080/",
          "height": 611
        },
        "id": "J59G46LWy5H2",
        "outputId": "16be0b10-d88b-404e-dd45-9be337c34e5c"
      },
      "execution_count": 63,
      "outputs": [
        {
          "output_type": "display_data",
          "data": {
            "text/plain": [
              "<Figure size 1400x900 with 10 Axes>"
            ],
            "image/png": "[encoded data removed]"
          },
          "metadata": {}
        }
      ]
    },
    {
      "cell_type": "code",
      "source": [
        "print(\"<< Logistic Regression >> \\n\\n\", sklearn.metrics.classification_report(Y_test, lr_pred_test))"
      ],
      "metadata": {
        "colab": {
          "base_uri": "https://localhost:8080/"
        },
        "id": "7KinIH3oy835",
        "outputId": "6796d1f4-a378-47c6-972f-8be0090ce9a6"
      },
      "execution_count": 64,
      "outputs": [
        {
          "output_type": "stream",
          "name": "stdout",
          "text": [
            "<< Logistic Regression >> \n",
            "\n",
            "               precision    recall  f1-score   support\n",
            "\n",
            "           0       1.00      0.86      0.92         7\n",
            "           1       0.93      1.00      0.96        13\n",
            "\n",
            "    accuracy                           0.95        20\n",
            "   macro avg       0.96      0.93      0.94        20\n",
            "weighted avg       0.95      0.95      0.95        20\n",
            "\n"
          ]
        }
      ]
    },
    {
      "cell_type": "code",
      "source": [
        "print(\"<< Random Forest >>\\n\\n\", sklearn.metrics.classification_report(Y_test, rf_pred_test))"
      ],
      "metadata": {
        "colab": {
          "base_uri": "https://localhost:8080/"
        },
        "id": "mjiHnAAnzAu7",
        "outputId": "1f0e6bbf-a79f-460b-815b-91e0c83e2256"
      },
      "execution_count": 65,
      "outputs": [
        {
          "output_type": "stream",
          "name": "stdout",
          "text": [
            "<< Random Forest >>\n",
            "\n",
            "               precision    recall  f1-score   support\n",
            "\n",
            "           0       1.00      0.86      0.92         7\n",
            "           1       0.93      1.00      0.96        13\n",
            "\n",
            "    accuracy                           0.95        20\n",
            "   macro avg       0.96      0.93      0.94        20\n",
            "weighted avg       0.95      0.95      0.95        20\n",
            "\n"
          ]
        }
      ]
    },
    {
      "cell_type": "code",
      "source": [
        "print(\"<< K Nearest Neighbour >>\\n\\n\", sklearn.metrics.classification_report(Y_test, knn_pred_test))"
      ],
      "metadata": {
        "colab": {
          "base_uri": "https://localhost:8080/"
        },
        "id": "-0WaII3azFEF",
        "outputId": "696b2991-7a6a-4ec2-8b74-d4c3f790fb7d"
      },
      "execution_count": 66,
      "outputs": [
        {
          "output_type": "stream",
          "name": "stdout",
          "text": [
            "<< K Nearest Neighbour >>\n",
            "\n",
            "               precision    recall  f1-score   support\n",
            "\n",
            "           0       0.75      0.86      0.80         7\n",
            "           1       0.92      0.85      0.88        13\n",
            "\n",
            "    accuracy                           0.85        20\n",
            "   macro avg       0.83      0.85      0.84        20\n",
            "weighted avg       0.86      0.85      0.85        20\n",
            "\n"
          ]
        }
      ]
    },
    {
      "cell_type": "code",
      "source": [
        "print(\"<< Supprt Vector >>\\n\\n\", sklearn.metrics.classification_report(Y_test, svc_pred_test))"
      ],
      "metadata": {
        "colab": {
          "base_uri": "https://localhost:8080/"
        },
        "id": "yFRZGi0ezJKu",
        "outputId": "4328257a-3e6a-48e9-e128-9a11e780f456"
      },
      "execution_count": 67,
      "outputs": [
        {
          "output_type": "stream",
          "name": "stdout",
          "text": [
            "<< Supprt Vector >>\n",
            "\n",
            "               precision    recall  f1-score   support\n",
            "\n",
            "           0       1.00      0.86      0.92         7\n",
            "           1       0.93      1.00      0.96        13\n",
            "\n",
            "    accuracy                           0.95        20\n",
            "   macro avg       0.96      0.93      0.94        20\n",
            "weighted avg       0.95      0.95      0.95        20\n",
            "\n"
          ]
        }
      ]
    },
    {
      "cell_type": "code",
      "source": [
        "print(\"<< Naive Bayes >>\\n\\n\", sklearn.metrics.classification_report(Y_test, nb_pred_test))"
      ],
      "metadata": {
        "colab": {
          "base_uri": "https://localhost:8080/"
        },
        "id": "jDgKkphdzMJC",
        "outputId": "7c139ffd-a70f-46e4-d4f9-4df7b741d19a"
      },
      "execution_count": 68,
      "outputs": [
        {
          "output_type": "stream",
          "name": "stdout",
          "text": [
            "<< Naive Bayes >>\n",
            "\n",
            "               precision    recall  f1-score   support\n",
            "\n",
            "           0       0.88      1.00      0.93         7\n",
            "           1       1.00      0.92      0.96        13\n",
            "\n",
            "    accuracy                           0.95        20\n",
            "   macro avg       0.94      0.96      0.95        20\n",
            "weighted avg       0.96      0.95      0.95        20\n",
            "\n"
          ]
        }
      ]
    },
    {
      "cell_type": "code",
      "source": [
        "predVals.sample(5)"
      ],
      "metadata": {
        "colab": {
          "base_uri": "https://localhost:8080/",
          "height": 206
        },
        "id": "glzsu-q7zP8J",
        "outputId": "af4e9b7b-1b51-4c0b-b03e-a0f5adfb2da9"
      },
      "execution_count": 69,
      "outputs": [
        {
          "output_type": "execute_result",
          "data": {
            "text/plain": [
              "    truth  Logisticregression  RandomForest  KNN  SVC  NaiveBayes\n",
              "35      1                   1             1    1    1           1\n",
              "21      0                   0             0    0    0           0\n",
              "3       0                   0             0    0    0           0\n",
              "62      1                   1             1    1    1           1\n",
              "54      1                   1             1    1    1           1"
            ],
            "text/html": [
              "\n",
              "  <div id=\"df-a81d92ed-a96c-4f1d-96d0-282f30f6466b\">\n",
              "    <div class=\"colab-df-container\">\n",
              "      <div>\n",
              "<style scoped>\n",
              "    .dataframe tbody tr th:only-of-type {\n",
              "        vertical-align: middle;\n",
              "    }\n",
              "\n",
              "    .dataframe tbody tr th {\n",
              "        vertical-align: top;\n",
              "    }\n",
              "\n",
              "    .dataframe thead th {\n",
              "        text-align: right;\n",
              "    }\n",
              "</style>\n",
              "<table border=\"1\" class=\"dataframe\">\n",
              "  <thead>\n",
              "    <tr style=\"text-align: right;\">\n",
              "      <th></th>\n",
              "      <th>truth</th>\n",
              "      <th>Logisticregression</th>\n",
              "      <th>RandomForest</th>\n",
              "      <th>KNN</th>\n",
              "      <th>SVC</th>\n",
              "      <th>NaiveBayes</th>\n",
              "    </tr>\n",
              "  </thead>\n",
              "  <tbody>\n",
              "    <tr>\n",
              "      <th>35</th>\n",
              "      <td>1</td>\n",
              "      <td>1</td>\n",
              "      <td>1</td>\n",
              "      <td>1</td>\n",
              "      <td>1</td>\n",
              "      <td>1</td>\n",
              "    </tr>\n",
              "    <tr>\n",
              "      <th>21</th>\n",
              "      <td>0</td>\n",
              "      <td>0</td>\n",
              "      <td>0</td>\n",
              "      <td>0</td>\n",
              "      <td>0</td>\n",
              "      <td>0</td>\n",
              "    </tr>\n",
              "    <tr>\n",
              "      <th>3</th>\n",
              "      <td>0</td>\n",
              "      <td>0</td>\n",
              "      <td>0</td>\n",
              "      <td>0</td>\n",
              "      <td>0</td>\n",
              "      <td>0</td>\n",
              "    </tr>\n",
              "    <tr>\n",
              "      <th>62</th>\n",
              "      <td>1</td>\n",
              "      <td>1</td>\n",
              "      <td>1</td>\n",
              "      <td>1</td>\n",
              "      <td>1</td>\n",
              "      <td>1</td>\n",
              "    </tr>\n",
              "    <tr>\n",
              "      <th>54</th>\n",
              "      <td>1</td>\n",
              "      <td>1</td>\n",
              "      <td>1</td>\n",
              "      <td>1</td>\n",
              "      <td>1</td>\n",
              "      <td>1</td>\n",
              "    </tr>\n",
              "  </tbody>\n",
              "</table>\n",
              "</div>\n",
              "      <button class=\"colab-df-convert\" onclick=\"convertToInteractive('df-a81d92ed-a96c-4f1d-96d0-282f30f6466b')\"\n",
              "              title=\"Convert this dataframe to an interactive table.\"\n",
              "              style=\"display:none;\">\n",
              "        \n",
              "  <svg xmlns=\"http://www.w3.org/2000/svg\" height=\"24px\"viewBox=\"0 0 24 24\"\n",
              "       width=\"24px\">\n",
              "    <path d=\"M0 0h24v24H0V0z\" fill=\"none\"/>\n",
              "    <path d=\"M18.56 5.44l.94 2.06.94-2.06 2.06-.94-2.06-.94-.94-2.06-.94 2.06-2.06.94zm-11 1L8.5 8.5l.94-2.06 2.06-.94-2.06-.94L8.5 2.5l-.94 2.06-2.06.94zm10 10l.94 2.06.94-2.06 2.06-.94-2.06-.94-.94-2.06-.94 2.06-2.06.94z\"/><path d=\"M17.41 7.96l-1.37-1.37c-.4-.4-.92-.59-1.43-.59-.52 0-1.04.2-1.43.59L10.3 9.45l-7.72 7.72c-.78.78-.78 2.05 0 2.83L4 21.41c.39.39.9.59 1.41.59.51 0 1.02-.2 1.41-.59l7.78-7.78 2.81-2.81c.8-.78.8-2.07 0-2.86zM5.41 20L4 18.59l7.72-7.72 1.47 1.35L5.41 20z\"/>\n",
              "  </svg>\n",
              "      </button>\n",
              "      \n",
              "  <style>\n",
              "    .colab-df-container {\n",
              "      display:flex;\n",
              "      flex-wrap:wrap;\n",
              "      gap: 12px;\n",
              "    }\n",
              "\n",
              "    .colab-df-convert {\n",
              "      background-color: #E8F0FE;\n",
              "      border: none;\n",
              "      border-radius: 50%;\n",
              "      cursor: pointer;\n",
              "      display: none;\n",
              "      fill: #1967D2;\n",
              "      height: 32px;\n",
              "      padding: 0 0 0 0;\n",
              "      width: 32px;\n",
              "    }\n",
              "\n",
              "    .colab-df-convert:hover {\n",
              "      background-color: #E2EBFA;\n",
              "      box-shadow: 0px 1px 2px rgba(60, 64, 67, 0.3), 0px 1px 3px 1px rgba(60, 64, 67, 0.15);\n",
              "      fill: #174EA6;\n",
              "    }\n",
              "\n",
              "    [theme=dark] .colab-df-convert {\n",
              "      background-color: #3B4455;\n",
              "      fill: #D2E3FC;\n",
              "    }\n",
              "\n",
              "    [theme=dark] .colab-df-convert:hover {\n",
              "      background-color: #434B5C;\n",
              "      box-shadow: 0px 1px 3px 1px rgba(0, 0, 0, 0.15);\n",
              "      filter: drop-shadow(0px 1px 2px rgba(0, 0, 0, 0.3));\n",
              "      fill: #FFFFFF;\n",
              "    }\n",
              "  </style>\n",
              "\n",
              "      <script>\n",
              "        const buttonEl =\n",
              "          document.querySelector('#df-a81d92ed-a96c-4f1d-96d0-282f30f6466b button.colab-df-convert');\n",
              "        buttonEl.style.display =\n",
              "          google.colab.kernel.accessAllowed ? 'block' : 'none';\n",
              "\n",
              "        async function convertToInteractive(key) {\n",
              "          const element = document.querySelector('#df-a81d92ed-a96c-4f1d-96d0-282f30f6466b');\n",
              "          const dataTable =\n",
              "            await google.colab.kernel.invokeFunction('convertToInteractive',\n",
              "                                                     [key], {});\n",
              "          if (!dataTable) return;\n",
              "\n",
              "          const docLinkHtml = 'Like what you see? Visit the ' +\n",
              "            '<a target=\"_blank\" href=https://colab.research.google.com/notebooks/data_table.ipynb>data table notebook</a>'\n",
              "            + ' to learn more about interactive tables.';\n",
              "          element.innerHTML = '';\n",
              "          dataTable['output_type'] = 'display_data';\n",
              "          await google.colab.output.renderOutput(dataTable, element);\n",
              "          const docLink = document.createElement('div');\n",
              "          docLink.innerHTML = docLinkHtml;\n",
              "          element.appendChild(docLink);\n",
              "        }\n",
              "      </script>\n",
              "    </div>\n",
              "  </div>\n",
              "  "
            ]
          },
          "metadata": {},
          "execution_count": 69
        }
      ]
    },
    {
      "cell_type": "code",
      "source": [],
      "metadata": {
        "id": "MSY8l8U4zS1n"
      },
      "execution_count": null,
      "outputs": []
    },
    {
      "cell_type": "code",
      "source": [],
      "metadata": {
        "id": "QWZqk5TRHvSJ"
      },
      "execution_count": null,
      "outputs": []
    },
    {
      "cell_type": "markdown",
      "source": [
        "# predict on New User"
      ],
      "metadata": {
        "id": "5XvvyKzpHwa1"
      }
    },
    {
      "cell_type": "code",
      "source": [
        "#newUser = data1.loc[data1['filename'] == 'Nidhi_Agarwal_0010-11.wav']   # Dropping unneccesary columns 'filename'\n",
        "newUser = data1.loc[data1['filename'] == 'Ajay_Devgan-1.wav'] \n",
        "#newUser = data1.loc[data1['filename'].isin(['Nidhi_Agarwal_0010-11.wav','Pooja_Stories_0009-11.wav'])]\n",
        "\n",
        "#newUser = data1.loc[data1['filename'].isin(['Nidhi_Agarwal_0010-11.wav','Ajay_Devgan-1.wav','Pooja_Stories_0009-11.wav'])]\n"
      ],
      "metadata": {
        "id": "KYM5vLhNH0_a"
      },
      "execution_count": 204,
      "outputs": []
    },
    {
      "cell_type": "code",
      "source": [
        "newUser"
      ],
      "metadata": {
        "colab": {
          "base_uri": "https://localhost:8080/",
          "height": 191
        },
        "id": "XC4AMlwNIvUY",
        "outputId": "3103939a-5c62-4b82-9841-2599b0326953"
      },
      "execution_count": 205,
      "outputs": [
        {
          "output_type": "execute_result",
          "data": {
            "text/plain": [
              "             filename  chroma_stft      rmse  spectral_centroid  \\\n",
              "26  Ajay_Devgan-1.wav     0.454327  0.058352         967.308983   \n",
              "\n",
              "    spectral_bandwidth      rolloff  zero_crossing_rate       mfcc1  \\\n",
              "26         1188.780388  1769.374486            0.048485 -281.642059   \n",
              "\n",
              "         mfcc2     mfcc3  ...    mfcc12    mfcc13    mfcc14    mfcc15  \\\n",
              "26  176.901978  4.768245  ...  0.930168  5.092219 -7.643029  6.893967   \n",
              "\n",
              "     mfcc16    mfcc17    mfcc18    mfcc19    mfcc20  label  \n",
              "26  0.91358  0.428194 -6.172984 -0.538485 -0.793509   male  \n",
              "\n",
              "[1 rows x 28 columns]"
            ],
            "text/html": [
              "\n",
              "  <div id=\"df-ffb78596-d75e-41f1-ae6d-d3548ca2c75d\">\n",
              "    <div class=\"colab-df-container\">\n",
              "      <div>\n",
              "<style scoped>\n",
              "    .dataframe tbody tr th:only-of-type {\n",
              "        vertical-align: middle;\n",
              "    }\n",
              "\n",
              "    .dataframe tbody tr th {\n",
              "        vertical-align: top;\n",
              "    }\n",
              "\n",
              "    .dataframe thead th {\n",
              "        text-align: right;\n",
              "    }\n",
              "</style>\n",
              "<table border=\"1\" class=\"dataframe\">\n",
              "  <thead>\n",
              "    <tr style=\"text-align: right;\">\n",
              "      <th></th>\n",
              "      <th>filename</th>\n",
              "      <th>chroma_stft</th>\n",
              "      <th>rmse</th>\n",
              "      <th>spectral_centroid</th>\n",
              "      <th>spectral_bandwidth</th>\n",
              "      <th>rolloff</th>\n",
              "      <th>zero_crossing_rate</th>\n",
              "      <th>mfcc1</th>\n",
              "      <th>mfcc2</th>\n",
              "      <th>mfcc3</th>\n",
              "      <th>...</th>\n",
              "      <th>mfcc12</th>\n",
              "      <th>mfcc13</th>\n",
              "      <th>mfcc14</th>\n",
              "      <th>mfcc15</th>\n",
              "      <th>mfcc16</th>\n",
              "      <th>mfcc17</th>\n",
              "      <th>mfcc18</th>\n",
              "      <th>mfcc19</th>\n",
              "      <th>mfcc20</th>\n",
              "      <th>label</th>\n",
              "    </tr>\n",
              "  </thead>\n",
              "  <tbody>\n",
              "    <tr>\n",
              "      <th>26</th>\n",
              "      <td>Ajay_Devgan-1.wav</td>\n",
              "      <td>0.454327</td>\n",
              "      <td>0.058352</td>\n",
              "      <td>967.308983</td>\n",
              "      <td>1188.780388</td>\n",
              "      <td>1769.374486</td>\n",
              "      <td>0.048485</td>\n",
              "      <td>-281.642059</td>\n",
              "      <td>176.901978</td>\n",
              "      <td>4.768245</td>\n",
              "      <td>...</td>\n",
              "      <td>0.930168</td>\n",
              "      <td>5.092219</td>\n",
              "      <td>-7.643029</td>\n",
              "      <td>6.893967</td>\n",
              "      <td>0.91358</td>\n",
              "      <td>0.428194</td>\n",
              "      <td>-6.172984</td>\n",
              "      <td>-0.538485</td>\n",
              "      <td>-0.793509</td>\n",
              "      <td>male</td>\n",
              "    </tr>\n",
              "  </tbody>\n",
              "</table>\n",
              "<p>1 rows × 28 columns</p>\n",
              "</div>\n",
              "      <button class=\"colab-df-convert\" onclick=\"convertToInteractive('df-ffb78596-d75e-41f1-ae6d-d3548ca2c75d')\"\n",
              "              title=\"Convert this dataframe to an interactive table.\"\n",
              "              style=\"display:none;\">\n",
              "        \n",
              "  <svg xmlns=\"http://www.w3.org/2000/svg\" height=\"24px\"viewBox=\"0 0 24 24\"\n",
              "       width=\"24px\">\n",
              "    <path d=\"M0 0h24v24H0V0z\" fill=\"none\"/>\n",
              "    <path d=\"M18.56 5.44l.94 2.06.94-2.06 2.06-.94-2.06-.94-.94-2.06-.94 2.06-2.06.94zm-11 1L8.5 8.5l.94-2.06 2.06-.94-2.06-.94L8.5 2.5l-.94 2.06-2.06.94zm10 10l.94 2.06.94-2.06 2.06-.94-2.06-.94-.94-2.06-.94 2.06-2.06.94z\"/><path d=\"M17.41 7.96l-1.37-1.37c-.4-.4-.92-.59-1.43-.59-.52 0-1.04.2-1.43.59L10.3 9.45l-7.72 7.72c-.78.78-.78 2.05 0 2.83L4 21.41c.39.39.9.59 1.41.59.51 0 1.02-.2 1.41-.59l7.78-7.78 2.81-2.81c.8-.78.8-2.07 0-2.86zM5.41 20L4 18.59l7.72-7.72 1.47 1.35L5.41 20z\"/>\n",
              "  </svg>\n",
              "      </button>\n",
              "      \n",
              "  <style>\n",
              "    .colab-df-container {\n",
              "      display:flex;\n",
              "      flex-wrap:wrap;\n",
              "      gap: 12px;\n",
              "    }\n",
              "\n",
              "    .colab-df-convert {\n",
              "      background-color: #E8F0FE;\n",
              "      border: none;\n",
              "      border-radius: 50%;\n",
              "      cursor: pointer;\n",
              "      display: none;\n",
              "      fill: #1967D2;\n",
              "      height: 32px;\n",
              "      padding: 0 0 0 0;\n",
              "      width: 32px;\n",
              "    }\n",
              "\n",
              "    .colab-df-convert:hover {\n",
              "      background-color: #E2EBFA;\n",
              "      box-shadow: 0px 1px 2px rgba(60, 64, 67, 0.3), 0px 1px 3px 1px rgba(60, 64, 67, 0.15);\n",
              "      fill: #174EA6;\n",
              "    }\n",
              "\n",
              "    [theme=dark] .colab-df-convert {\n",
              "      background-color: #3B4455;\n",
              "      fill: #D2E3FC;\n",
              "    }\n",
              "\n",
              "    [theme=dark] .colab-df-convert:hover {\n",
              "      background-color: #434B5C;\n",
              "      box-shadow: 0px 1px 3px 1px rgba(0, 0, 0, 0.15);\n",
              "      filter: drop-shadow(0px 1px 2px rgba(0, 0, 0, 0.3));\n",
              "      fill: #FFFFFF;\n",
              "    }\n",
              "  </style>\n",
              "\n",
              "      <script>\n",
              "        const buttonEl =\n",
              "          document.querySelector('#df-ffb78596-d75e-41f1-ae6d-d3548ca2c75d button.colab-df-convert');\n",
              "        buttonEl.style.display =\n",
              "          google.colab.kernel.accessAllowed ? 'block' : 'none';\n",
              "\n",
              "        async function convertToInteractive(key) {\n",
              "          const element = document.querySelector('#df-ffb78596-d75e-41f1-ae6d-d3548ca2c75d');\n",
              "          const dataTable =\n",
              "            await google.colab.kernel.invokeFunction('convertToInteractive',\n",
              "                                                     [key], {});\n",
              "          if (!dataTable) return;\n",
              "\n",
              "          const docLinkHtml = 'Like what you see? Visit the ' +\n",
              "            '<a target=\"_blank\" href=https://colab.research.google.com/notebooks/data_table.ipynb>data table notebook</a>'\n",
              "            + ' to learn more about interactive tables.';\n",
              "          element.innerHTML = '';\n",
              "          dataTable['output_type'] = 'display_data';\n",
              "          await google.colab.output.renderOutput(dataTable, element);\n",
              "          const docLink = document.createElement('div');\n",
              "          docLink.innerHTML = docLinkHtml;\n",
              "          element.appendChild(docLink);\n",
              "        }\n",
              "      </script>\n",
              "    </div>\n",
              "  </div>\n",
              "  "
            ]
          },
          "metadata": {},
          "execution_count": 205
        }
      ]
    },
    {
      "cell_type": "code",
      "source": [
        "# Dropping unneccesary columns 'filename'\n",
        "newUser = newUser.drop(['filename'],axis=1)#Encoding the Labels"
      ],
      "metadata": {
        "id": "6OMLjzVZJIiM"
      },
      "execution_count": 206,
      "outputs": []
    },
    {
      "cell_type": "code",
      "source": [
        "# male to 0, female to 1\n",
        "newUser.label.replace(['male', 'female'],[0,1], inplace=True)"
      ],
      "metadata": {
        "id": "dNI7qtP3JRuG"
      },
      "execution_count": 207,
      "outputs": []
    },
    {
      "cell_type": "code",
      "source": [
        "newUser"
      ],
      "metadata": {
        "colab": {
          "base_uri": "https://localhost:8080/",
          "height": 174
        },
        "id": "xap8lfDWJg-L",
        "outputId": "871c0487-b147-4980-a36e-1481b55486ad"
      },
      "execution_count": 208,
      "outputs": [
        {
          "output_type": "execute_result",
          "data": {
            "text/plain": [
              "    chroma_stft      rmse  spectral_centroid  spectral_bandwidth      rolloff  \\\n",
              "26     0.454327  0.058352         967.308983         1188.780388  1769.374486   \n",
              "\n",
              "    zero_crossing_rate       mfcc1       mfcc2     mfcc3      mfcc4  ...  \\\n",
              "26            0.048485 -281.642059  176.901978  4.768245  15.838964  ...   \n",
              "\n",
              "      mfcc12    mfcc13    mfcc14    mfcc15   mfcc16    mfcc17    mfcc18  \\\n",
              "26  0.930168  5.092219 -7.643029  6.893967  0.91358  0.428194 -6.172984   \n",
              "\n",
              "      mfcc19    mfcc20  label  \n",
              "26 -0.538485 -0.793509      0  \n",
              "\n",
              "[1 rows x 27 columns]"
            ],
            "text/html": [
              "\n",
              "  <div id=\"df-5cf7f030-d7f7-4a97-a00f-18da76a9c653\">\n",
              "    <div class=\"colab-df-container\">\n",
              "      <div>\n",
              "<style scoped>\n",
              "    .dataframe tbody tr th:only-of-type {\n",
              "        vertical-align: middle;\n",
              "    }\n",
              "\n",
              "    .dataframe tbody tr th {\n",
              "        vertical-align: top;\n",
              "    }\n",
              "\n",
              "    .dataframe thead th {\n",
              "        text-align: right;\n",
              "    }\n",
              "</style>\n",
              "<table border=\"1\" class=\"dataframe\">\n",
              "  <thead>\n",
              "    <tr style=\"text-align: right;\">\n",
              "      <th></th>\n",
              "      <th>chroma_stft</th>\n",
              "      <th>rmse</th>\n",
              "      <th>spectral_centroid</th>\n",
              "      <th>spectral_bandwidth</th>\n",
              "      <th>rolloff</th>\n",
              "      <th>zero_crossing_rate</th>\n",
              "      <th>mfcc1</th>\n",
              "      <th>mfcc2</th>\n",
              "      <th>mfcc3</th>\n",
              "      <th>mfcc4</th>\n",
              "      <th>...</th>\n",
              "      <th>mfcc12</th>\n",
              "      <th>mfcc13</th>\n",
              "      <th>mfcc14</th>\n",
              "      <th>mfcc15</th>\n",
              "      <th>mfcc16</th>\n",
              "      <th>mfcc17</th>\n",
              "      <th>mfcc18</th>\n",
              "      <th>mfcc19</th>\n",
              "      <th>mfcc20</th>\n",
              "      <th>label</th>\n",
              "    </tr>\n",
              "  </thead>\n",
              "  <tbody>\n",
              "    <tr>\n",
              "      <th>26</th>\n",
              "      <td>0.454327</td>\n",
              "      <td>0.058352</td>\n",
              "      <td>967.308983</td>\n",
              "      <td>1188.780388</td>\n",
              "      <td>1769.374486</td>\n",
              "      <td>0.048485</td>\n",
              "      <td>-281.642059</td>\n",
              "      <td>176.901978</td>\n",
              "      <td>4.768245</td>\n",
              "      <td>15.838964</td>\n",
              "      <td>...</td>\n",
              "      <td>0.930168</td>\n",
              "      <td>5.092219</td>\n",
              "      <td>-7.643029</td>\n",
              "      <td>6.893967</td>\n",
              "      <td>0.91358</td>\n",
              "      <td>0.428194</td>\n",
              "      <td>-6.172984</td>\n",
              "      <td>-0.538485</td>\n",
              "      <td>-0.793509</td>\n",
              "      <td>0</td>\n",
              "    </tr>\n",
              "  </tbody>\n",
              "</table>\n",
              "<p>1 rows × 27 columns</p>\n",
              "</div>\n",
              "      <button class=\"colab-df-convert\" onclick=\"convertToInteractive('df-5cf7f030-d7f7-4a97-a00f-18da76a9c653')\"\n",
              "              title=\"Convert this dataframe to an interactive table.\"\n",
              "              style=\"display:none;\">\n",
              "        \n",
              "  <svg xmlns=\"http://www.w3.org/2000/svg\" height=\"24px\"viewBox=\"0 0 24 24\"\n",
              "       width=\"24px\">\n",
              "    <path d=\"M0 0h24v24H0V0z\" fill=\"none\"/>\n",
              "    <path d=\"M18.56 5.44l.94 2.06.94-2.06 2.06-.94-2.06-.94-.94-2.06-.94 2.06-2.06.94zm-11 1L8.5 8.5l.94-2.06 2.06-.94-2.06-.94L8.5 2.5l-.94 2.06-2.06.94zm10 10l.94 2.06.94-2.06 2.06-.94-2.06-.94-.94-2.06-.94 2.06-2.06.94z\"/><path d=\"M17.41 7.96l-1.37-1.37c-.4-.4-.92-.59-1.43-.59-.52 0-1.04.2-1.43.59L10.3 9.45l-7.72 7.72c-.78.78-.78 2.05 0 2.83L4 21.41c.39.39.9.59 1.41.59.51 0 1.02-.2 1.41-.59l7.78-7.78 2.81-2.81c.8-.78.8-2.07 0-2.86zM5.41 20L4 18.59l7.72-7.72 1.47 1.35L5.41 20z\"/>\n",
              "  </svg>\n",
              "      </button>\n",
              "      \n",
              "  <style>\n",
              "    .colab-df-container {\n",
              "      display:flex;\n",
              "      flex-wrap:wrap;\n",
              "      gap: 12px;\n",
              "    }\n",
              "\n",
              "    .colab-df-convert {\n",
              "      background-color: #E8F0FE;\n",
              "      border: none;\n",
              "      border-radius: 50%;\n",
              "      cursor: pointer;\n",
              "      display: none;\n",
              "      fill: #1967D2;\n",
              "      height: 32px;\n",
              "      padding: 0 0 0 0;\n",
              "      width: 32px;\n",
              "    }\n",
              "\n",
              "    .colab-df-convert:hover {\n",
              "      background-color: #E2EBFA;\n",
              "      box-shadow: 0px 1px 2px rgba(60, 64, 67, 0.3), 0px 1px 3px 1px rgba(60, 64, 67, 0.15);\n",
              "      fill: #174EA6;\n",
              "    }\n",
              "\n",
              "    [theme=dark] .colab-df-convert {\n",
              "      background-color: #3B4455;\n",
              "      fill: #D2E3FC;\n",
              "    }\n",
              "\n",
              "    [theme=dark] .colab-df-convert:hover {\n",
              "      background-color: #434B5C;\n",
              "      box-shadow: 0px 1px 3px 1px rgba(0, 0, 0, 0.15);\n",
              "      filter: drop-shadow(0px 1px 2px rgba(0, 0, 0, 0.3));\n",
              "      fill: #FFFFFF;\n",
              "    }\n",
              "  </style>\n",
              "\n",
              "      <script>\n",
              "        const buttonEl =\n",
              "          document.querySelector('#df-5cf7f030-d7f7-4a97-a00f-18da76a9c653 button.colab-df-convert');\n",
              "        buttonEl.style.display =\n",
              "          google.colab.kernel.accessAllowed ? 'block' : 'none';\n",
              "\n",
              "        async function convertToInteractive(key) {\n",
              "          const element = document.querySelector('#df-5cf7f030-d7f7-4a97-a00f-18da76a9c653');\n",
              "          const dataTable =\n",
              "            await google.colab.kernel.invokeFunction('convertToInteractive',\n",
              "                                                     [key], {});\n",
              "          if (!dataTable) return;\n",
              "\n",
              "          const docLinkHtml = 'Like what you see? Visit the ' +\n",
              "            '<a target=\"_blank\" href=https://colab.research.google.com/notebooks/data_table.ipynb>data table notebook</a>'\n",
              "            + ' to learn more about interactive tables.';\n",
              "          element.innerHTML = '';\n",
              "          dataTable['output_type'] = 'display_data';\n",
              "          await google.colab.output.renderOutput(dataTable, element);\n",
              "          const docLink = document.createElement('div');\n",
              "          docLink.innerHTML = docLinkHtml;\n",
              "          element.appendChild(docLink);\n",
              "        }\n",
              "      </script>\n",
              "    </div>\n",
              "  </div>\n",
              "  "
            ]
          },
          "metadata": {},
          "execution_count": 208
        }
      ]
    },
    {
      "cell_type": "code",
      "source": [
        "# Divive data into x(Independent variables) and y (Target/Dependent variable) \n",
        "x_newUser = newUser.drop(\"label\", axis= 1)\n",
        "y_newUser = newUser[\"label\"]"
      ],
      "metadata": {
        "id": "tQ0WeHjmJiRd"
      },
      "execution_count": 209,
      "outputs": []
    },
    {
      "cell_type": "code",
      "source": [
        "#Separate out objects and numeric columns in x  \n",
        "cat_cols_x_newUser = x_newUser.columns[x_newUser.dtypes == 'object']\n",
        "num_cols_x_newUser = x_newUser.columns[(x_newUser.dtypes == 'float64') | (x_newUser.dtypes == 'int64')]\n",
        "# num_cols1=list(x.select_dtypes(exclude='object').columns) # can do this way also "
      ],
      "metadata": {
        "id": "Uycf7M50JtQv"
      },
      "execution_count": 210,
      "outputs": []
    },
    {
      "cell_type": "code",
      "source": [
        "#applying scalar to all numeric columns \n",
        "#from sklearn.preprocessing import StandardScaler\n",
        "#scaler = StandardScaler()\n",
        "#x_newUser[num_cols]=scaler.fit_transform(x_newUser[num_cols]) # no categorical columns, so can go with below \n",
        "x_newUser=scaler.fit_transform(x_newUser)"
      ],
      "metadata": {
        "id": "GEWVM1KGJ6qH"
      },
      "execution_count": 211,
      "outputs": []
    },
    {
      "cell_type": "code",
      "source": [
        "# Prediction on Test data set \n",
        "lr_pred_test_x_newUser = lr.predict(x_newUser)\n",
        "rf_pred_test_x_newUser = rf.predict(x_newUser)\n",
        "knn_pred_test_x_newUser = knn.predict(x_newUser)\n",
        "svc_pred_test_x_newUser = svc.predict(x_newUser)\n",
        "nb_pred_test_x_newUser = nb.predict(x_newUser)"
      ],
      "metadata": {
        "id": "9LBCwyXiKTm7"
      },
      "execution_count": 212,
      "outputs": []
    },
    {
      "cell_type": "code",
      "source": [
        "lr_pred_test_x_newUser"
      ],
      "metadata": {
        "colab": {
          "base_uri": "https://localhost:8080/"
        },
        "id": "BSdBwD1wLQQV",
        "outputId": "46ac6d3d-3c31-4396-e9a9-79ed813f68e5"
      },
      "execution_count": 213,
      "outputs": [
        {
          "output_type": "execute_result",
          "data": {
            "text/plain": [
              "array([0])"
            ]
          },
          "metadata": {},
          "execution_count": 213
        }
      ]
    },
    {
      "cell_type": "code",
      "source": [
        "y_newUser"
      ],
      "metadata": {
        "colab": {
          "base_uri": "https://localhost:8080/"
        },
        "id": "xpWA3KA-LkcJ",
        "outputId": "a97ef151-a02a-4d8f-c7f9-bac17315b25a"
      },
      "execution_count": 214,
      "outputs": [
        {
          "output_type": "execute_result",
          "data": {
            "text/plain": [
              "26    0\n",
              "Name: label, dtype: int64"
            ]
          },
          "metadata": {},
          "execution_count": 214
        }
      ]
    },
    {
      "cell_type": "code",
      "source": [
        "lr_test_score_1_newUser = 100*metrics.accuracy_score(y_newUser, lr_pred_test_x_newUser)\n",
        "rf_test_score_1_newUser = 100*metrics.accuracy_score(y_newUser, rf_pred_test_x_newUser)\n",
        "knn_test_score_1_newUser = 100*metrics.accuracy_score(y_newUser, knn_pred_test_x_newUser)\n",
        "svc_test_score_1_newUser = 100*metrics.accuracy_score(y_newUser, svc_pred_test_x_newUser)\n",
        "nb_test_score_1_newUser = 100*metrics.accuracy_score(y_newUser, nb_pred_test_x_newUser)"
      ],
      "metadata": {
        "id": "1KCPIWamKlk-"
      },
      "execution_count": 215,
      "outputs": []
    },
    {
      "cell_type": "code",
      "source": [
        "print(\"Test Accuracy score of LR = \",lr_test_score_1_newUser)\n",
        "print(\"Test Accuracy score of RF = \",rf_test_score_1_newUser)\n",
        "print(\"Test Accuracy score of KNN = \",knn_test_score_1_newUser)\n",
        "print(\"Test Accuracy score of SVC = \",svc_test_score_1_newUser)\n",
        "print(\"Test Accuracy score of NB = \",nb_test_score_1_newUser)"
      ],
      "metadata": {
        "colab": {
          "base_uri": "https://localhost:8080/"
        },
        "id": "zJsi-R_RK8Ci",
        "outputId": "ecb52721-f9c3-48f0-bb6b-0c90f3d3b8e7"
      },
      "execution_count": 216,
      "outputs": [
        {
          "output_type": "stream",
          "name": "stdout",
          "text": [
            "Test Accuracy score of LR =  100.0\n",
            "Test Accuracy score of RF =  100.0\n",
            "Test Accuracy score of KNN =  100.0\n",
            "Test Accuracy score of SVC =  100.0\n",
            "Test Accuracy score of NB =  100.0\n"
          ]
        }
      ]
    },
    {
      "cell_type": "code",
      "source": [
        "predVals_newUser = pd.DataFrame(data={'truth': y_newUser, \n",
        "                              'Logisticregression': lr_pred_test_x_newUser, \n",
        "                              'RandomForest': rf_pred_test_x_newUser, \n",
        "                              'KNN': knn_pred_test_x_newUser, \n",
        "                              'SVC': svc_pred_test_x_newUser, \n",
        "                              'NaiveBayes': nb_pred_test_x_newUser})"
      ],
      "metadata": {
        "id": "UWgZyT6ILGJy"
      },
      "execution_count": 217,
      "outputs": []
    },
    {
      "cell_type": "code",
      "source": [
        "predVals_newUser"
      ],
      "metadata": {
        "colab": {
          "base_uri": "https://localhost:8080/",
          "height": 80
        },
        "id": "as6Rh6O1W_Ym",
        "outputId": "606c24ea-42c5-4ba5-bd7a-08439286aadd"
      },
      "execution_count": 219,
      "outputs": [
        {
          "output_type": "execute_result",
          "data": {
            "text/plain": [
              "    truth  Logisticregression  RandomForest  KNN  SVC  NaiveBayes\n",
              "26      0                   0             0    0    0           0"
            ],
            "text/html": [
              "\n",
              "  <div id=\"df-4629971a-c2b5-455e-b202-bdb6287e38fd\">\n",
              "    <div class=\"colab-df-container\">\n",
              "      <div>\n",
              "<style scoped>\n",
              "    .dataframe tbody tr th:only-of-type {\n",
              "        vertical-align: middle;\n",
              "    }\n",
              "\n",
              "    .dataframe tbody tr th {\n",
              "        vertical-align: top;\n",
              "    }\n",
              "\n",
              "    .dataframe thead th {\n",
              "        text-align: right;\n",
              "    }\n",
              "</style>\n",
              "<table border=\"1\" class=\"dataframe\">\n",
              "  <thead>\n",
              "    <tr style=\"text-align: right;\">\n",
              "      <th></th>\n",
              "      <th>truth</th>\n",
              "      <th>Logisticregression</th>\n",
              "      <th>RandomForest</th>\n",
              "      <th>KNN</th>\n",
              "      <th>SVC</th>\n",
              "      <th>NaiveBayes</th>\n",
              "    </tr>\n",
              "  </thead>\n",
              "  <tbody>\n",
              "    <tr>\n",
              "      <th>26</th>\n",
              "      <td>0</td>\n",
              "      <td>0</td>\n",
              "      <td>0</td>\n",
              "      <td>0</td>\n",
              "      <td>0</td>\n",
              "      <td>0</td>\n",
              "    </tr>\n",
              "  </tbody>\n",
              "</table>\n",
              "</div>\n",
              "      <button class=\"colab-df-convert\" onclick=\"convertToInteractive('df-4629971a-c2b5-455e-b202-bdb6287e38fd')\"\n",
              "              title=\"Convert this dataframe to an interactive table.\"\n",
              "              style=\"display:none;\">\n",
              "        \n",
              "  <svg xmlns=\"http://www.w3.org/2000/svg\" height=\"24px\"viewBox=\"0 0 24 24\"\n",
              "       width=\"24px\">\n",
              "    <path d=\"M0 0h24v24H0V0z\" fill=\"none\"/>\n",
              "    <path d=\"M18.56 5.44l.94 2.06.94-2.06 2.06-.94-2.06-.94-.94-2.06-.94 2.06-2.06.94zm-11 1L8.5 8.5l.94-2.06 2.06-.94-2.06-.94L8.5 2.5l-.94 2.06-2.06.94zm10 10l.94 2.06.94-2.06 2.06-.94-2.06-.94-.94-2.06-.94 2.06-2.06.94z\"/><path d=\"M17.41 7.96l-1.37-1.37c-.4-.4-.92-.59-1.43-.59-.52 0-1.04.2-1.43.59L10.3 9.45l-7.72 7.72c-.78.78-.78 2.05 0 2.83L4 21.41c.39.39.9.59 1.41.59.51 0 1.02-.2 1.41-.59l7.78-7.78 2.81-2.81c.8-.78.8-2.07 0-2.86zM5.41 20L4 18.59l7.72-7.72 1.47 1.35L5.41 20z\"/>\n",
              "  </svg>\n",
              "      </button>\n",
              "      \n",
              "  <style>\n",
              "    .colab-df-container {\n",
              "      display:flex;\n",
              "      flex-wrap:wrap;\n",
              "      gap: 12px;\n",
              "    }\n",
              "\n",
              "    .colab-df-convert {\n",
              "      background-color: #E8F0FE;\n",
              "      border: none;\n",
              "      border-radius: 50%;\n",
              "      cursor: pointer;\n",
              "      display: none;\n",
              "      fill: #1967D2;\n",
              "      height: 32px;\n",
              "      padding: 0 0 0 0;\n",
              "      width: 32px;\n",
              "    }\n",
              "\n",
              "    .colab-df-convert:hover {\n",
              "      background-color: #E2EBFA;\n",
              "      box-shadow: 0px 1px 2px rgba(60, 64, 67, 0.3), 0px 1px 3px 1px rgba(60, 64, 67, 0.15);\n",
              "      fill: #174EA6;\n",
              "    }\n",
              "\n",
              "    [theme=dark] .colab-df-convert {\n",
              "      background-color: #3B4455;\n",
              "      fill: #D2E3FC;\n",
              "    }\n",
              "\n",
              "    [theme=dark] .colab-df-convert:hover {\n",
              "      background-color: #434B5C;\n",
              "      box-shadow: 0px 1px 3px 1px rgba(0, 0, 0, 0.15);\n",
              "      filter: drop-shadow(0px 1px 2px rgba(0, 0, 0, 0.3));\n",
              "      fill: #FFFFFF;\n",
              "    }\n",
              "  </style>\n",
              "\n",
              "      <script>\n",
              "        const buttonEl =\n",
              "          document.querySelector('#df-4629971a-c2b5-455e-b202-bdb6287e38fd button.colab-df-convert');\n",
              "        buttonEl.style.display =\n",
              "          google.colab.kernel.accessAllowed ? 'block' : 'none';\n",
              "\n",
              "        async function convertToInteractive(key) {\n",
              "          const element = document.querySelector('#df-4629971a-c2b5-455e-b202-bdb6287e38fd');\n",
              "          const dataTable =\n",
              "            await google.colab.kernel.invokeFunction('convertToInteractive',\n",
              "                                                     [key], {});\n",
              "          if (!dataTable) return;\n",
              "\n",
              "          const docLinkHtml = 'Like what you see? Visit the ' +\n",
              "            '<a target=\"_blank\" href=https://colab.research.google.com/notebooks/data_table.ipynb>data table notebook</a>'\n",
              "            + ' to learn more about interactive tables.';\n",
              "          element.innerHTML = '';\n",
              "          dataTable['output_type'] = 'display_data';\n",
              "          await google.colab.output.renderOutput(dataTable, element);\n",
              "          const docLink = document.createElement('div');\n",
              "          docLink.innerHTML = docLinkHtml;\n",
              "          element.appendChild(docLink);\n",
              "        }\n",
              "      </script>\n",
              "    </div>\n",
              "  </div>\n",
              "  "
            ]
          },
          "metadata": {},
          "execution_count": 219
        }
      ]
    },
    {
      "cell_type": "code",
      "source": [],
      "metadata": {
        "id": "iAl-UHtmXyiA"
      },
      "execution_count": null,
      "outputs": []
    }
  ]
}